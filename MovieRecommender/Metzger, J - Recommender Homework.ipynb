{
 "cells": [
  {
   "cell_type": "markdown",
   "metadata": {},
   "source": [
    "# Movie Recommender Assignment\n",
    "### By Jacob Metzger\n",
    "### Due 04/25/2016"
   ]
  },
  {
   "cell_type": "code",
   "execution_count": 1,
   "metadata": {
    "collapsed": false
   },
   "outputs": [],
   "source": [
    "import pandas as pd\n",
    "import numpy as np\n",
    "from __future__ import division"
   ]
  },
  {
   "cell_type": "code",
   "execution_count": 2,
   "metadata": {
    "collapsed": false
   },
   "outputs": [],
   "source": [
    "# Import class movie reviews -- these have been slightly cleaned using Excel.\n",
    "M = pd.read_csv(\"\"\"MovieReviews.csv\"\"\", index_col='Name')"
   ]
  },
  {
   "cell_type": "code",
   "execution_count": 3,
   "metadata": {
    "collapsed": false
   },
   "outputs": [],
   "source": [
    "# Calculates Pearson's r\n",
    "def pearson(s1, s2):\n",
    "    \"\"\"Take two pd.Series objects and return a pearson correlation.\"\"\"\n",
    "    s1_c = s1 - s1.mean()\n",
    "    s2_c = s2 - s2.mean()\n",
    "    return np.sum(s1_c * s2_c) / np.sqrt(np.sum(s1_c ** 2) * np.sum(s2_c ** 2))"
   ]
  },
  {
   "cell_type": "code",
   "execution_count": 4,
   "metadata": {
    "collapsed": false
   },
   "outputs": [],
   "source": [
    "# Provided by in assignment by Mike Bernico\n",
    "# Returns num most similar items to movie_name in M\n",
    "# Note: This need not be a movie.\n",
    "# For example, I use this same method later to find the most similar people to a person.\n",
    "\n",
    "def get_recs(movie_name, M, num):\n",
    "\n",
    "    import numpy as np\n",
    "    reviews = []\n",
    "    for title in M.columns:\n",
    "        if title == movie_name:\n",
    "            continue\n",
    "        cor = pearson(M[movie_name], M[title])\n",
    "        if np.isnan(cor):\n",
    "            continue\n",
    "        else:\n",
    "            reviews.append((title, cor))\n",
    "    \n",
    "    reviews.sort(key=lambda tup: tup[1], reverse=True)\n",
    "    return reviews[:num]"
   ]
  },
  {
   "cell_type": "markdown",
   "metadata": {},
   "source": [
    "### Question 1:  What movie is most Similar to 'The fault in our stars' (60 pts)\n"
   ]
  },
  {
   "cell_type": "code",
   "execution_count": 5,
   "metadata": {
    "collapsed": false
   },
   "outputs": [
    {
     "name": "stdout",
     "output_type": "stream",
     "text": [
      "[('Godzilla', 0.32655088533483884)]\n"
     ]
    }
   ],
   "source": [
    "#Straightforward application of get_recs\n",
    "\n",
    "movieName = \"\"\"The Fault in Our Stars\"\"\"\n",
    "print get_recs(movieName, M,1)"
   ]
  },
  {
   "cell_type": "markdown",
   "metadata": {},
   "source": [
    "### Question 2:  Which movie(s) would you most like to see, based on your classmates experience? (40 pts)"
   ]
  },
  {
   "cell_type": "code",
   "execution_count": 6,
   "metadata": {
    "collapsed": false
   },
   "outputs": [
    {
     "data": {
      "text/html": [
       "<div>\n",
       "<table border=\"1\" class=\"dataframe\">\n",
       "  <thead>\n",
       "    <tr style=\"text-align: right;\">\n",
       "      <th></th>\n",
       "      <th>Recommendations</th>\n",
       "    </tr>\n",
       "  </thead>\n",
       "  <tbody>\n",
       "    <tr>\n",
       "      <th>0</th>\n",
       "      <td>American Sniper</td>\n",
       "    </tr>\n",
       "    <tr>\n",
       "      <th>1</th>\n",
       "      <td>Godzilla</td>\n",
       "    </tr>\n",
       "    <tr>\n",
       "      <th>2</th>\n",
       "      <td>The Fault in Our Stars</td>\n",
       "    </tr>\n",
       "    <tr>\n",
       "      <th>3</th>\n",
       "      <td>The Hobbit</td>\n",
       "    </tr>\n",
       "    <tr>\n",
       "      <th>4</th>\n",
       "      <td>The Lego Movie</td>\n",
       "    </tr>\n",
       "  </tbody>\n",
       "</table>\n",
       "</div>"
      ],
      "text/plain": [
       "          Recommendations\n",
       "0         American Sniper\n",
       "1                Godzilla\n",
       "2  The Fault in Our Stars\n",
       "3              The Hobbit\n",
       "4          The Lego Movie"
      ]
     },
     "execution_count": 6,
     "metadata": {},
     "output_type": "execute_result"
    }
   ],
   "source": [
    "#Grab the movies that I've seen and sort them by rating.\n",
    "moviesSeen = M.ix['Jake Metzger'].dropna()\n",
    "moviesSeen.sort_values(inplace=True, ascending=False)\n",
    "\n",
    "#Method 1\n",
    "#For each of the movies I've seen, find the movie most similar to it, leaving out duplicates.\n",
    "recommendations = [_[0][0] for _ in moviesSeen.index.map(lambda x: get_recs(x, M, 1))]\n",
    "recommendations = pd.DataFrame(np.unique(recommendations), columns=['Recommendations'])\n",
    "recommendations"
   ]
  },
  {
   "cell_type": "code",
   "execution_count": 7,
   "metadata": {
    "collapsed": false,
    "scrolled": true
   },
   "outputs": [
    {
     "data": {
      "text/html": [
       "<div>\n",
       "<table border=\"1\" class=\"dataframe\">\n",
       "  <thead>\n",
       "    <tr style=\"text-align: right;\">\n",
       "      <th></th>\n",
       "      <th>Recommendations</th>\n",
       "    </tr>\n",
       "  </thead>\n",
       "  <tbody>\n",
       "    <tr>\n",
       "      <th>0</th>\n",
       "      <td>Big Hero 6</td>\n",
       "    </tr>\n",
       "    <tr>\n",
       "      <th>1</th>\n",
       "      <td>Gone Girl</td>\n",
       "    </tr>\n",
       "    <tr>\n",
       "      <th>2</th>\n",
       "      <td>Guardians of the Galaxy</td>\n",
       "    </tr>\n",
       "    <tr>\n",
       "      <th>3</th>\n",
       "      <td>The Hobbit</td>\n",
       "    </tr>\n",
       "  </tbody>\n",
       "</table>\n",
       "</div>"
      ],
      "text/plain": [
       "           Recommendations\n",
       "0               Big Hero 6\n",
       "1                Gone Girl\n",
       "2  Guardians of the Galaxy\n",
       "3               The Hobbit"
      ]
     },
     "execution_count": 7,
     "metadata": {},
     "output_type": "execute_result"
    }
   ],
   "source": [
    "#Method 2\n",
    "#Find the 5 most similar people to me and provide their top picks, leaving out duplicates.\n",
    "\n",
    "Mprime = M.transpose() #Instead of (movie x person), get (person x movie)\n",
    "similarPeople = pd.Series(get_recs('Jake Metzger', Mprime, 5)).map(lambda _: _[0]) #The transpose lets us reuse this function!\n",
    "   \n",
    "recommendations = pd.Series(similarPeople).map(lambda x: M.ix[x].dropna().sort_values(ascending=False).index[0])\n",
    "recommendations = pd.DataFrame(np.unique(recommendations), columns = [\"Recommendations\"])\n",
    "recommendations"
   ]
  },
  {
   "cell_type": "markdown",
   "metadata": {},
   "source": [
    "### Question 3: Bonus Question...  For all the movies you haven't seen, can you predict how you'd rate them using the class reviews? (10 pts)"
   ]
  },
  {
   "cell_type": "markdown",
   "metadata": {},
   "source": [
    "#### One way to do this is to simply take the rating of the person most similar to me who has seen the movie."
   ]
  },
  {
   "cell_type": "code",
   "execution_count": 8,
   "metadata": {
    "collapsed": false,
    "scrolled": true
   },
   "outputs": [
    {
     "data": {
      "text/plain": [
       "[('American Sniper', 4.0),\n",
       " ('The Hunger Games: Mockingjay - Part 1', 3.0),\n",
       " ('Guardians of the Galaxy', 4.0),\n",
       " ('The Lego Movie', 3.0),\n",
       " ('The Hobbit', 4.0),\n",
       " ('Transformers', 2.0),\n",
       " ('Malificent', 3.0),\n",
       " ('Big Hero 6', 4.0),\n",
       " ('Godzilla', 2.0),\n",
       " ('Interstellar', 4.0),\n",
       " ('How to Train your Dragon 2', 3.0),\n",
       " ('Gone Girl', 5.0),\n",
       " ('Divergent', 4.0),\n",
       " ('The Fault in Our Stars', 3.0),\n",
       " ('Unbroken', 3.0),\n",
       " ('300: Rise of an Empire', 3.0)]"
      ]
     },
     "execution_count": 8,
     "metadata": {},
     "output_type": "execute_result"
    }
   ],
   "source": [
    "recommendations = []\n",
    "similarPeople = pd.Series(get_recs('Jake Metzger', Mprime, Mprime.size)).map(lambda _: _[0])\n",
    "\n",
    "for movie, rating in enumerate(M.ix['Jake Metzger']):\n",
    "    if np.isnan(rating):\n",
    "        for name in similarPeople:\n",
    "            if not np.isnan(M.ix[name][movie]):\n",
    "                recommendations.append((M.columns[movie], M.ix[name][movie]))\n",
    "                break\n",
    "            else:\n",
    "                continue\n",
    "    else:\n",
    "        recommendations.append(((M.columns[movie], rating)))\n",
    "recommendations"
   ]
  },
  {
   "cell_type": "markdown",
   "metadata": {},
   "source": [
    "#### Another way, analogous to the above, is to take the rating of the movie most similar to it that I have seen."
   ]
  },
  {
   "cell_type": "code",
   "execution_count": 9,
   "metadata": {
    "collapsed": false,
    "scrolled": true
   },
   "outputs": [
    {
     "data": {
      "text/plain": [
       "[('American Sniper', 5.0),\n",
       " ('The Hunger Games: Mockingjay - Part 1', 4.0),\n",
       " ('Guardians of the Galaxy', 4.0),\n",
       " ('The Lego Movie', 4.0),\n",
       " ('The Hobbit', 2.0),\n",
       " ('Transformers', 2.0),\n",
       " ('Malificent', 3.0),\n",
       " ('Big Hero 6', 4.0),\n",
       " ('Godzilla', 2.0),\n",
       " ('Interstellar', 2.0),\n",
       " ('How to Train your Dragon 2', 2.0),\n",
       " ('Gone Girl', 5.0),\n",
       " ('Divergent', 3.0),\n",
       " ('The Fault in Our Stars', 2.0),\n",
       " ('Unbroken', 2.0),\n",
       " ('300: Rise of an Empire', 3.0)]"
      ]
     },
     "execution_count": 9,
     "metadata": {},
     "output_type": "execute_result"
    }
   ],
   "source": [
    "recommendations = []\n",
    "for movie, rating in enumerate(M.ix['Jake Metzger']):\n",
    "    if np.isnan(rating):\n",
    "        similarMovies = get_recs(M.columns[movie], M, M.size)\n",
    "        for movieName, _ in similarMovies:\n",
    "            if not np.isnan(M.ix['Jake Metzger'].ix[movieName]):\n",
    "                recommendations.append((M.columns[movie], M.ix['Jake Metzger'].ix[movieName]))\n",
    "                break\n",
    "            else:\n",
    "                continue\n",
    "    else:\n",
    "        recommendations.append((M.columns[movie], rating))\n",
    "recommendations"
   ]
  },
  {
   "cell_type": "markdown",
   "metadata": {},
   "source": [
    "#### If deciding between these two methods, it would be better to pick the method that has more support. In my case, it's likely to be the person-based method rather than the movie-based method."
   ]
  },
  {
   "cell_type": "code",
   "execution_count": null,
   "metadata": {
    "collapsed": true
   },
   "outputs": [],
   "source": []
  }
 ],
 "metadata": {
  "kernelspec": {
   "display_name": "Python 2",
   "language": "python",
   "name": "python2"
  },
  "language_info": {
   "codemirror_mode": {
    "name": "ipython",
    "version": 2
   },
   "file_extension": ".py",
   "mimetype": "text/x-python",
   "name": "python",
   "nbconvert_exporter": "python",
   "pygments_lexer": "ipython2",
   "version": "2.7.11"
  }
 },
 "nbformat": 4,
 "nbformat_minor": 0
}
