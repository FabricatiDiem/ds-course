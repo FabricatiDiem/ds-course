{
 "cells": [
  {
   "cell_type": "markdown",
   "metadata": {},
   "source": [
    "# Network Analysis Assignment\n",
    "\n",
    "### Due Apr 20, 2016\n",
    "### By Jacob Metzger\n",
    "\n",
    "Using assignment prompt/notebook"
   ]
  },
  {
   "cell_type": "code",
   "execution_count": 1,
   "metadata": {
    "collapsed": false
   },
   "outputs": [],
   "source": [
    "import networkx as nx\n",
    "import pandas as pd\n",
    "import matplotlib.pyplot as plt"
   ]
  },
  {
   "cell_type": "code",
   "execution_count": 2,
   "metadata": {
    "collapsed": false
   },
   "outputs": [],
   "source": [
    "#Read in gml containing graph data\n",
    "M=nx.read_gml(\"polblogs.gml\")"
   ]
  },
  {
   "cell_type": "code",
   "execution_count": 3,
   "metadata": {
    "collapsed": false
   },
   "outputs": [],
   "source": [
    "# Turns repeated connections between nodes into a weight.\n",
    "\n",
    "# create weighted graph from M\n",
    "G = nx.Graph()\n",
    "for u,v,data in M.edges_iter(data=True):\n",
    "    if G.has_edge(u,v):\n",
    "        G[u][v]['weight'] += 1\n",
    "    else:\n",
    "        G.add_edge(u, v, weight=1)"
   ]
  },
  {
   "cell_type": "markdown",
   "metadata": {},
   "source": [
    "### 1.  Create a nice looking graph of the political blog network"
   ]
  },
  {
   "cell_type": "code",
   "execution_count": 4,
   "metadata": {
    "collapsed": false
   },
   "outputs": [],
   "source": [
    "#Export networkx graph for manipulation in Gephi\n",
    "nx.write_gexf(G, \"polblogs.gexf\")"
   ]
  },
  {
   "cell_type": "code",
   "execution_count": 5,
   "metadata": {
    "collapsed": false,
    "scrolled": true
   },
   "outputs": [
    {
     "data": {
      "text/html": [
       "<img src=\"networkAnalysisFromGephi.png\"/>"
      ],
      "text/plain": [
       "<IPython.core.display.Image object>"
      ]
     },
     "execution_count": 5,
     "metadata": {},
     "output_type": "execute_result"
    }
   ],
   "source": [
    "#Import resultant exported image from Gephi\n",
    "#Note: This has been filtered to display node degree>100 \n",
    "#and colored with green to blue to indicate lower to higher degree.\n",
    "#Thickness indicates the weight of the connection.\n",
    "\n",
    "from IPython.display import Image\n",
    "from IPython.core.display import HTML \n",
    "Image(url= \"networkAnalysisFromGephi.png\")"
   ]
  },
  {
   "cell_type": "markdown",
   "metadata": {},
   "source": [
    "Just a glancing observation: It's interesting, but maybe not unexpected, that nodes that appear to be associated with a particular political perspective tend to have been located nearer to each other by the graphing algorithm."
   ]
  },
  {
   "cell_type": "markdown",
   "metadata": {},
   "source": [
    "### 2.  What are the 10 most influential blogs?"
   ]
  },
  {
   "cell_type": "code",
   "execution_count": 6,
   "metadata": {
    "collapsed": true
   },
   "outputs": [],
   "source": [
    "centrality=nx.eigenvector_centrality(G)"
   ]
  },
  {
   "cell_type": "code",
   "execution_count": 7,
   "metadata": {
    "collapsed": true
   },
   "outputs": [],
   "source": [
    "person_list = []\n",
    "for node in centrality:\n",
    "    person_list.append((node,centrality[node]))\n",
    "    \n",
    "sorted_person_list = person_list.sort(key=lambda x: x[1])"
   ]
  },
  {
   "cell_type": "code",
   "execution_count": 8,
   "metadata": {
    "collapsed": false
   },
   "outputs": [
    {
     "data": {
      "text/plain": [
       "[(u'atrios.blogspot.com', 0.19480797936637712),\n",
       " (u'dailykos.com', 0.16089740205234834),\n",
       " (u'washingtonmonthly.com', 0.14653924259836884),\n",
       " (u'digbysblog.blogspot.com', 0.14264369221718315),\n",
       " (u'bodyandsoul.typepad.com', 0.14113489174330365),\n",
       " (u'liberaloasis.com', 0.13952371571107874),\n",
       " (u'tbogg.blogspot.com', 0.1370364169982426),\n",
       " (u'corrente.blogspot.com', 0.1294175927409615),\n",
       " (u'talkingpointsmemo.com', 0.12700519780790953),\n",
       " (u'dneiwert.blogspot.com', 0.12237564692546021)]"
      ]
     },
     "execution_count": 8,
     "metadata": {},
     "output_type": "execute_result"
    }
   ],
   "source": [
    "sorted(person_list, key=lambda x: x[1], reverse=True)[0:10]"
   ]
  },
  {
   "cell_type": "markdown",
   "metadata": {},
   "source": [
    "### 3.  What are the 10 least influential blogs?\n",
    "\n"
   ]
  },
  {
   "cell_type": "code",
   "execution_count": 9,
   "metadata": {
    "collapsed": false
   },
   "outputs": [
    {
     "data": {
      "text/plain": [
       "[(u'thelonedem.com', 1.776325109755966e-72),\n",
       " (u'digital-democrat.blogspot.com', 1.776325109755966e-72),\n",
       " (u'americanworldview.tripod.com/weltansblog', 7.491540638916243e-09),\n",
       " (u'quimundus.modblog.com', 6.682929975006485e-08),\n",
       " (u'batr.org/commentary.html', 6.795517611554005e-07),\n",
       " (u'batr.net', 6.796325594929459e-07),\n",
       " (u'democratvoice.org', 1.0233388204113302e-06),\n",
       " (u'quimundus.squarespace.com', 6.061741218869533e-06),\n",
       " (u'massachusetts-liberal.com', 9.483365235734506e-06),\n",
       " (u'thingsasitis.net', 1.173624965065861e-05)]"
      ]
     },
     "execution_count": 9,
     "metadata": {},
     "output_type": "execute_result"
    }
   ],
   "source": [
    "sorted(person_list, key=lambda x: x[1], reverse=False)[0:10]"
   ]
  },
  {
   "cell_type": "markdown",
   "metadata": {},
   "source": [
    "### 4.  Answer this question for both left wing and right wing blogs seperately.  (Optional 10 Extra Credit Points)"
   ]
  },
  {
   "cell_type": "markdown",
   "metadata": {
    "collapsed": true
   },
   "source": [
    "### Right wing"
   ]
  },
  {
   "cell_type": "code",
   "execution_count": 10,
   "metadata": {
    "collapsed": false
   },
   "outputs": [],
   "source": [
    "rightWing = [u[0] for u in M.nodes(data=True) if u[1]['value']==1] #Get 'right wing' nodes"
   ]
  },
  {
   "cell_type": "code",
   "execution_count": 11,
   "metadata": {
    "collapsed": false
   },
   "outputs": [],
   "source": [
    "# Turns repeated connections between nodes into a weight.\n",
    "# create weighted graph from M\n",
    "R = nx.Graph()\n",
    "for u,v,data in M.edges_iter(data=True):\n",
    "    #print u\n",
    "    if (u not in rightWing) or (v not in rightWing): #Filter out the ones we don't want\n",
    "        continue\n",
    "    if R.has_edge(u,v):\n",
    "        R[u][v]['weight'] += 1\n",
    "    else:\n",
    "        R.add_edge(u, v, weight=1)"
   ]
  },
  {
   "cell_type": "code",
   "execution_count": 12,
   "metadata": {
    "collapsed": false
   },
   "outputs": [],
   "source": [
    "centrality=nx.eigenvector_centrality(R)"
   ]
  },
  {
   "cell_type": "code",
   "execution_count": 13,
   "metadata": {
    "collapsed": true
   },
   "outputs": [],
   "source": [
    "person_list = []\n",
    "for node in centrality:\n",
    "    person_list.append((node,centrality[node]))\n",
    "    \n",
    "sorted_person_list = person_list.sort(key=lambda x: x[1])"
   ]
  },
  {
   "cell_type": "markdown",
   "metadata": {},
   "source": [
    "#### Most influential"
   ]
  },
  {
   "cell_type": "code",
   "execution_count": 14,
   "metadata": {
    "collapsed": false
   },
   "outputs": [
    {
     "data": {
      "text/plain": [
       "[(u'instapundit.com', 0.21139123782218378),\n",
       " (u'blogsforbush.com', 0.20315985849713214),\n",
       " (u'hughhewitt.com', 0.1709179903989045),\n",
       " (u'lashawnbarber.com', 0.1588744333304724),\n",
       " (u'michellemalkin.com', 0.1474069323583247),\n",
       " (u'powerlineblog.com', 0.1462399641016771),\n",
       " (u'wizbangblog.com', 0.14567416434521388),\n",
       " (u'littlegreenfootballs.com/weblog', 0.13915289252981464),\n",
       " (u'vodkapundit.com', 0.13681297045170163),\n",
       " (u'outsidethebeltway.com', 0.12258374528315184)]"
      ]
     },
     "execution_count": 14,
     "metadata": {},
     "output_type": "execute_result"
    }
   ],
   "source": [
    "sorted(person_list, key=lambda x: x[1], reverse=True)[0:10]"
   ]
  },
  {
   "cell_type": "markdown",
   "metadata": {},
   "source": [
    "#### Least influential"
   ]
  },
  {
   "cell_type": "code",
   "execution_count": 15,
   "metadata": {
    "collapsed": false,
    "scrolled": true
   },
   "outputs": [
    {
     "data": {
      "text/plain": [
       "[(u'poeticvalues.blogspot.com', 5.073078363712568e-28),\n",
       " (u'markheimonen.blogspot.com', 5.073078363712568e-28),\n",
       " (u'americanworldview.tripod.com/weltansblog', 5.687509322811977e-22),\n",
       " (u'neoconswatch.blogspot.com', 1.090755983979966e-21),\n",
       " (u'batr.org/commentary.html', 1.5164293652458691e-21),\n",
       " (u'batr.net', 1.6179756529287944e-21),\n",
       " (u'quimundus.modblog.com', 3.8876319746756727e-07),\n",
       " (u'imprescindibile.ilcannocchiale.it', 1.66559586485033e-05),\n",
       " (u'quimundus.squarespace.com', 2.8347828965574297e-05),\n",
       " (u'depressedlonelybored.typepad.com', 0.00014278027072298573)]"
      ]
     },
     "execution_count": 15,
     "metadata": {},
     "output_type": "execute_result"
    }
   ],
   "source": [
    "sorted(person_list, key=lambda x: x[1], reverse=False)[0:10]"
   ]
  },
  {
   "cell_type": "markdown",
   "metadata": {},
   "source": [
    "### Left wing"
   ]
  },
  {
   "cell_type": "code",
   "execution_count": 16,
   "metadata": {
    "collapsed": true
   },
   "outputs": [],
   "source": [
    "leftWing = [u[0] for u in M.nodes(data=True) if u[1]['value']==0] #Get 'left wing' nodes"
   ]
  },
  {
   "cell_type": "code",
   "execution_count": 17,
   "metadata": {
    "collapsed": true
   },
   "outputs": [],
   "source": [
    "# Turns repeated connections between nodes into a weight.\n",
    "# create weighted graph from M\n",
    "L = nx.Graph()\n",
    "for u,v,data in M.edges_iter(data=True):\n",
    "    #print u\n",
    "    if (u not in leftWing) or (v not in leftWing): #Filter out the ones we don't want.\n",
    "        continue\n",
    "    if L.has_edge(u,v):\n",
    "        L[u][v]['weight'] += 1\n",
    "    else:\n",
    "        L.add_edge(u, v, weight=1)"
   ]
  },
  {
   "cell_type": "code",
   "execution_count": 18,
   "metadata": {
    "collapsed": true
   },
   "outputs": [],
   "source": [
    "centrality=nx.eigenvector_centrality(L)"
   ]
  },
  {
   "cell_type": "code",
   "execution_count": 19,
   "metadata": {
    "collapsed": true
   },
   "outputs": [],
   "source": [
    "person_list = []\n",
    "for node in centrality:\n",
    "    person_list.append((node,centrality[node]))\n",
    "    \n",
    "sorted_person_list = person_list.sort(key=lambda x: x[1])"
   ]
  },
  {
   "cell_type": "markdown",
   "metadata": {},
   "source": [
    "#### Most influential"
   ]
  },
  {
   "cell_type": "code",
   "execution_count": 20,
   "metadata": {
    "collapsed": false
   },
   "outputs": [
    {
     "data": {
      "text/plain": [
       "[(u'atrios.blogspot.com', 0.20960069262288047),\n",
       " (u'dailykos.com', 0.16836966726258357),\n",
       " (u'bodyandsoul.typepad.com', 0.15679455118140725),\n",
       " (u'liberaloasis.com', 0.15611669689292246),\n",
       " (u'digbysblog.blogspot.com', 0.15543641689579624),\n",
       " (u'tbogg.blogspot.com', 0.1501036544219528),\n",
       " (u'corrente.blogspot.com', 0.14485933101755427),\n",
       " (u'washingtonmonthly.com', 0.1396814941740542),\n",
       " (u'dneiwert.blogspot.com', 0.13474938566339847),\n",
       " (u'pandagon.net', 0.13295188387217463)]"
      ]
     },
     "execution_count": 20,
     "metadata": {},
     "output_type": "execute_result"
    }
   ],
   "source": [
    "sorted(person_list, key=lambda x: x[1], reverse=True)[0:10]"
   ]
  },
  {
   "cell_type": "markdown",
   "metadata": {},
   "source": [
    "#### Least influential"
   ]
  },
  {
   "cell_type": "code",
   "execution_count": 21,
   "metadata": {
    "collapsed": false
   },
   "outputs": [
    {
     "data": {
      "text/plain": [
       "[(u'thelonedem.com', 2.3485107549626825e-19),\n",
       " (u'digital-democrat.blogspot.com', 2.3485107549626825e-19),\n",
       " (u'democratvoice.org', 2.3485107549626825e-19),\n",
       " (u'enemykombatant.blogspot.com', 2.3485107549626825e-19),\n",
       " (u'vernsblog.thegillfamily.us:8180', 7.219003827223708e-06),\n",
       " (u'massachusetts-liberal.com', 1.1209610884941808e-05),\n",
       " (u'thingsasitis.net', 1.2208135676401794e-05),\n",
       " (u'loveamericahatebush.com', 2.252119420762977e-05),\n",
       " (u'eltcamerica.blogspot.com', 2.5858542294598836e-05),\n",
       " (u'usademocrazy.blogspot.com', 3.54472969651666e-05)]"
      ]
     },
     "execution_count": 21,
     "metadata": {},
     "output_type": "execute_result"
    }
   ],
   "source": [
    "sorted(person_list, key=lambda x: x[1], reverse=False)[0:10]"
   ]
  },
  {
   "cell_type": "code",
   "execution_count": null,
   "metadata": {
    "collapsed": true
   },
   "outputs": [],
   "source": []
  }
 ],
 "metadata": {
  "kernelspec": {
   "display_name": "Python 2",
   "language": "python",
   "name": "python2"
  },
  "language_info": {
   "codemirror_mode": {
    "name": "ipython",
    "version": 2
   },
   "file_extension": ".py",
   "mimetype": "text/x-python",
   "name": "python",
   "nbconvert_exporter": "python",
   "pygments_lexer": "ipython2",
   "version": "2.7.11"
  }
 },
 "nbformat": 4,
 "nbformat_minor": 0
}
