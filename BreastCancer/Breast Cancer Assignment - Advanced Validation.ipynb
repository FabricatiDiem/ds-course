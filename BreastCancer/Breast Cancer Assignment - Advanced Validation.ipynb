{
 "cells": [
  {
   "cell_type": "markdown",
   "metadata": {},
   "source": [
    "# Breast Cancer Assignment - Advanced Validation\n",
    "\n",
    "### Due 03/14/2016\n",
    "### By Jacob Metzger\n",
    "\n",
    "0.  Using breast_cancer.csv, create a random forest model that predicts malignant given the other relevant variables.  Use a single holdout (test/train split).  Use Grid Search to optimize model hyperparameters.  Measure the model's performance using AUC, Accuracy, Precision, and Recall.\n",
    "\n",
    "1.  Implement K-Fold Cross Validation, with 10 folds, on your Breast Cancer Model\n",
    "\n",
    "2.  Report on how the K-Fold CV score compared to your single holdout AUC\n",
    "\n",
    "3.  Write a short description of your model's performance.   Include AUC, Accuracy, Precision, and Recall in your discussion."
   ]
  },
  {
   "cell_type": "code",
   "execution_count": 1,
   "metadata": {
    "collapsed": true
   },
   "outputs": [],
   "source": [
    "from __future__ import division #for floating division\n",
    "import pandas as pd\n",
    "import numpy as np\n",
    "from sklearn.metrics import roc_auc_score, accuracy_score\n",
    "%matplotlib inline\n",
    "np.random.seed(314) # Set for reproducibility. "
   ]
  },
  {
   "cell_type": "code",
   "execution_count": 2,
   "metadata": {
    "collapsed": true
   },
   "outputs": [],
   "source": [
    "# The following is clipped from the Random Forests == Awesome notebook in the course notes\n",
    "\n",
    "# Here is a simple function to show descriptive stats on the categorical variables\n",
    "def describe_categorical(X):\n",
    "    \"\"\"\n",
    "    Just like .describe(), but returns the results for\n",
    "    categorical variables only.\n",
    "    \"\"\"\n",
    "    from IPython.display import display, HTML\n",
    "    display(HTML(X[X.columns[X.dtypes == \"object\"]].describe().to_html()))"
   ]
  },
  {
   "cell_type": "code",
   "execution_count": 3,
   "metadata": {
    "collapsed": true
   },
   "outputs": [],
   "source": [
    "#Another function taken from the Random Forests == Awesome notebook from the course page\n",
    "\n",
    "# Look at all the columns in the dataset\n",
    "def printall(X, max_rows=10):\n",
    "    from IPython.display import display, HTML\n",
    "    display(HTML(X.to_html(max_rows=max_rows)))"
   ]
  },
  {
   "cell_type": "code",
   "execution_count": 4,
   "metadata": {
    "collapsed": true
   },
   "outputs": [],
   "source": [
    "X = pd.read_csv(\"breast_cancer.csv\")"
   ]
  },
  {
   "cell_type": "code",
   "execution_count": 5,
   "metadata": {
    "collapsed": false
   },
   "outputs": [
    {
     "data": {
      "text/html": [
       "<div>\n",
       "<table border=\"1\" class=\"dataframe\">\n",
       "  <thead>\n",
       "    <tr style=\"text-align: right;\">\n",
       "      <th></th>\n",
       "      <th>Unnamed: 0</th>\n",
       "      <th>id number</th>\n",
       "      <th>clump_thickness</th>\n",
       "      <th>uniformity_of_cell_size</th>\n",
       "      <th>uniformity_of_cell_shape</th>\n",
       "      <th>marginal_adhesion</th>\n",
       "      <th>epithelial_cell_size</th>\n",
       "      <th>bare_nuclei</th>\n",
       "      <th>bland_chromatin</th>\n",
       "      <th>normal_nucleoli</th>\n",
       "      <th>mitoses</th>\n",
       "      <th>malignant</th>\n",
       "    </tr>\n",
       "  </thead>\n",
       "  <tbody>\n",
       "    <tr>\n",
       "      <th>0</th>\n",
       "      <td>0</td>\n",
       "      <td>1000025</td>\n",
       "      <td>5</td>\n",
       "      <td>1</td>\n",
       "      <td>1</td>\n",
       "      <td>1</td>\n",
       "      <td>2</td>\n",
       "      <td>1</td>\n",
       "      <td>3</td>\n",
       "      <td>1</td>\n",
       "      <td>1</td>\n",
       "      <td>0</td>\n",
       "    </tr>\n",
       "    <tr>\n",
       "      <th>1</th>\n",
       "      <td>1</td>\n",
       "      <td>1002945</td>\n",
       "      <td>5</td>\n",
       "      <td>4</td>\n",
       "      <td>4</td>\n",
       "      <td>5</td>\n",
       "      <td>7</td>\n",
       "      <td>10</td>\n",
       "      <td>3</td>\n",
       "      <td>2</td>\n",
       "      <td>1</td>\n",
       "      <td>0</td>\n",
       "    </tr>\n",
       "    <tr>\n",
       "      <th>2</th>\n",
       "      <td>2</td>\n",
       "      <td>1015425</td>\n",
       "      <td>3</td>\n",
       "      <td>1</td>\n",
       "      <td>1</td>\n",
       "      <td>1</td>\n",
       "      <td>2</td>\n",
       "      <td>2</td>\n",
       "      <td>3</td>\n",
       "      <td>1</td>\n",
       "      <td>1</td>\n",
       "      <td>0</td>\n",
       "    </tr>\n",
       "    <tr>\n",
       "      <th>3</th>\n",
       "      <td>3</td>\n",
       "      <td>1016277</td>\n",
       "      <td>6</td>\n",
       "      <td>8</td>\n",
       "      <td>8</td>\n",
       "      <td>1</td>\n",
       "      <td>3</td>\n",
       "      <td>4</td>\n",
       "      <td>3</td>\n",
       "      <td>7</td>\n",
       "      <td>1</td>\n",
       "      <td>0</td>\n",
       "    </tr>\n",
       "    <tr>\n",
       "      <th>4</th>\n",
       "      <td>4</td>\n",
       "      <td>1017023</td>\n",
       "      <td>4</td>\n",
       "      <td>1</td>\n",
       "      <td>1</td>\n",
       "      <td>3</td>\n",
       "      <td>2</td>\n",
       "      <td>1</td>\n",
       "      <td>3</td>\n",
       "      <td>1</td>\n",
       "      <td>1</td>\n",
       "      <td>0</td>\n",
       "    </tr>\n",
       "  </tbody>\n",
       "</table>\n",
       "</div>"
      ],
      "text/plain": [
       "   Unnamed: 0  id number  clump_thickness  uniformity_of_cell_size  \\\n",
       "0           0    1000025                5                        1   \n",
       "1           1    1002945                5                        4   \n",
       "2           2    1015425                3                        1   \n",
       "3           3    1016277                6                        8   \n",
       "4           4    1017023                4                        1   \n",
       "\n",
       "   uniformity_of_cell_shape  marginal_adhesion  epithelial_cell_size  \\\n",
       "0                         1                  1                     2   \n",
       "1                         4                  5                     7   \n",
       "2                         1                  1                     2   \n",
       "3                         8                  1                     3   \n",
       "4                         1                  3                     2   \n",
       "\n",
       "   bare_nuclei  bland_chromatin  normal_nucleoli  mitoses  malignant  \n",
       "0            1                3                1        1          0  \n",
       "1           10                3                2        1          0  \n",
       "2            2                3                1        1          0  \n",
       "3            4                3                7        1          0  \n",
       "4            1                3                1        1          0  "
      ]
     },
     "execution_count": 5,
     "metadata": {},
     "output_type": "execute_result"
    }
   ],
   "source": [
    "X.head()"
   ]
  },
  {
   "cell_type": "code",
   "execution_count": 6,
   "metadata": {
    "collapsed": false,
    "scrolled": true
   },
   "outputs": [
    {
     "data": {
      "text/html": [
       "<div>\n",
       "<table border=\"1\" class=\"dataframe\">\n",
       "  <thead>\n",
       "    <tr style=\"text-align: right;\">\n",
       "      <th></th>\n",
       "      <th>Unnamed: 0</th>\n",
       "      <th>id number</th>\n",
       "      <th>clump_thickness</th>\n",
       "      <th>uniformity_of_cell_size</th>\n",
       "      <th>uniformity_of_cell_shape</th>\n",
       "      <th>marginal_adhesion</th>\n",
       "      <th>epithelial_cell_size</th>\n",
       "      <th>bare_nuclei</th>\n",
       "      <th>bland_chromatin</th>\n",
       "      <th>normal_nucleoli</th>\n",
       "      <th>mitoses</th>\n",
       "      <th>malignant</th>\n",
       "    </tr>\n",
       "  </thead>\n",
       "  <tbody>\n",
       "    <tr>\n",
       "      <th>count</th>\n",
       "      <td>699.000000</td>\n",
       "      <td>699.000000</td>\n",
       "      <td>699.000000</td>\n",
       "      <td>699.000000</td>\n",
       "      <td>699.000000</td>\n",
       "      <td>699.000000</td>\n",
       "      <td>699.000000</td>\n",
       "      <td>699.000000</td>\n",
       "      <td>699.000000</td>\n",
       "      <td>699.000000</td>\n",
       "      <td>699.000000</td>\n",
       "      <td>699.000000</td>\n",
       "    </tr>\n",
       "    <tr>\n",
       "      <th>mean</th>\n",
       "      <td>349.000000</td>\n",
       "      <td>1071704.098712</td>\n",
       "      <td>4.417740</td>\n",
       "      <td>3.134478</td>\n",
       "      <td>3.207439</td>\n",
       "      <td>2.806867</td>\n",
       "      <td>3.216023</td>\n",
       "      <td>3.440629</td>\n",
       "      <td>3.437768</td>\n",
       "      <td>2.866953</td>\n",
       "      <td>1.589413</td>\n",
       "      <td>0.344778</td>\n",
       "    </tr>\n",
       "    <tr>\n",
       "      <th>std</th>\n",
       "      <td>201.928205</td>\n",
       "      <td>617095.729819</td>\n",
       "      <td>2.815741</td>\n",
       "      <td>3.051459</td>\n",
       "      <td>2.971913</td>\n",
       "      <td>2.855379</td>\n",
       "      <td>2.214300</td>\n",
       "      <td>3.665507</td>\n",
       "      <td>2.438364</td>\n",
       "      <td>3.053634</td>\n",
       "      <td>1.715078</td>\n",
       "      <td>0.475636</td>\n",
       "    </tr>\n",
       "    <tr>\n",
       "      <th>min</th>\n",
       "      <td>0.000000</td>\n",
       "      <td>61634.000000</td>\n",
       "      <td>1.000000</td>\n",
       "      <td>1.000000</td>\n",
       "      <td>1.000000</td>\n",
       "      <td>1.000000</td>\n",
       "      <td>1.000000</td>\n",
       "      <td>-1.000000</td>\n",
       "      <td>1.000000</td>\n",
       "      <td>1.000000</td>\n",
       "      <td>1.000000</td>\n",
       "      <td>0.000000</td>\n",
       "    </tr>\n",
       "    <tr>\n",
       "      <th>25%</th>\n",
       "      <td>174.500000</td>\n",
       "      <td>870688.500000</td>\n",
       "      <td>2.000000</td>\n",
       "      <td>1.000000</td>\n",
       "      <td>1.000000</td>\n",
       "      <td>1.000000</td>\n",
       "      <td>2.000000</td>\n",
       "      <td>1.000000</td>\n",
       "      <td>2.000000</td>\n",
       "      <td>1.000000</td>\n",
       "      <td>1.000000</td>\n",
       "      <td>0.000000</td>\n",
       "    </tr>\n",
       "    <tr>\n",
       "      <th>50%</th>\n",
       "      <td>349.000000</td>\n",
       "      <td>1171710.000000</td>\n",
       "      <td>4.000000</td>\n",
       "      <td>1.000000</td>\n",
       "      <td>1.000000</td>\n",
       "      <td>1.000000</td>\n",
       "      <td>2.000000</td>\n",
       "      <td>1.000000</td>\n",
       "      <td>3.000000</td>\n",
       "      <td>1.000000</td>\n",
       "      <td>1.000000</td>\n",
       "      <td>0.000000</td>\n",
       "    </tr>\n",
       "    <tr>\n",
       "      <th>75%</th>\n",
       "      <td>523.500000</td>\n",
       "      <td>1238298.000000</td>\n",
       "      <td>6.000000</td>\n",
       "      <td>5.000000</td>\n",
       "      <td>5.000000</td>\n",
       "      <td>4.000000</td>\n",
       "      <td>4.000000</td>\n",
       "      <td>5.000000</td>\n",
       "      <td>5.000000</td>\n",
       "      <td>4.000000</td>\n",
       "      <td>1.000000</td>\n",
       "      <td>1.000000</td>\n",
       "    </tr>\n",
       "    <tr>\n",
       "      <th>max</th>\n",
       "      <td>698.000000</td>\n",
       "      <td>13454352.000000</td>\n",
       "      <td>10.000000</td>\n",
       "      <td>10.000000</td>\n",
       "      <td>10.000000</td>\n",
       "      <td>10.000000</td>\n",
       "      <td>10.000000</td>\n",
       "      <td>10.000000</td>\n",
       "      <td>10.000000</td>\n",
       "      <td>10.000000</td>\n",
       "      <td>10.000000</td>\n",
       "      <td>1.000000</td>\n",
       "    </tr>\n",
       "  </tbody>\n",
       "</table>\n",
       "</div>"
      ],
      "text/plain": [
       "       Unnamed: 0        id number  clump_thickness  uniformity_of_cell_size  \\\n",
       "count  699.000000       699.000000       699.000000               699.000000   \n",
       "mean   349.000000   1071704.098712         4.417740                 3.134478   \n",
       "std    201.928205    617095.729819         2.815741                 3.051459   \n",
       "min      0.000000     61634.000000         1.000000                 1.000000   \n",
       "25%    174.500000    870688.500000         2.000000                 1.000000   \n",
       "50%    349.000000   1171710.000000         4.000000                 1.000000   \n",
       "75%    523.500000   1238298.000000         6.000000                 5.000000   \n",
       "max    698.000000  13454352.000000        10.000000                10.000000   \n",
       "\n",
       "       uniformity_of_cell_shape  marginal_adhesion  epithelial_cell_size  \\\n",
       "count                699.000000         699.000000            699.000000   \n",
       "mean                   3.207439           2.806867              3.216023   \n",
       "std                    2.971913           2.855379              2.214300   \n",
       "min                    1.000000           1.000000              1.000000   \n",
       "25%                    1.000000           1.000000              2.000000   \n",
       "50%                    1.000000           1.000000              2.000000   \n",
       "75%                    5.000000           4.000000              4.000000   \n",
       "max                   10.000000          10.000000             10.000000   \n",
       "\n",
       "       bare_nuclei  bland_chromatin  normal_nucleoli     mitoses   malignant  \n",
       "count   699.000000       699.000000       699.000000  699.000000  699.000000  \n",
       "mean      3.440629         3.437768         2.866953    1.589413    0.344778  \n",
       "std       3.665507         2.438364         3.053634    1.715078    0.475636  \n",
       "min      -1.000000         1.000000         1.000000    1.000000    0.000000  \n",
       "25%       1.000000         2.000000         1.000000    1.000000    0.000000  \n",
       "50%       1.000000         3.000000         1.000000    1.000000    0.000000  \n",
       "75%       5.000000         5.000000         4.000000    1.000000    1.000000  \n",
       "max      10.000000        10.000000        10.000000   10.000000    1.000000  "
      ]
     },
     "execution_count": 6,
     "metadata": {},
     "output_type": "execute_result"
    }
   ],
   "source": [
    "X.describe()"
   ]
  },
  {
   "cell_type": "markdown",
   "metadata": {},
   "source": [
    "It's worth pointing out here that since the mean of the malignant column is around 1/3, we're looking at a lopsided target variable."
   ]
  },
  {
   "cell_type": "code",
   "execution_count": 7,
   "metadata": {
    "collapsed": false
   },
   "outputs": [],
   "source": [
    "y = X.pop(\"malignant\")"
   ]
  },
  {
   "cell_type": "markdown",
   "metadata": {},
   "source": [
    "### Single-holdout test-train split"
   ]
  },
  {
   "cell_type": "code",
   "execution_count": 8,
   "metadata": {
    "collapsed": true
   },
   "outputs": [],
   "source": [
    "from sklearn.cross_validation import train_test_split\n",
    "X_train, X_test, y_train, y_test = train_test_split(X, y, test_size=0.2)"
   ]
  },
  {
   "cell_type": "code",
   "execution_count": 9,
   "metadata": {
    "collapsed": false,
    "scrolled": true
   },
   "outputs": [
    {
     "data": {
      "text/plain": [
       "RandomForestClassifier(bootstrap=True, class_weight=None, criterion='gini',\n",
       "            max_depth=None, max_features='auto', max_leaf_nodes=None,\n",
       "            min_samples_leaf=1, min_samples_split=2,\n",
       "            min_weight_fraction_leaf=0.0, n_estimators=10, n_jobs=-1,\n",
       "            oob_score=False, random_state=None, verbose=0,\n",
       "            warm_start=False)"
      ]
     },
     "execution_count": 9,
     "metadata": {},
     "output_type": "execute_result"
    }
   ],
   "source": [
    "#Create pre-optimized model\n",
    "\n",
    "from sklearn.ensemble import RandomForestClassifier\n",
    "rfModel = RandomForestClassifier(n_jobs=-1)\n",
    "rfModel.fit(X_train, y_train)"
   ]
  },
  {
   "cell_type": "markdown",
   "metadata": {},
   "source": [
    "### Implement Gridsearch for hyperparameter optimization"
   ]
  },
  {
   "cell_type": "code",
   "execution_count": 10,
   "metadata": {
    "collapsed": false
   },
   "outputs": [],
   "source": [
    "#The following commented code is adapted from lecture entitled Random Forests == Awesome\n",
    "#Remove single comment # to reproduce. Double # lines were not used.\n",
    "\n",
    "#from sklearn.grid_search import GridSearchCV\n",
    "#n_estimator_options = [200, 300, 400, 500]\n",
    "#max_features_options = [\"auto\", None, \"sqrt\", \"log2\", 0.9, 0.2]\n",
    "#min_samples_leaf_options = [1, 2, 3, 4, 5]\n",
    "##min_samples_split_options = [1,2,3,4,5]\n",
    "##max_depth_options = [1,2,3,4,5]\n",
    "##max_leaf_nodes_options = [2,3,4,5, None]\n",
    "##min_weight_fraction_leaf_options = [0.0,0.1,0.2,0.3,0.4]\n",
    "\n",
    "#estimator = GridSearchCV(rfModel, dict(\n",
    "#        n_estimators=n_estimator_options,\n",
    "#        max_features=max_features_options,\n",
    "#        min_samples_leaf=min_samples_leaf_options,\n",
    "##        min_samples_split=min_samples_split_options,\n",
    "##        max_depth=max_depth_options,\n",
    "##        max_leaf_nodes = max_leaf_nodes_options,\n",
    "##        min_weight_fraction_leaf = min_weight_fraction_leaf_options\n",
    "#    ), cv=3, n_jobs=-2, scoring=\"roc_auc\")\n",
    "\n",
    "#estimator.fit(X, y)\n",
    "\n",
    "#print estimator.best_estimator_\n",
    "\n",
    "#rfModel = estimator.best_estimator_"
   ]
  },
  {
   "cell_type": "code",
   "execution_count": 11,
   "metadata": {
    "collapsed": false
   },
   "outputs": [
    {
     "data": {
      "text/plain": [
       "RandomForestClassifier(bootstrap=True, class_weight=None, criterion='gini',\n",
       "            max_depth=None, max_features=0.2, max_leaf_nodes=None,\n",
       "            min_samples_leaf=4, min_samples_split=2,\n",
       "            min_weight_fraction_leaf=0.0, n_estimators=300, n_jobs=-2,\n",
       "            oob_score=False, random_state=42, verbose=0, warm_start=False)"
      ]
     },
     "execution_count": 11,
     "metadata": {},
     "output_type": "execute_result"
    }
   ],
   "source": [
    "# Generate model based on optimized parameters. Comment out if using the code above instead.\n",
    "\n",
    "rfModel = RandomForestClassifier(n_jobs=-2, max_features=0.2, min_samples_leaf=4, n_estimators=300, random_state=42)\n",
    "rfModel.fit(X_train, y_train) "
   ]
  },
  {
   "cell_type": "markdown",
   "metadata": {},
   "source": [
    "### Performance metrics on single-holdout model (note no confidence estimates)"
   ]
  },
  {
   "cell_type": "code",
   "execution_count": 12,
   "metadata": {
    "collapsed": false
   },
   "outputs": [
    {
     "name": "stdout",
     "output_type": "stream",
     "text": [
      "ROC:   0.956725146199\n",
      "MSE:   0.0428571428571\n",
      "Prec:  0.914893617021\n",
      "Rec:   0.955555555556\n",
      "F1:    0.934782608696\n"
     ]
    }
   ],
   "source": [
    "from sklearn.metrics import roc_auc_score, mean_squared_error, precision_score, recall_score, f1_score, adjusted_mutual_info_score\n",
    "print \"ROC:  \", roc_auc_score(y_test, rfModel.predict(X_test))\n",
    "print \"MSE:  \", mean_squared_error(y_test, rfModel.predict(X_test))\n",
    "print \"Prec: \", precision_score(y_test, rfModel.predict(X_test))\n",
    "print \"Rec:  \", recall_score(y_test, rfModel.predict(X_test))\n",
    "print \"F1:   \", f1_score(y_test, rfModel.predict(X_test))"
   ]
  },
  {
   "cell_type": "markdown",
   "metadata": {},
   "source": [
    "### Implement 10-fold Cross Validation"
   ]
  },
  {
   "cell_type": "code",
   "execution_count": 13,
   "metadata": {
    "collapsed": false
   },
   "outputs": [
    {
     "name": "stdout",
     "output_type": "stream",
     "text": [
      "ROC:   0.991584943639 +- 0.00744875957896\n",
      "MSE:   0.0299408042458 +- 0.0187908146862\n",
      "Prec:  0.950912087912 +- 0.0425340837936\n",
      "Rec:   0.967 +- 0.0231158359476\n",
      "F1:    0.957804363103 +- 0.0252544966201\n"
     ]
    }
   ],
   "source": [
    "from sklearn.cross_validation import cross_val_score\n",
    "from scipy.stats import sem\n",
    "from sklearn.metrics import make_scorer\n",
    "\n",
    "roc_scores = cross_val_score(rfModel, X, y, cv=10, scoring=\"roc_auc\", n_jobs=-2)\n",
    "\n",
    "mse_scores = cross_val_score(rfModel, X, y, cv=10, scoring=\"mean_squared_error\", n_jobs=-2) #note that this is actually negative as a scoring function\n",
    "mse_scores *= -1\n",
    "\n",
    "precision_scores = cross_val_score(rfModel, X, y, cv=10, scoring=\"precision\", n_jobs=-2)\n",
    "recall_scores = cross_val_score(rfModel, X, y, cv=10, scoring=\"recall\", n_jobs=-2)\n",
    "f1_scores = cross_val_score(rfModel, X, y, cv=10, scoring=\"f1\", n_jobs=-2)\n",
    "\n",
    "mi_scores = cross_val_score(rfModel, X,y, cv=10, scoring=make_scorer(adjusted_mutual_info_score), n_jobs=-2)\n",
    "\n",
    "print \"ROC:  \", roc_scores.mean(),\"+-\", 2.262*sem(roc_scores) #2.262 is t-value for sample size of 10\n",
    "print \"MSE:  \", mse_scores.mean(),\"+-\", 2.262*sem(mse_scores)\n",
    "print \"Prec: \", precision_scores.mean(), \"+-\", 2.262*sem(precision_scores)\n",
    "print \"Rec:  \", recall_scores.mean(), \"+-\", 2.262*sem(recall_scores)\n",
    "print \"F1:   \", f1_scores.mean(), \"+-\", 2.262*sem(f1_scores)"
   ]
  },
  {
   "cell_type": "markdown",
   "metadata": {},
   "source": [
    "### Discussion\n",
    "\n",
    "Based on the above, we can see that, in general, the 10-fold cross-validated scores for the random forest model are better than that of the single holdout. However, this isn't due to any change in the model but rather in the specific test-train split used in the single holdout. The cross-validated scores presented are averaged over 10 different test-train splits, showing that, on average, the model has a great ROC AUC score and low MSE. Further, the cross validation allows us to provide 95% confidence intervals, as a measure of the stability of the model over different data. As shown, the confidence intervals are fairly narrow, the largest being in precision. The cross-validated precision and recall scores are close to each other, being reflected in an F1 score that is also close to these scores (as their harmonic mean). The cross-validated scores are generally more trustworthy than the scores from the single holdout because they allow for a measure of performance for the model on various slices of the dataset. This helps to diagnose and deter potential overfitting because at no point is the entire dataset presented to the model at any one time, allowing for the rotating holdout portion to reasonably test the model."
   ]
  },
  {
   "cell_type": "code",
   "execution_count": null,
   "metadata": {
    "collapsed": true
   },
   "outputs": [],
   "source": []
  }
 ],
 "metadata": {
  "kernelspec": {
   "display_name": "Python 2",
   "language": "python",
   "name": "python2"
  },
  "language_info": {
   "codemirror_mode": {
    "name": "ipython",
    "version": 2
   },
   "file_extension": ".py",
   "mimetype": "text/x-python",
   "name": "python",
   "nbconvert_exporter": "python",
   "pygments_lexer": "ipython2",
   "version": "2.7.11"
  }
 },
 "nbformat": 4,
 "nbformat_minor": 0
}
