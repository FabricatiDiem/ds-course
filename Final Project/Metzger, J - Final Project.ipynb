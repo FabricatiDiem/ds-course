{
 "cells": [
  {
   "cell_type": "markdown",
   "metadata": {},
   "source": [
    "# Introduction\n",
    "\n",
    "The Consumer Financial Protection Bureau (CFPB) was founded in 2011 in response to the 2008 housing crisis in order to monitor and evaluate the financial marketplace and address consumer concerns regarding the financial sector and its products. (Cite: www.consumerfinance.gov/about-us/the-bureau). A part of the CFPB's goal regarding transparency and response to consumer concerns, the bureau provides open access to regularly updated data for the complaints it receives. The task set forth in this project is to explore the CFPB consumer complaint database (and other publically available data sources) to discover patterns or trends that may be of interest for financial sector companies seeking to take a proactive approach to addressing perceived problems in products or practices. \n",
    "\n",
    "# Scope\n",
    "\n",
    "For the purpose of this project, I have elected to concentrate analysis on the complaints received for the continental United States, leaving out (where applicable) considerations for Alaska, Hawaii, and US territories such as Puerto Rico and the Virgin Islands. I have also dropped consideration of the free-form text of the consumer narrative (where applicable), as these were few to begin with and exploration of that text would fall outside of the intended, more general scope of this project.\n",
    "\n",
    "# Datasets\n",
    "\n",
    "## Primary Sources\n",
    "\n",
    "There are three primary sources used to provide data for analysis: The Consumer Finance Bureau Consumer Complaint Database, IRS Individual Income Tax Statistics, and demographic data provided by the US Census Bureau. Each of these datasets is available publically from the web sites of the respective government agencies. In order to help with data munging and preliminary exploration, each of these datasets was imported into a Postgre database, whereafter transformed data was exported into CSV format before clustering analysis. \n",
    "\n",
    "## Transformation and Reconciliation\n",
    "\n",
    "Minor data transformations were performed on the CFPB dataset in order to facilitate alignment with the IRS income statistics and the Census Bureau demographics data. For example, the State column was transformed from state name (\"Alabama\") to state abbreviation (\"AL\"). Additionally, because the Census bureau data was aggregated on a county level and the CFPB data was aggregated by zip code, I used HUD USPS Zip Code Crosswalk data freely available from the US Department of Housing and Urban Development (www.huduser.gov/portal/datasets/usps_crosswalk.html) from  in order to translate zip codes into counties. Because counties do not always circumscribe zip codes, in the case that a zip code for an observation corresponded to multiple counties, one of these counties was chosen uniformly at random. This inevitably introduces some fine-grain inaccuracies regarding the representation of the data, but this seemed to be a reasonable solution given the lack of resolution provided between the data sets to more adequately translate the aggregations. Further, such a strategy is not expected to significantly impact the aggregated results of this project. Additionally, the Census Bureau population counts were transformed into percentages by dividing by the total county population to allow for smaller and larger counties with similar demographic profiles to be adequately compared.\n",
    "\n",
    "## Shape and Features\n",
    "\n",
    "A total of 462,939 observations are used. The merged dataset itself contains 93 attributes: 17 attributes are directly taken from the CFPB complaint dataset, 2 are attributes added to a code to help with identifying counties along with the county name, 1 is the county-level adjusted gross income calculated from the IRS dataset, and the 73 columns thereafter are county-level population demographics taken from the Census dataset. An enumeration and brief description of these column names is provided in the appendix. \n",
    "\n",
    "# Cluster Modeling\n",
    "\n",
    "A k-means algorithm was used in order to extract clustering information from this dataset. The goal in using k-means on the merged CFPB data is to identify subpopulations of consumers that have made complaints to the CFPB on their behalf. This identification can serve as the basis of a targeted action plan by those in the financial sector seeking to proactively address consumer concerns in products, processes, or practices for their own consumer bases. These cluster groups may also be of interest to those seeking to understand how different consumers in different areas of the country perceive harms by the financial industry.\n",
    "\n",
    "In order to input columns containing categorical data into k-means, one-hot encoding was used to transform these columns. This significantly increases the dimensionality of the data. However, these clustering algorithms make use of distance metrics that categorical data does not permit, so this transformation is necessary as a preliminary step. After that, the dimensionality of the data was reduced by using principal component analysis. This effectively linearly projects the data from its sparse, high-dimensional representation into a lower-dimensional space. This reduction of sparsity is meant to improve the quality of the clusters returned by k-means. Additionally, because k-means is sensitive to the parameter k, the number of clusters, an estimate of an optimal k was obtained by graphing the dispursion of the hypothetical clusters. k was chosen from this graph by selecting the value that reduces cluster dispursion while minimizing the total number of clusters introduced into the model.\n",
    "\n",
    "A downside of any unsupervised clustering model is that the resultant clusters can be difficult to interpret, since they may or may not correspond to obvious relationships or existing categories. After producing the k-means model, we use the clustering results to train a Random Forest model in order to extract key factors explaining the clustering result."
   ]
  },
  {
   "cell_type": "markdown",
   "metadata": {},
   "source": [
    "# Clustering Results"
   ]
  },
  {
   "cell_type": "markdown",
   "metadata": {},
   "source": [
    "## Determining k"
   ]
  },
  {
   "cell_type": "markdown",
   "metadata": {
    "collapsed": true
   },
   "source": [
    "<!-- ![Figure 1: Find k](findK.png) --> \n",
    "Pull out the new findk png!"
   ]
  },
  {
   "cell_type": "markdown",
   "metadata": {},
   "source": [
    "Based on cluster dispursion, it appears that k=3 is an optimal value for this analysis, though 4 and 5 may also be acceptable in other cases."
   ]
  },
  {
   "cell_type": "markdown",
   "metadata": {},
   "source": [
    "## Visualizing the k-means clusters\n",
    "<!-- ![Figure 2: 2D PCA Projection of Clusters](pca_projection_chosen.png) -->\n",
    "Pull out the new k-means clustering visual!"
   ]
  },
  {
   "cell_type": "markdown",
   "metadata": {},
   "source": [
    "Here we can see three clusters, two clearly defined and the third far to the right in a darker blue."
   ]
  },
  {
   "cell_type": "markdown",
   "metadata": {},
   "source": [
    "# Cluster Analysis via Further Modeling"
   ]
  },
  {
   "cell_type": "markdown",
   "metadata": {},
   "source": [
    "Following the clustering result from k-means, a Random Forest model was trained using the same one-hot encoded data that was fed into k-means along with the clustering results. A Random Forest model was chosen for this due to its robust nature: it tends to not overfit data, has relatively few hyperparameters, and handles outliers reasonably. Further, the Random Forest model includes an intrinsic, robust measure of its performance, called the out-of-bag score, which removes the need for a separate training and test set along with separate cross validation of the trained model. That score was used to evaluate the appropriateness of the model after training. \n",
    "\n",
    "The Random Forest ensemble model was trained with 1000 estimators and yielded an out-of-bag score of 0.9998, where a score of 1.0 would be a perfect model. After training, the model yielded a list of the most important features used in its classification. Since the importance of the individual features trails off quickly and the total number of features is very high, the top 10 features were given particular attention in the following analysis."
   ]
  },
  {
   "cell_type": "markdown",
   "metadata": {},
   "source": [
    "# Conclusion"
   ]
  },
  {
   "cell_type": "markdown",
   "metadata": {},
   "source": [
    "# Further Exploration"
   ]
  },
  {
   "cell_type": "markdown",
   "metadata": {},
   "source": [
    "# Appendix: Column Names"
   ]
  },
  {
   "cell_type": "markdown",
   "metadata": {},
   "source": [
    "| Tables        | Are           | Cool  |\n",
    "| ------------- |:-------------:| -----:|\n",
    "| col 3 is      | right-aligned | 1600 |\n",
    "| col 2 is      | centered      |   12 |\n",
    "| zebra stripes | are neat      |    1 |\n"
   ]
  },
  {
   "cell_type": "code",
   "execution_count": 1,
   "metadata": {
    "collapsed": true
   },
   "outputs": [],
   "source": [
    "#######################################################################################################################"
   ]
  },
  {
   "cell_type": "code",
   "execution_count": 2,
   "metadata": {
    "collapsed": true
   },
   "outputs": [],
   "source": [
    "#Introductory imports and helper function definitions"
   ]
  },
  {
   "cell_type": "code",
   "execution_count": 3,
   "metadata": {
    "collapsed": true
   },
   "outputs": [],
   "source": [
    "import pandas as pd\n",
    "import numpy as np\n",
    "import matplotlib.pyplot as plt\n",
    "%matplotlib inline\n",
    "import warnings\n",
    "warnings.filterwarnings('ignore')"
   ]
  },
  {
   "cell_type": "code",
   "execution_count": 4,
   "metadata": {
    "collapsed": true
   },
   "outputs": [],
   "source": [
    "def makeHistogramCategorical(data, xlabel, ylabel, title, filename=None):\n",
    "    import matplotlib.pyplot as plt\n",
    "    from matplotlib import rcParams\n",
    "    rcParams.update({'figure.autolayout': True})\n",
    "    #data = rows.CompCat.value_counts()\n",
    "    plt.figure(figsize=(8,8))\n",
    "    plt.bar(range(len(data)), data.values, align='center')\n",
    "    plt.xticks(range(len(data)), data.index.values, size='medium', rotation='vertical')\n",
    "    #plt.ylabel('Complaint Counts', size='large')\n",
    "    plt.ylabel(ylabel, size='large')\n",
    "    #plt.xlabel('Product Type', size='large')\n",
    "    plt.xlabel(xlabel, size='large')\n",
    "    #plt.title('Figure 1: Complaint Breakdown by Product Type', size='large')\n",
    "    plt.title(title, size='large')\n",
    "    #plt.gcf().subplots_adjust(bottom=0.25)\n",
    "    #plt.savefig(\"figure1.png\", format='png')\n",
    "    if filename is not None:\n",
    "        plt.savefig(filename, format='png')\n",
    "    plt.show()"
   ]
  },
  {
   "cell_type": "code",
   "execution_count": 5,
   "metadata": {
    "collapsed": true
   },
   "outputs": [],
   "source": [
    "# From Mike Bernico\n",
    "\n",
    "def find_k (X, k_range, sample_percent=1):\n",
    "    \"\"\"\n",
    "    k_range: a list of possible k values\n",
    "    X, the data we're clustering on\n",
    "    \"\"\"\n",
    "    from sklearn.cluster import KMeans\n",
    "    import matplotlib.pyplot as plt\n",
    "    import numpy as np\n",
    "    from scipy.spatial.distance import cdist\n",
    "    from sklearn.metrics import pairwise_distances\n",
    "\n",
    "    N = X.shape[0]\n",
    "    sampleSize = X.shape[0] * sample_percent\n",
    "\n",
    "    if sampleSize > 0:\n",
    "        index = np.arange(np.shape(X)[0])\n",
    "        np.random.shuffle(index)\n",
    "        X =  X[index, :]\n",
    "\n",
    "\n",
    "    mean_distortions=[]\n",
    "    for k in k_range:\n",
    "        #cluster using k, then calculate the mean distortion (average distance to closest centroid)\n",
    "        kmeans_model = KMeans(n_clusters=k, init='k-means++', n_jobs=-1).fit(X)\n",
    "        mean_distortions.append(sum(np.min(pairwise_distances(X, kmeans_model.cluster_centers_,\n",
    "                                                              metric='euclidean'),axis=1)) / X.shape[0])\n",
    "\n",
    "\n",
    "    #visualize results\n",
    "    plt.plot(k_range, mean_distortions)\n",
    "    plt.xlabel(\"K Value\")\n",
    "    plt.ylabel(\"Mean Distortion\")\n",
    "    plt.title(\"Elbow Graph for Mean Distortion per K\")\n",
    "    plt.show()\n",
    "    \n",
    "#Use example:\n",
    "\n",
    "#find_k(np.matrix(X), range(1,10),1)"
   ]
  },
  {
   "cell_type": "code",
   "execution_count": 6,
   "metadata": {
    "collapsed": true
   },
   "outputs": [],
   "source": [
    "cfpbData = pd.read_csv(\"mergedDataset.csv\")"
   ]
  },
  {
   "cell_type": "code",
   "execution_count": 7,
   "metadata": {
    "collapsed": false
   },
   "outputs": [],
   "source": [
    "statePopulations = pd.read_csv(\"statePopulations-cleaned.csv\")"
   ]
  },
  {
   "cell_type": "code",
   "execution_count": 8,
   "metadata": {
    "collapsed": true
   },
   "outputs": [],
   "source": [
    "countyPopulations = pd.read_csv(\"countyPopulations-cleaned.csv\")"
   ]
  },
  {
   "cell_type": "markdown",
   "metadata": {},
   "source": [
    "# Exploratory Data Analysis"
   ]
  },
  {
   "cell_type": "markdown",
   "metadata": {},
   "source": [
    "## General"
   ]
  },
  {
   "cell_type": "code",
   "execution_count": 9,
   "metadata": {
    "collapsed": false
   },
   "outputs": [
    {
     "data": {
      "text/plain": [
       "(462935, 93)"
      ]
     },
     "execution_count": 9,
     "metadata": {},
     "output_type": "execute_result"
    }
   ],
   "source": [
    "cfpbData.shape"
   ]
  },
  {
   "cell_type": "code",
   "execution_count": 10,
   "metadata": {
    "collapsed": false,
    "scrolled": true
   },
   "outputs": [
    {
     "data": {
      "text/html": [
       "<div>\n",
       "<table border=\"1\" class=\"dataframe\">\n",
       "  <thead>\n",
       "    <tr style=\"text-align: right;\">\n",
       "      <th></th>\n",
       "      <th>date_received</th>\n",
       "      <th>product</th>\n",
       "      <th>sub_product</th>\n",
       "      <th>issue</th>\n",
       "      <th>sub_issue</th>\n",
       "      <th>company_response</th>\n",
       "      <th>company</th>\n",
       "      <th>state_name</th>\n",
       "      <th>zip_code</th>\n",
       "      <th>tags</th>\n",
       "      <th>...</th>\n",
       "      <th>hisp_black_aoc_male</th>\n",
       "      <th>hisp_black_aoc_female</th>\n",
       "      <th>hisp_nativeam_aoc_male</th>\n",
       "      <th>hisp_nativeam_aoc_female</th>\n",
       "      <th>hisp_asian_aoc_male</th>\n",
       "      <th>hisp_asian_aoc_female</th>\n",
       "      <th>hisp_pacific_aoc_male</th>\n",
       "      <th>hisp_pacific_aoc_female</th>\n",
       "      <th>not_hisp_pacific_alone_female</th>\n",
       "      <th>hisp_nativeam_alone_female</th>\n",
       "    </tr>\n",
       "  </thead>\n",
       "  <tbody>\n",
       "    <tr>\n",
       "      <th>0</th>\n",
       "      <td>2016-04-08</td>\n",
       "      <td>Credit reporting</td>\n",
       "      <td>NaN</td>\n",
       "      <td>Incorrect information on credit report</td>\n",
       "      <td>Personal information</td>\n",
       "      <td>Company believes complaint caused principally ...</td>\n",
       "      <td>Credit Karma, Inc.</td>\n",
       "      <td>GA</td>\n",
       "      <td>30052.0</td>\n",
       "      <td>Neither</td>\n",
       "      <td>...</td>\n",
       "      <td>0.001277</td>\n",
       "      <td>0.001433</td>\n",
       "      <td>0.000836</td>\n",
       "      <td>0.000645</td>\n",
       "      <td>0.000191</td>\n",
       "      <td>0.000275</td>\n",
       "      <td>0.000155</td>\n",
       "      <td>0.000215</td>\n",
       "      <td>0.000263</td>\n",
       "      <td>0.00031</td>\n",
       "    </tr>\n",
       "    <tr>\n",
       "      <th>1</th>\n",
       "      <td>2016-03-25</td>\n",
       "      <td>Debt collection</td>\n",
       "      <td>Credit card</td>\n",
       "      <td>False statements or representation</td>\n",
       "      <td>Impersonated an attorney or official</td>\n",
       "      <td>NaN</td>\n",
       "      <td>Portfolio Recovery Associates, Inc.</td>\n",
       "      <td>GA</td>\n",
       "      <td>30012.0</td>\n",
       "      <td>Neither</td>\n",
       "      <td>...</td>\n",
       "      <td>0.001277</td>\n",
       "      <td>0.001433</td>\n",
       "      <td>0.000836</td>\n",
       "      <td>0.000645</td>\n",
       "      <td>0.000191</td>\n",
       "      <td>0.000275</td>\n",
       "      <td>0.000155</td>\n",
       "      <td>0.000215</td>\n",
       "      <td>0.000263</td>\n",
       "      <td>0.00031</td>\n",
       "    </tr>\n",
       "    <tr>\n",
       "      <th>2</th>\n",
       "      <td>2016-03-24</td>\n",
       "      <td>Credit reporting</td>\n",
       "      <td>NaN</td>\n",
       "      <td>Credit monitoring or identity protection</td>\n",
       "      <td>Problem with fraud alerts</td>\n",
       "      <td>NaN</td>\n",
       "      <td>TransUnion Intermediate Holdings, Inc.</td>\n",
       "      <td>GA</td>\n",
       "      <td>30014.0</td>\n",
       "      <td>Neither</td>\n",
       "      <td>...</td>\n",
       "      <td>0.001277</td>\n",
       "      <td>0.001433</td>\n",
       "      <td>0.000836</td>\n",
       "      <td>0.000645</td>\n",
       "      <td>0.000191</td>\n",
       "      <td>0.000275</td>\n",
       "      <td>0.000155</td>\n",
       "      <td>0.000215</td>\n",
       "      <td>0.000263</td>\n",
       "      <td>0.00031</td>\n",
       "    </tr>\n",
       "    <tr>\n",
       "      <th>3</th>\n",
       "      <td>2016-03-04</td>\n",
       "      <td>Debt collection</td>\n",
       "      <td>Credit card</td>\n",
       "      <td>Cont'd attempts collect debt not owed</td>\n",
       "      <td>Debt is not mine</td>\n",
       "      <td>NaN</td>\n",
       "      <td>Encore Capital Group</td>\n",
       "      <td>GA</td>\n",
       "      <td>30054.0</td>\n",
       "      <td>Neither</td>\n",
       "      <td>...</td>\n",
       "      <td>0.001277</td>\n",
       "      <td>0.001433</td>\n",
       "      <td>0.000836</td>\n",
       "      <td>0.000645</td>\n",
       "      <td>0.000191</td>\n",
       "      <td>0.000275</td>\n",
       "      <td>0.000155</td>\n",
       "      <td>0.000215</td>\n",
       "      <td>0.000263</td>\n",
       "      <td>0.00031</td>\n",
       "    </tr>\n",
       "    <tr>\n",
       "      <th>4</th>\n",
       "      <td>2016-03-04</td>\n",
       "      <td>Debt collection</td>\n",
       "      <td>Credit card</td>\n",
       "      <td>Cont'd attempts collect debt not owed</td>\n",
       "      <td>Debt is not mine</td>\n",
       "      <td>NaN</td>\n",
       "      <td>Encore Capital Group</td>\n",
       "      <td>GA</td>\n",
       "      <td>30054.0</td>\n",
       "      <td>Neither</td>\n",
       "      <td>...</td>\n",
       "      <td>0.001277</td>\n",
       "      <td>0.001433</td>\n",
       "      <td>0.000836</td>\n",
       "      <td>0.000645</td>\n",
       "      <td>0.000191</td>\n",
       "      <td>0.000275</td>\n",
       "      <td>0.000155</td>\n",
       "      <td>0.000215</td>\n",
       "      <td>0.000263</td>\n",
       "      <td>0.00031</td>\n",
       "    </tr>\n",
       "  </tbody>\n",
       "</table>\n",
       "<p>5 rows × 93 columns</p>\n",
       "</div>"
      ],
      "text/plain": [
       "  date_received           product  sub_product  \\\n",
       "0    2016-04-08  Credit reporting          NaN   \n",
       "1    2016-03-25   Debt collection  Credit card   \n",
       "2    2016-03-24  Credit reporting          NaN   \n",
       "3    2016-03-04   Debt collection  Credit card   \n",
       "4    2016-03-04   Debt collection  Credit card   \n",
       "\n",
       "                                      issue  \\\n",
       "0    Incorrect information on credit report   \n",
       "1        False statements or representation   \n",
       "2  Credit monitoring or identity protection   \n",
       "3     Cont'd attempts collect debt not owed   \n",
       "4     Cont'd attempts collect debt not owed   \n",
       "\n",
       "                              sub_issue  \\\n",
       "0                  Personal information   \n",
       "1  Impersonated an attorney or official   \n",
       "2             Problem with fraud alerts   \n",
       "3                      Debt is not mine   \n",
       "4                      Debt is not mine   \n",
       "\n",
       "                                    company_response  \\\n",
       "0  Company believes complaint caused principally ...   \n",
       "1                                                NaN   \n",
       "2                                                NaN   \n",
       "3                                                NaN   \n",
       "4                                                NaN   \n",
       "\n",
       "                                  company state_name  zip_code     tags  \\\n",
       "0                      Credit Karma, Inc.         GA   30052.0  Neither   \n",
       "1     Portfolio Recovery Associates, Inc.         GA   30012.0  Neither   \n",
       "2  TransUnion Intermediate Holdings, Inc.         GA   30014.0  Neither   \n",
       "3                    Encore Capital Group         GA   30054.0  Neither   \n",
       "4                    Encore Capital Group         GA   30054.0  Neither   \n",
       "\n",
       "              ...             hisp_black_aoc_male hisp_black_aoc_female  \\\n",
       "0             ...                        0.001277              0.001433   \n",
       "1             ...                        0.001277              0.001433   \n",
       "2             ...                        0.001277              0.001433   \n",
       "3             ...                        0.001277              0.001433   \n",
       "4             ...                        0.001277              0.001433   \n",
       "\n",
       "  hisp_nativeam_aoc_male hisp_nativeam_aoc_female hisp_asian_aoc_male  \\\n",
       "0               0.000836                 0.000645            0.000191   \n",
       "1               0.000836                 0.000645            0.000191   \n",
       "2               0.000836                 0.000645            0.000191   \n",
       "3               0.000836                 0.000645            0.000191   \n",
       "4               0.000836                 0.000645            0.000191   \n",
       "\n",
       "  hisp_asian_aoc_female  hisp_pacific_aoc_male  hisp_pacific_aoc_female  \\\n",
       "0              0.000275               0.000155                 0.000215   \n",
       "1              0.000275               0.000155                 0.000215   \n",
       "2              0.000275               0.000155                 0.000215   \n",
       "3              0.000275               0.000155                 0.000215   \n",
       "4              0.000275               0.000155                 0.000215   \n",
       "\n",
       "  not_hisp_pacific_alone_female  hisp_nativeam_alone_female  \n",
       "0                      0.000263                     0.00031  \n",
       "1                      0.000263                     0.00031  \n",
       "2                      0.000263                     0.00031  \n",
       "3                      0.000263                     0.00031  \n",
       "4                      0.000263                     0.00031  \n",
       "\n",
       "[5 rows x 93 columns]"
      ]
     },
     "execution_count": 10,
     "metadata": {},
     "output_type": "execute_result"
    }
   ],
   "source": [
    "cfpbData.head()"
   ]
  },
  {
   "cell_type": "markdown",
   "metadata": {},
   "source": [
    "### Complaint Breakdown by Major Product Type"
   ]
  },
  {
   "cell_type": "code",
   "execution_count": 11,
   "metadata": {
    "collapsed": false
   },
   "outputs": [
    {
     "data": {
      "text/plain": [
       "Mortgage                   164435\n",
       "Debt collection             78516\n",
       "Credit reporting            73565\n",
       "Credit card                 55869\n",
       "Bank account or service     53896\n",
       "Consumer Loan               16079\n",
       "Student loan                13038\n",
       "Payday loan                  2899\n",
       "Money transfers              2808\n",
       "Prepaid card                 1449\n",
       "Other financial service       381\n",
       "Name: product, dtype: int64"
      ]
     },
     "execution_count": 11,
     "metadata": {},
     "output_type": "execute_result"
    }
   ],
   "source": [
    "cfpbData['product'].value_counts()"
   ]
  },
  {
   "cell_type": "code",
   "execution_count": 12,
   "metadata": {
    "collapsed": false,
    "scrolled": false
   },
   "outputs": [
    {
     "data": {
      "image/png": "[encoded data removed]",
      "text/plain": [
       "<matplotlib.figure.Figure at 0x7f176fbd3390>"
      ]
     },
     "metadata": {},
     "output_type": "display_data"
    }
   ],
   "source": [
    "makeHistogramCategorical(cfpbData['product'].value_counts(), \n",
    "                         \"Product\", \n",
    "                         \"Complaint Counts\", \n",
    "                         \"Figure 1: Complaint Counts by Product\",\n",
    "                        )"
   ]
  },
  {
   "cell_type": "markdown",
   "metadata": {},
   "source": [
    "### Top 20 Complaint Issues"
   ]
  },
  {
   "cell_type": "code",
   "execution_count": 13,
   "metadata": {
    "collapsed": false,
    "scrolled": true
   },
   "outputs": [
    {
     "data": {
      "text/plain": [
       "Loan modification,collection,foreclosure    88370\n",
       "Incorrect information on credit report      54392\n",
       "Loan servicing, payments, escrow account    51459\n",
       "Cont'd attempts collect debt not owed       32679\n",
       "Account opening, closing, or management     23027\n",
       "Deposits and withdrawals                    15005\n",
       "Communication tactics                       14620\n",
       "Disclosure verification of debt             14429\n",
       "Application, originator, mortgage broker    11171\n",
       "Other                                        9537\n",
       "Billing disputes                             9353\n",
       "Credit reporting company's investigation     7852\n",
       "Problems caused by my funds being low        7810\n",
       "Managing the loan or lease                   7707\n",
       "Unable to get credit report/credit score     6397\n",
       "False statements or representation           6224\n",
       "Improper contact or sharing of info          5758\n",
       "Settlement process and costs                 5598\n",
       "Problems when you are unable to pay          5516\n",
       "Identity theft / Fraud / Embezzlement        4883\n",
       "Name: issue, dtype: int64"
      ]
     },
     "execution_count": 13,
     "metadata": {},
     "output_type": "execute_result"
    }
   ],
   "source": [
    "cfpbData['issue'].value_counts()[0:20]"
   ]
  },
  {
   "cell_type": "code",
   "execution_count": 14,
   "metadata": {
    "collapsed": false,
    "scrolled": false
   },
   "outputs": [
    {
     "data": {
      "image/png": "[encoded data removed]",
      "text/plain": [
       "<matplotlib.figure.Figure at 0x7f176fbb6ad0>"
      ]
     },
     "metadata": {},
     "output_type": "display_data"
    }
   ],
   "source": [
    "makeHistogramCategorical(cfpbData['issue'].value_counts()[0:20], \n",
    "                         \"Issue\", \n",
    "                         \"Complaint Counts\", \n",
    "                         \"Figure 2: Top 20 Complaint Issues\",\n",
    "                        )"
   ]
  },
  {
   "cell_type": "markdown",
   "metadata": {},
   "source": [
    "### Overall Adjusted Gross Income for Complaints"
   ]
  },
  {
   "cell_type": "code",
   "execution_count": 15,
   "metadata": {
    "collapsed": false,
    "scrolled": false
   },
   "outputs": [
    {
     "data": {
      "text/plain": [
       "<matplotlib.axes._subplots.AxesSubplot at 0x7f1767850590>"
      ]
     },
     "execution_count": 15,
     "metadata": {},
     "output_type": "execute_result"
    },
    {
     "data": {
      "image/png": "[encoded data removed]",
      "text/plain": [
       "<matplotlib.figure.Figure at 0x7f17689cf650>"
      ]
     },
     "metadata": {},
     "output_type": "display_data"
    }
   ],
   "source": [
    "cfpbData.CountyAGI.hist()"
   ]
  },
  {
   "cell_type": "markdown",
   "metadata": {},
   "source": [
    "### Top 20 States by Complaint Count"
   ]
  },
  {
   "cell_type": "code",
   "execution_count": 16,
   "metadata": {
    "collapsed": false
   },
   "outputs": [
    {
     "data": {
      "text/plain": [
       "CA    69004\n",
       "FL    45749\n",
       "TX    34268\n",
       "NY    33225\n",
       "GA    20606\n",
       "NJ    19332\n",
       "PA    16960\n",
       "IL    16511\n",
       "VA    15267\n",
       "MD    15071\n",
       "OH    14710\n",
       "NC    12779\n",
       "MI    12520\n",
       "AZ    10215\n",
       "WA     9604\n",
       "MA     9377\n",
       "CO     8016\n",
       "TN     6969\n",
       "MO     6094\n",
       "SC     5799\n",
       "Name: state_name, dtype: int64"
      ]
     },
     "execution_count": 16,
     "metadata": {},
     "output_type": "execute_result"
    }
   ],
   "source": [
    "cfpbData['state_name'].value_counts()[0:20]"
   ]
  },
  {
   "cell_type": "code",
   "execution_count": 17,
   "metadata": {
    "collapsed": false,
    "scrolled": true
   },
   "outputs": [
    {
     "data": {
      "image/png": "[encoded data removed]",
      "text/plain": [
       "<matplotlib.figure.Figure at 0x7f17689cfd90>"
      ]
     },
     "metadata": {},
     "output_type": "display_data"
    }
   ],
   "source": [
    "makeHistogramCategorical(cfpbData['state_name'].value_counts()[0:20], \"State\", \"Complaint Count\", \"Complaint Count by State\")"
   ]
  },
  {
   "cell_type": "markdown",
   "metadata": {},
   "source": [
    "### Top 30 Counties for CFPB Complaints"
   ]
  },
  {
   "cell_type": "code",
   "execution_count": 18,
   "metadata": {
    "collapsed": false
   },
   "outputs": [
    {
     "data": {
      "text/plain": [
       "Los Angeles County        19358\n",
       "Orange County             10292\n",
       "Cook County                8789\n",
       "Maricopa County            6975\n",
       "Broward County             6666\n",
       "Miami-Dade County          6625\n",
       "San Diego County           6590\n",
       "Montgomery County          6121\n",
       "Harris County              6004\n",
       "Clark County               5225\n",
       "Kings County               4722\n",
       "Queens County              4545\n",
       "Tarrant County             4495\n",
       "Riverside County           4483\n",
       "Dallas County              4387\n",
       "Suffolk County             4232\n",
       "Middlesex County           4200\n",
       "New York County            4173\n",
       "Palm Beach County          4087\n",
       "Prince George's County     3836\n",
       "San Bernardino County      3651\n",
       "Jefferson County           3584\n",
       "Hillsborough County        3398\n",
       "Alameda County             3303\n",
       "King County                3279\n",
       "Fulton County              3151\n",
       "Oakland County             3125\n",
       "Nassau County              3100\n",
       "Wayne County               3064\n",
       "Sacramento County          3048\n",
       "Name: county_name, dtype: int64"
      ]
     },
     "execution_count": 18,
     "metadata": {},
     "output_type": "execute_result"
    }
   ],
   "source": [
    "cfpbData['county_name'].value_counts()[0:30]"
   ]
  },
  {
   "cell_type": "code",
   "execution_count": 19,
   "metadata": {
    "collapsed": false,
    "scrolled": true
   },
   "outputs": [
    {
     "data": {
      "image/png": "[encoded data removed]",
      "text/plain": [
       "<matplotlib.figure.Figure at 0x7f176fbb6710>"
      ]
     },
     "metadata": {},
     "output_type": "display_data"
    }
   ],
   "source": [
    "makeHistogramCategorical(cfpbData['county_name'].value_counts()[0:30], \"County Name\", \"Complaint Counts\", \"Top 30 Counties by Complaint Count\")"
   ]
  },
  {
   "cell_type": "code",
   "execution_count": null,
   "metadata": {
    "collapsed": true
   },
   "outputs": [],
   "source": []
  },
  {
   "cell_type": "markdown",
   "metadata": {},
   "source": [
    "### Complaint Breakdown by Company (Top 20)"
   ]
  },
  {
   "cell_type": "code",
   "execution_count": 20,
   "metadata": {
    "collapsed": false,
    "scrolled": true
   },
   "outputs": [
    {
     "data": {
      "text/plain": [
       "Bank of America                           50888\n",
       "Wells Fargo & Company                     37443\n",
       "JPMorgan Chase & Co.                      29810\n",
       "Experian                                  25225\n",
       "Equifax                                   25184\n",
       "Citibank                                  21827\n",
       "TransUnion Intermediate Holdings, Inc.    20246\n",
       "Ocwen                                     18612\n",
       "Capital One                               13447\n",
       "Nationstar Mortgage                       11209\n",
       "U.S. Bancorp                               8193\n",
       "Synchrony Financial                        7691\n",
       "Ditech Financial LLC                       7239\n",
       "Navient Solutions, Inc.                    6610\n",
       "PNC Bank N.A.                              6199\n",
       "HSBC North America Holdings Inc.           5525\n",
       "Encore Capital Group                       5147\n",
       "Amex                                       4710\n",
       "SunTrust Banks, Inc.                       4277\n",
       "Discover                                   3958\n",
       "Name: company, dtype: int64"
      ]
     },
     "execution_count": 20,
     "metadata": {},
     "output_type": "execute_result"
    }
   ],
   "source": [
    "cfpbData['company'].value_counts()[0:20]"
   ]
  },
  {
   "cell_type": "code",
   "execution_count": 21,
   "metadata": {
    "collapsed": false,
    "scrolled": true
   },
   "outputs": [
    {
     "data": {
      "image/png": "[encoded data removed]",
      "text/plain": [
       "<matplotlib.figure.Figure at 0x7f17669d49d0>"
      ]
     },
     "metadata": {},
     "output_type": "display_data"
    }
   ],
   "source": [
    "makeHistogramCategorical(cfpbData['company'].value_counts()[0:20], \"Company Name\", \"Complaint Count\", \"Complaint Breakdown by Company (Top 20)\")"
   ]
  },
  {
   "cell_type": "markdown",
   "metadata": {},
   "source": [
    "### Customer Dispute Counts"
   ]
  },
  {
   "cell_type": "code",
   "execution_count": 22,
   "metadata": {
    "collapsed": false
   },
   "outputs": [
    {
     "data": {
      "text/plain": [
       "No     371119\n",
       "Yes     91816\n",
       "Name: consumer_disputed, dtype: int64"
      ]
     },
     "execution_count": 22,
     "metadata": {},
     "output_type": "execute_result"
    }
   ],
   "source": [
    "cfpbData['consumer_disputed'].value_counts()"
   ]
  },
  {
   "cell_type": "code",
   "execution_count": 23,
   "metadata": {
    "collapsed": false,
    "scrolled": true
   },
   "outputs": [
    {
     "data": {
      "image/png": "[encoded data removed]",
      "text/plain": [
       "<matplotlib.figure.Figure at 0x7f1766941810>"
      ]
     },
     "metadata": {},
     "output_type": "display_data"
    }
   ],
   "source": [
    "makeHistogramCategorical(cfpbData['consumer_disputed'].value_counts(), \"Customer Disputed\", \"Complaint Counts\", \"Customer Disputed Company Response\")"
   ]
  },
  {
   "cell_type": "markdown",
   "metadata": {
    "collapsed": true
   },
   "source": [
    "## Mortgage"
   ]
  },
  {
   "cell_type": "markdown",
   "metadata": {},
   "source": [
    "### Mortgage Issue Complaint Counts and Breakdown"
   ]
  },
  {
   "cell_type": "code",
   "execution_count": 24,
   "metadata": {
    "collapsed": false
   },
   "outputs": [
    {
     "data": {
      "text/plain": [
       "Loan modification,collection,foreclosure    88370\n",
       "Loan servicing, payments, escrow account    51459\n",
       "Application, originator, mortgage broker    11171\n",
       "Settlement process and costs                 5598\n",
       "Other                                        4154\n",
       "Credit decision / Underwriting               3683\n",
       "Name: issue, dtype: int64"
      ]
     },
     "execution_count": 24,
     "metadata": {},
     "output_type": "execute_result"
    }
   ],
   "source": [
    "cfpbData.query(\"\"\"product=='Mortgage'\"\"\")['issue'].value_counts()"
   ]
  },
  {
   "cell_type": "code",
   "execution_count": 25,
   "metadata": {
    "collapsed": false
   },
   "outputs": [
    {
     "data": {
      "image/png": "[encoded data removed]",
      "text/plain": [
       "<matplotlib.figure.Figure at 0x7f17a31430d0>"
      ]
     },
     "metadata": {},
     "output_type": "display_data"
    }
   ],
   "source": [
    "makeHistogramCategorical(cfpbData.query(\"\"\"product=='Mortgage'\"\"\")['issue'].value_counts(), \"Mortgage Issue\", \"Complaint Count\", \"Complaint Counts for Mortgage Issues\")"
   ]
  },
  {
   "cell_type": "markdown",
   "metadata": {},
   "source": [
    "### Mortgage Complaints by County (Top 30)"
   ]
  },
  {
   "cell_type": "code",
   "execution_count": 26,
   "metadata": {
    "collapsed": false
   },
   "outputs": [
    {
     "data": {
      "image/png": "[encoded data removed]",
      "text/plain": [
       "<matplotlib.figure.Figure at 0x7f1766887f50>"
      ]
     },
     "metadata": {},
     "output_type": "display_data"
    }
   ],
   "source": [
    "makeHistogramCategorical(cfpbData.query(\"\"\"product=='Mortgage'\"\"\")['county_name'].value_counts()[0:30], \"County Name\", \"Complaint Counts\", \"Top 30 Counties by Complaint Count\")"
   ]
  },
  {
   "cell_type": "markdown",
   "metadata": {},
   "source": [
    "### Top 20 States for Mortgage-related Complaints"
   ]
  },
  {
   "cell_type": "code",
   "execution_count": 27,
   "metadata": {
    "collapsed": false
   },
   "outputs": [
    {
     "data": {
      "text/plain": [
       "CA    29394\n",
       "FL    18555\n",
       "NY    10391\n",
       "GA     8454\n",
       "TX     7708\n",
       "NJ     7617\n",
       "MD     6367\n",
       "IL     5471\n",
       "PA     5323\n",
       "MI     5300\n",
       "VA     5084\n",
       "NC     4873\n",
       "OH     4709\n",
       "AZ     3815\n",
       "WA     3751\n",
       "MA     3246\n",
       "CO     2860\n",
       "MO     2086\n",
       "MN     2076\n",
       "TN     2035\n",
       "Name: state_name, dtype: int64"
      ]
     },
     "execution_count": 27,
     "metadata": {},
     "output_type": "execute_result"
    }
   ],
   "source": [
    "cfpbData.query('product==\"Mortgage\"')['state_name'].value_counts()[0:20]"
   ]
  },
  {
   "cell_type": "code",
   "execution_count": 28,
   "metadata": {
    "collapsed": false
   },
   "outputs": [
    {
     "data": {
      "image/png": "[encoded data removed]",
      "text/plain": [
       "<matplotlib.figure.Figure at 0x7f1766abe890>"
      ]
     },
     "metadata": {},
     "output_type": "display_data"
    }
   ],
   "source": [
    "makeHistogramCategorical(cfpbData.query('product==\"Mortgage\"')['state_name'].value_counts()[0:20], \"State\", \"Complaint Count\", \"Mortgage Complaint Count by State\")"
   ]
  },
  {
   "cell_type": "markdown",
   "metadata": {},
   "source": [
    "Interesting note: A good number of these states have either judicial foreclosure proceedings or enhanced legislation regarding foreclosure procedures. For example, California has a Homeowner Bill of Rights (http://oag.ca.gov/hbor); Florida, New York, New Jersey, Maryland, Illinois, Pennsylvania, Ohio, and Massachusetts all have judicial-only foreclosure processes, as opposed to non-judicial foreclosure procedings made in other states (http://www.nolo.com/legal-encyclopedia/chart-judicial-v-nonjudicial-foreclosures.html, http://www.realtytrac.com/real-estate-guides/foreclosure-laws/)."
   ]
  },
  {
   "cell_type": "code",
   "execution_count": null,
   "metadata": {
    "collapsed": true
   },
   "outputs": [],
   "source": []
  },
  {
   "cell_type": "markdown",
   "metadata": {},
   "source": [
    "### Top 20 States by Judicial or Enhanced vs Non-Judicial Foreclosure [Mortgage]"
   ]
  },
  {
   "cell_type": "code",
   "execution_count": 29,
   "metadata": {
    "collapsed": false,
    "scrolled": true
   },
   "outputs": [
    {
     "data": {
      "text/plain": [
       "CA    29394\n",
       "FL    18555\n",
       "NY    10391\n",
       "GA     8454\n",
       "TX     7708\n",
       "NJ     7617\n",
       "MD     6367\n",
       "IL     5471\n",
       "PA     5323\n",
       "MI     5300\n",
       "VA     5084\n",
       "NC     4873\n",
       "OH     4709\n",
       "AZ     3815\n",
       "WA     3751\n",
       "MA     3246\n",
       "CO     2860\n",
       "MO     2086\n",
       "MN     2076\n",
       "TN     2035\n",
       "Name: state_name, dtype: int64"
      ]
     },
     "execution_count": 29,
     "metadata": {},
     "output_type": "execute_result"
    }
   ],
   "source": [
    "top20counts = cfpbData.query('product==\"Mortgage\"')['state_name'].value_counts()[0:20]\n",
    "top20counts"
   ]
  },
  {
   "cell_type": "code",
   "execution_count": 30,
   "metadata": {
    "collapsed": false
   },
   "outputs": [
    {
     "name": "stdout",
     "output_type": "stream",
     "text": [
      "From the top 20 states by complaint count\n",
      "Judicial or Enhanced: \t91073  =  0.654659813823 %\n",
      "Non-judicial: \t\t48042  =  0.345340186177 %\n"
     ]
    }
   ],
   "source": [
    "### For the purpose of this calculation, California will be included in the Judical figure\n",
    "### due to its enhanced foreclosure legislation\n",
    "top20counts = cfpbData.query('product==\"Mortgage\"')['state_name'].value_counts()[0:20]\n",
    "sumJudicial = 0\n",
    "\n",
    "for state in ['CA', 'FL', 'NY', 'NJ', 'MD', 'IL', 'PA', 'OH', 'MA']:\n",
    "    sumJudicial+=top20counts[state]\n",
    "\n",
    "totalTop20Counts = 0\n",
    "for v in top20counts:\n",
    "    totalTop20Counts+=v\n",
    "\n",
    "from __future__ import division\n",
    "print \"From the top 20 states by complaint count\"\n",
    "print \"Judicial or Enhanced: \\t\", sumJudicial, \" = \", sumJudicial/totalTop20Counts,\"%\"\n",
    "print \"Non-judicial: \\t\\t\", totalTop20Counts-sumJudicial, \" = \", (totalTop20Counts-sumJudicial)/totalTop20Counts,\"%\""
   ]
  },
  {
   "cell_type": "markdown",
   "metadata": {},
   "source": [
    "### AGI for Mortgage Complaints"
   ]
  },
  {
   "cell_type": "code",
   "execution_count": 31,
   "metadata": {
    "collapsed": false
   },
   "outputs": [
    {
     "data": {
      "text/plain": [
       "<matplotlib.axes._subplots.AxesSubplot at 0x7f1766a46590>"
      ]
     },
     "execution_count": 31,
     "metadata": {},
     "output_type": "execute_result"
    },
    {
     "data": {
      "image/png": "[encoded data removed]",
      "text/plain": [
       "<matplotlib.figure.Figure at 0x7f1768a9d410>"
      ]
     },
     "metadata": {},
     "output_type": "display_data"
    }
   ],
   "source": [
    "cfpbData.query(\"\"\"product == 'Mortgage'\"\"\").CountyAGI.hist()"
   ]
  },
  {
   "cell_type": "markdown",
   "metadata": {},
   "source": [
    "## Debt Collection"
   ]
  },
  {
   "cell_type": "markdown",
   "metadata": {},
   "source": [
    "### Debt Collection Issue Complaint Counts and Breakdown"
   ]
  },
  {
   "cell_type": "code",
   "execution_count": 32,
   "metadata": {
    "collapsed": false
   },
   "outputs": [
    {
     "data": {
      "text/plain": [
       "Cont'd attempts collect debt not owed    32679\n",
       "Communication tactics                    14620\n",
       "Disclosure verification of debt          14429\n",
       "False statements or representation        6224\n",
       "Improper contact or sharing of info       5758\n",
       "Taking/threatening an illegal action      4806\n",
       "Name: issue, dtype: int64"
      ]
     },
     "execution_count": 32,
     "metadata": {},
     "output_type": "execute_result"
    }
   ],
   "source": [
    "cfpbData.query(\"\"\"product=='Debt collection'\"\"\")['issue'].value_counts()"
   ]
  },
  {
   "cell_type": "code",
   "execution_count": 33,
   "metadata": {
    "collapsed": false
   },
   "outputs": [
    {
     "data": {
      "image/png": "[encoded data removed]",
      "text/plain": [
       "<matplotlib.figure.Figure at 0x7f1766887dd0>"
      ]
     },
     "metadata": {},
     "output_type": "display_data"
    }
   ],
   "source": [
    "makeHistogramCategorical(cfpbData.query(\"\"\"product=='Debt collection'\"\"\")['issue'].value_counts(), \"Debt collection issue\", \"Complaint Counts\", \"Debt Collection Issue Counts\")"
   ]
  },
  {
   "cell_type": "markdown",
   "metadata": {},
   "source": [
    "### AGI for Debt Collection Complaints"
   ]
  },
  {
   "cell_type": "code",
   "execution_count": 34,
   "metadata": {
    "collapsed": false
   },
   "outputs": [
    {
     "data": {
      "text/plain": [
       "<matplotlib.axes._subplots.AxesSubplot at 0x7f1767634310>"
      ]
     },
     "execution_count": 34,
     "metadata": {},
     "output_type": "execute_result"
    },
    {
     "data": {
      "image/png": "[encoded data removed]",
      "text/plain": [
       "<matplotlib.figure.Figure at 0x7f1766b20390>"
      ]
     },
     "metadata": {},
     "output_type": "display_data"
    }
   ],
   "source": [
    "cfpbData.query(\"\"\"product == 'Debt collection'\"\"\").CountyAGI.hist()"
   ]
  },
  {
   "cell_type": "markdown",
   "metadata": {},
   "source": [
    "## Credit Reporting"
   ]
  },
  {
   "cell_type": "markdown",
   "metadata": {},
   "source": [
    "### AGI for Credit Reporting"
   ]
  },
  {
   "cell_type": "code",
   "execution_count": 35,
   "metadata": {
    "collapsed": false,
    "scrolled": true
   },
   "outputs": [
    {
     "data": {
      "text/plain": [
       "<matplotlib.axes._subplots.AxesSubplot at 0x7f1766b04b50>"
      ]
     },
     "execution_count": 35,
     "metadata": {},
     "output_type": "execute_result"
    },
    {
     "data": {
      "image/png": "[encoded data removed]",
      "text/plain": [
       "<matplotlib.figure.Figure at 0x7f17675ccd10>"
      ]
     },
     "metadata": {},
     "output_type": "display_data"
    }
   ],
   "source": [
    "cfpbData.query(\"\"\"product == 'Credit reporting'\"\"\").CountyAGI.hist()"
   ]
  },
  {
   "cell_type": "markdown",
   "metadata": {},
   "source": [
    "## Bank Account"
   ]
  },
  {
   "cell_type": "code",
   "execution_count": 36,
   "metadata": {
    "collapsed": false
   },
   "outputs": [
    {
     "data": {
      "text/plain": [
       "<matplotlib.axes._subplots.AxesSubplot at 0x7f1766796110>"
      ]
     },
     "execution_count": 36,
     "metadata": {},
     "output_type": "execute_result"
    },
    {
     "data": {
      "image/png": "[encoded data removed]",
      "text/plain": [
       "<matplotlib.figure.Figure at 0x7f1766750950>"
      ]
     },
     "metadata": {},
     "output_type": "display_data"
    }
   ],
   "source": [
    "cfpbData.query(\"\"\"product == 'Bank account or service'\"\"\").CountyAGI.hist()"
   ]
  },
  {
   "cell_type": "markdown",
   "metadata": {},
   "source": [
    "## Consumer Loan"
   ]
  },
  {
   "cell_type": "code",
   "execution_count": 37,
   "metadata": {
    "collapsed": false
   },
   "outputs": [
    {
     "data": {
      "text/plain": [
       "<matplotlib.axes._subplots.AxesSubplot at 0x7f1766791450>"
      ]
     },
     "execution_count": 37,
     "metadata": {},
     "output_type": "execute_result"
    },
    {
     "data": {
      "image/png": "[encoded data removed]",
      "text/plain": [
       "<matplotlib.figure.Figure at 0x7f176662da50>"
      ]
     },
     "metadata": {},
     "output_type": "display_data"
    }
   ],
   "source": [
    "cfpbData.query(\"\"\"product == 'Consumer Loan'\"\"\").CountyAGI.hist()"
   ]
  },
  {
   "cell_type": "markdown",
   "metadata": {},
   "source": [
    "## Student Loan"
   ]
  },
  {
   "cell_type": "code",
   "execution_count": 38,
   "metadata": {
    "collapsed": false
   },
   "outputs": [
    {
     "data": {
      "text/plain": [
       "<matplotlib.axes._subplots.AxesSubplot at 0x7f1767607050>"
      ]
     },
     "execution_count": 38,
     "metadata": {},
     "output_type": "execute_result"
    },
    {
     "data": {
      "image/png": "[encoded data removed]",
      "text/plain": [
       "<matplotlib.figure.Figure at 0x7f17669a4390>"
      ]
     },
     "metadata": {},
     "output_type": "display_data"
    }
   ],
   "source": [
    "cfpbData.query(\"\"\"product == 'Student loan'\"\"\").CountyAGI.hist()"
   ]
  },
  {
   "cell_type": "markdown",
   "metadata": {},
   "source": [
    "## Payday Loan"
   ]
  },
  {
   "cell_type": "code",
   "execution_count": 39,
   "metadata": {
    "collapsed": false
   },
   "outputs": [
    {
     "data": {
      "text/plain": [
       "<matplotlib.axes._subplots.AxesSubplot at 0x7f1768a70050>"
      ]
     },
     "execution_count": 39,
     "metadata": {},
     "output_type": "execute_result"
    },
    {
     "data": {
      "image/png": "[encoded data removed]",
      "text/plain": [
       "<matplotlib.figure.Figure at 0x7f17677b46d0>"
      ]
     },
     "metadata": {},
     "output_type": "display_data"
    }
   ],
   "source": [
    "cfpbData.query(\"\"\"product == 'Payday loan'\"\"\").CountyAGI.hist()"
   ]
  },
  {
   "cell_type": "markdown",
   "metadata": {},
   "source": [
    "## Money Transfers"
   ]
  },
  {
   "cell_type": "code",
   "execution_count": 40,
   "metadata": {
    "collapsed": false
   },
   "outputs": [
    {
     "data": {
      "text/plain": [
       "<matplotlib.axes._subplots.AxesSubplot at 0x7f1767886d10>"
      ]
     },
     "execution_count": 40,
     "metadata": {},
     "output_type": "execute_result"
    },
    {
     "data": {
      "image/png": "[encoded data removed]",
      "text/plain": [
       "<matplotlib.figure.Figure at 0x7f1767959050>"
      ]
     },
     "metadata": {},
     "output_type": "display_data"
    }
   ],
   "source": [
    "cfpbData.query(\"\"\"product == 'Money transfers'\"\"\").CountyAGI.hist()"
   ]
  },
  {
   "cell_type": "markdown",
   "metadata": {},
   "source": [
    "## Prepaid Card"
   ]
  },
  {
   "cell_type": "code",
   "execution_count": 41,
   "metadata": {
    "collapsed": false
   },
   "outputs": [
    {
     "data": {
      "text/plain": [
       "<matplotlib.axes._subplots.AxesSubplot at 0x7f1766857a50>"
      ]
     },
     "execution_count": 41,
     "metadata": {},
     "output_type": "execute_result"
    },
    {
     "data": {
      "image/png": "[encoded data removed]",
      "text/plain": [
       "<matplotlib.figure.Figure at 0x7f1766941250>"
      ]
     },
     "metadata": {},
     "output_type": "display_data"
    }
   ],
   "source": [
    "cfpbData.query(\"\"\"product == 'Prepaid card'\"\"\").CountyAGI.hist()"
   ]
  },
  {
   "cell_type": "markdown",
   "metadata": {},
   "source": [
    "## Other Financial Service"
   ]
  },
  {
   "cell_type": "code",
   "execution_count": 42,
   "metadata": {
    "collapsed": false
   },
   "outputs": [
    {
     "data": {
      "text/plain": [
       "<matplotlib.axes._subplots.AxesSubplot at 0x7f17678435d0>"
      ]
     },
     "execution_count": 42,
     "metadata": {},
     "output_type": "execute_result"
    },
    {
     "data": {
      "image/png": "[encoded data removed]",
      "text/plain": [
       "<matplotlib.figure.Figure at 0x7f176781efd0>"
      ]
     },
     "metadata": {},
     "output_type": "display_data"
    }
   ],
   "source": [
    "cfpbData.query(\"\"\"product == 'Other financial service'\"\"\").CountyAGI.hist() "
   ]
  },
  {
   "cell_type": "markdown",
   "metadata": {},
   "source": [
    "# Modeling and Inferences"
   ]
  },
  {
   "cell_type": "markdown",
   "metadata": {},
   "source": [
    "First, relevant attributes are chosen from the dataset. Then, the categorical features are encoded with one-hot encoding in order to be amenable to a k-means algorithm. Then, an optimal clustering number, k, is determined by measuring potential clustering dispersion with k from 1 to 10. Following that, the data is clustered using a k-means algorithm."
   ]
  },
  {
   "cell_type": "code",
   "execution_count": 43,
   "metadata": {
    "collapsed": true
   },
   "outputs": [],
   "source": [
    "# Consider transformation into one-hot encoding and using a KMeans clustering algorithm"
   ]
  },
  {
   "cell_type": "code",
   "execution_count": 44,
   "metadata": {
    "collapsed": false
   },
   "outputs": [],
   "source": [
    "#X = pd.DataFrame()\n",
    "#X['product']=cfpbData['product']\n",
    "#X['state_name']=cfpbData['state_name']\n",
    "#X['tags']=cfpbData['tags']\n",
    "#X['company']=cfpbData['company']\n",
    "#X['timely_response']=cfpbData['timely_response']\n",
    "#X['consumer_disputed']=cfpbData['consumer_disputed']\n",
    "#X['CountyAGI']=cfpbData['CountyAGI']\n",
    "#X.columns"
   ]
  },
  {
   "cell_type": "code",
   "execution_count": 45,
   "metadata": {
    "collapsed": true
   },
   "outputs": [],
   "source": [
    "X = cfpbData"
   ]
  },
  {
   "cell_type": "code",
   "execution_count": 46,
   "metadata": {
    "collapsed": false
   },
   "outputs": [],
   "source": [
    "del X['date_received']"
   ]
  },
  {
   "cell_type": "code",
   "execution_count": 47,
   "metadata": {
    "collapsed": true
   },
   "outputs": [],
   "source": [
    "del X['company_response']"
   ]
  },
  {
   "cell_type": "code",
   "execution_count": 48,
   "metadata": {
    "collapsed": true
   },
   "outputs": [],
   "source": [
    "del X['consumer_consent_provided']"
   ]
  },
  {
   "cell_type": "code",
   "execution_count": 49,
   "metadata": {
    "collapsed": true
   },
   "outputs": [],
   "source": [
    "del X['submitted_via']"
   ]
  },
  {
   "cell_type": "code",
   "execution_count": 50,
   "metadata": {
    "collapsed": true
   },
   "outputs": [],
   "source": [
    "del X['complaint_id']"
   ]
  },
  {
   "cell_type": "code",
   "execution_count": 51,
   "metadata": {
    "collapsed": true
   },
   "outputs": [],
   "source": [
    "del X['county_code']"
   ]
  },
  {
   "cell_type": "code",
   "execution_count": 52,
   "metadata": {
    "collapsed": true
   },
   "outputs": [],
   "source": [
    "del X['zip_code']"
   ]
  },
  {
   "cell_type": "code",
   "execution_count": 53,
   "metadata": {
    "collapsed": true
   },
   "outputs": [],
   "source": [
    "del X['date_sent']"
   ]
  },
  {
   "cell_type": "code",
   "execution_count": 54,
   "metadata": {
    "collapsed": true
   },
   "outputs": [],
   "source": [
    "del X['company_response_status']"
   ]
  },
  {
   "cell_type": "code",
   "execution_count": 55,
   "metadata": {
    "collapsed": true
   },
   "outputs": [],
   "source": [
    "del X['county_name']"
   ]
  },
  {
   "cell_type": "code",
   "execution_count": 56,
   "metadata": {
    "collapsed": false
   },
   "outputs": [
    {
     "data": {
      "text/plain": [
       "Index([u'product', u'sub_product', u'issue', u'sub_issue', u'company',\n",
       "       u'state_name', u'tags', u'timely_response', u'consumer_disputed',\n",
       "       u'CountyAGI', u'total_pop', u'total_male_pop', u'total_female_pop',\n",
       "       u'white_alone_male_pop', u'white_female_alone_pop', u'black_alone_male',\n",
       "       u'black_alone_female', u'nativeam_male_alone', u'nativeam_female_alone',\n",
       "       u'asian_male_alone', u'asian_female_alone', u'pacific_male_alone',\n",
       "       u'pacific_female_alone', u'mixed_male_total', u'mixed_female_total',\n",
       "       u'white_aoc_male', u'white_aoc_female', u'black_aoc_male',\n",
       "       u'black_aoc_female', u'nativeam_aoc_male', u'nativeam_aoc_female',\n",
       "       u'asian_aoc_male', u'asian_aoc_female', u'pacific_aoc_male',\n",
       "       u'pacific_aoc_female', u'not_hisp_male_total', u'not_hisp_female_total',\n",
       "       u'not_hisp_white_alone_male', u'not_hisp_white_alone_female',\n",
       "       u'not_hisp_black_alone_male', u'not_hisp_black_alone_female',\n",
       "       u'not_hisp_nativeam_alone_male', u'not_hisp_nativeam_alone_female',\n",
       "       u'not_hisp_asian_alone_male', u'not_hisp_asian_alone_female',\n",
       "       u'not_hisp_pacific_alone_male', u'not_hisp_mixed_alone_male',\n",
       "       u'not_hisp_mixed_alone_female', u'not_hisp_white_aoc_male',\n",
       "       u'not_hisp_white_aoc_female', u'not_hisp_black_aoc_male',\n",
       "       u'not_hisp_black_aoc_female', u'not_hisp_nativeam_aoc_male',\n",
       "       u'not_hisp_nativeam_aoc_female', u'not_hisp_asian_aoc_male',\n",
       "       u'not_hisp_asian_aoc_female', u'not_hisp_pacific_aoc_male',\n",
       "       u'not_hisp_pacific_aoc_female', u'hispanic_male_total',\n",
       "       u'hispanic_female_total', u'hisp_white_alone_male',\n",
       "       u'hisp_white_alone_female', u'hisp_black_alone_male',\n",
       "       u'hisp_black_alone_female', u'hisp_nativeam_alone_male',\n",
       "       u'hisp_asian_alone_male', u'hisp_asian_alone_female',\n",
       "       u'hisp_pacific_alone_male', u'hisp_pacific_alone_female',\n",
       "       u'hisp_mixed_alone_male', u'hisp_mixed_alone_female',\n",
       "       u'hisp_white_aoc_male', u'hisp_white_aoc_female',\n",
       "       u'hisp_black_aoc_male', u'hisp_black_aoc_female',\n",
       "       u'hisp_nativeam_aoc_male', u'hisp_nativeam_aoc_female',\n",
       "       u'hisp_asian_aoc_male', u'hisp_asian_aoc_female',\n",
       "       u'hisp_pacific_aoc_male', u'hisp_pacific_aoc_female',\n",
       "       u'not_hisp_pacific_alone_female', u'hisp_nativeam_alone_female'],\n",
       "      dtype='object')"
      ]
     },
     "execution_count": 56,
     "metadata": {},
     "output_type": "execute_result"
    }
   ],
   "source": [
    "X.columns"
   ]
  },
  {
   "cell_type": "code",
   "execution_count": 57,
   "metadata": {
    "collapsed": true
   },
   "outputs": [],
   "source": [
    "Xprime = X\n",
    "del X"
   ]
  },
  {
   "cell_type": "code",
   "execution_count": 58,
   "metadata": {
    "collapsed": false
   },
   "outputs": [],
   "source": [
    "Xprime = pd.concat([Xprime, pd.get_dummies(Xprime['product'], prefix=\"product_\")], axis=1)\n",
    "del Xprime['product']"
   ]
  },
  {
   "cell_type": "code",
   "execution_count": 59,
   "metadata": {
    "collapsed": true
   },
   "outputs": [],
   "source": [
    "Xprime = pd.concat([Xprime, pd.get_dummies(Xprime['sub_product'], prefix=\"sub_product_\")], axis=1)\n",
    "del Xprime['sub_product']"
   ]
  },
  {
   "cell_type": "code",
   "execution_count": 60,
   "metadata": {
    "collapsed": true
   },
   "outputs": [],
   "source": [
    "Xprime = pd.concat([Xprime, pd.get_dummies(Xprime['issue'], prefix=\"issue_\")], axis=1)\n",
    "del Xprime['issue']"
   ]
  },
  {
   "cell_type": "code",
   "execution_count": 61,
   "metadata": {
    "collapsed": true
   },
   "outputs": [],
   "source": [
    "Xprime = pd.concat([Xprime, pd.get_dummies(Xprime['sub_issue'], prefix=\"sub_issue_\")], axis=1)\n",
    "del Xprime['sub_issue']"
   ]
  },
  {
   "cell_type": "code",
   "execution_count": 62,
   "metadata": {
    "collapsed": false
   },
   "outputs": [],
   "source": [
    "top20complaintCompany = cfpbData['company'].value_counts()[0:20]\n",
    "\n",
    "def top20Company(x):\n",
    "    if x in top20complaintCompany:\n",
    "        return x\n",
    "    else:\n",
    "        return \"OtherCompany\"\n",
    "    \n",
    "Xprime['company']=map(top20Company, Xprime['company'])\n",
    "\n",
    "Xprime = pd.concat([Xprime, pd.get_dummies(Xprime['company'], prefix=\"company_\")], axis=1)\n",
    "del Xprime['company']"
   ]
  },
  {
   "cell_type": "code",
   "execution_count": 63,
   "metadata": {
    "collapsed": false
   },
   "outputs": [],
   "source": [
    "Xprime = pd.concat([Xprime, pd.get_dummies(Xprime['state_name'], prefix=\"state_name_\")], axis=1)\n",
    "del Xprime['state_name']"
   ]
  },
  {
   "cell_type": "code",
   "execution_count": 64,
   "metadata": {
    "collapsed": true
   },
   "outputs": [],
   "source": [
    "Xprime = pd.concat([Xprime, pd.get_dummies(Xprime['tags'], prefix=\"tags_\")], axis=1)\n",
    "del Xprime['tags']"
   ]
  },
  {
   "cell_type": "code",
   "execution_count": 65,
   "metadata": {
    "collapsed": true
   },
   "outputs": [],
   "source": [
    "Xprime = pd.concat([Xprime, pd.get_dummies(Xprime['timely_response'], prefix='timely_response_')], axis=1)\n",
    "del Xprime['timely_response']"
   ]
  },
  {
   "cell_type": "code",
   "execution_count": 66,
   "metadata": {
    "collapsed": true
   },
   "outputs": [],
   "source": [
    "Xprime = pd.concat([Xprime, pd.get_dummies(Xprime['consumer_disputed'], prefix='consumer_disputed_')], axis=1)\n",
    "del Xprime['consumer_disputed']"
   ]
  },
  {
   "cell_type": "code",
   "execution_count": 67,
   "metadata": {
    "collapsed": false,
    "scrolled": false
   },
   "outputs": [
    {
     "data": {
      "text/html": [
       "<div>\n",
       "<table border=\"1\" class=\"dataframe\">\n",
       "  <thead>\n",
       "    <tr style=\"text-align: right;\">\n",
       "      <th></th>\n",
       "      <th>CountyAGI</th>\n",
       "      <th>total_pop</th>\n",
       "      <th>total_male_pop</th>\n",
       "      <th>total_female_pop</th>\n",
       "      <th>white_alone_male_pop</th>\n",
       "      <th>white_female_alone_pop</th>\n",
       "      <th>black_alone_male</th>\n",
       "      <th>black_alone_female</th>\n",
       "      <th>nativeam_male_alone</th>\n",
       "      <th>nativeam_female_alone</th>\n",
       "      <th>...</th>\n",
       "      <th>state_name__WV</th>\n",
       "      <th>state_name__WY</th>\n",
       "      <th>tags__Both</th>\n",
       "      <th>tags__Neither</th>\n",
       "      <th>tags__OlderAmerican</th>\n",
       "      <th>tags__Servicemember</th>\n",
       "      <th>timely_response__No</th>\n",
       "      <th>timely_response__Yes</th>\n",
       "      <th>consumer_disputed__No</th>\n",
       "      <th>consumer_disputed__Yes</th>\n",
       "    </tr>\n",
       "  </thead>\n",
       "  <tbody>\n",
       "    <tr>\n",
       "      <th>0</th>\n",
       "      <td>57.830967</td>\n",
       "      <td>83768</td>\n",
       "      <td>0.513382</td>\n",
       "      <td>0.486618</td>\n",
       "      <td>0.399281</td>\n",
       "      <td>0.413523</td>\n",
       "      <td>0.072868</td>\n",
       "      <td>0.084973</td>\n",
       "      <td>0.001659</td>\n",
       "      <td>0.001624</td>\n",
       "      <td>...</td>\n",
       "      <td>0.0</td>\n",
       "      <td>0.0</td>\n",
       "      <td>0.0</td>\n",
       "      <td>1.0</td>\n",
       "      <td>0.0</td>\n",
       "      <td>0.0</td>\n",
       "      <td>0.0</td>\n",
       "      <td>1.0</td>\n",
       "      <td>1.0</td>\n",
       "      <td>0.0</td>\n",
       "    </tr>\n",
       "    <tr>\n",
       "      <th>1</th>\n",
       "      <td>57.830967</td>\n",
       "      <td>83768</td>\n",
       "      <td>0.513382</td>\n",
       "      <td>0.486618</td>\n",
       "      <td>0.399281</td>\n",
       "      <td>0.413523</td>\n",
       "      <td>0.072868</td>\n",
       "      <td>0.084973</td>\n",
       "      <td>0.001659</td>\n",
       "      <td>0.001624</td>\n",
       "      <td>...</td>\n",
       "      <td>0.0</td>\n",
       "      <td>0.0</td>\n",
       "      <td>0.0</td>\n",
       "      <td>1.0</td>\n",
       "      <td>0.0</td>\n",
       "      <td>0.0</td>\n",
       "      <td>0.0</td>\n",
       "      <td>1.0</td>\n",
       "      <td>1.0</td>\n",
       "      <td>0.0</td>\n",
       "    </tr>\n",
       "    <tr>\n",
       "      <th>2</th>\n",
       "      <td>57.830967</td>\n",
       "      <td>83768</td>\n",
       "      <td>0.513382</td>\n",
       "      <td>0.486618</td>\n",
       "      <td>0.399281</td>\n",
       "      <td>0.413523</td>\n",
       "      <td>0.072868</td>\n",
       "      <td>0.084973</td>\n",
       "      <td>0.001659</td>\n",
       "      <td>0.001624</td>\n",
       "      <td>...</td>\n",
       "      <td>0.0</td>\n",
       "      <td>0.0</td>\n",
       "      <td>0.0</td>\n",
       "      <td>1.0</td>\n",
       "      <td>0.0</td>\n",
       "      <td>0.0</td>\n",
       "      <td>0.0</td>\n",
       "      <td>1.0</td>\n",
       "      <td>1.0</td>\n",
       "      <td>0.0</td>\n",
       "    </tr>\n",
       "    <tr>\n",
       "      <th>3</th>\n",
       "      <td>57.830967</td>\n",
       "      <td>83768</td>\n",
       "      <td>0.513382</td>\n",
       "      <td>0.486618</td>\n",
       "      <td>0.399281</td>\n",
       "      <td>0.413523</td>\n",
       "      <td>0.072868</td>\n",
       "      <td>0.084973</td>\n",
       "      <td>0.001659</td>\n",
       "      <td>0.001624</td>\n",
       "      <td>...</td>\n",
       "      <td>0.0</td>\n",
       "      <td>0.0</td>\n",
       "      <td>0.0</td>\n",
       "      <td>1.0</td>\n",
       "      <td>0.0</td>\n",
       "      <td>0.0</td>\n",
       "      <td>0.0</td>\n",
       "      <td>1.0</td>\n",
       "      <td>1.0</td>\n",
       "      <td>0.0</td>\n",
       "    </tr>\n",
       "    <tr>\n",
       "      <th>4</th>\n",
       "      <td>57.830967</td>\n",
       "      <td>83768</td>\n",
       "      <td>0.513382</td>\n",
       "      <td>0.486618</td>\n",
       "      <td>0.399281</td>\n",
       "      <td>0.413523</td>\n",
       "      <td>0.072868</td>\n",
       "      <td>0.084973</td>\n",
       "      <td>0.001659</td>\n",
       "      <td>0.001624</td>\n",
       "      <td>...</td>\n",
       "      <td>0.0</td>\n",
       "      <td>0.0</td>\n",
       "      <td>0.0</td>\n",
       "      <td>1.0</td>\n",
       "      <td>0.0</td>\n",
       "      <td>0.0</td>\n",
       "      <td>0.0</td>\n",
       "      <td>1.0</td>\n",
       "      <td>1.0</td>\n",
       "      <td>0.0</td>\n",
       "    </tr>\n",
       "  </tbody>\n",
       "</table>\n",
       "<p>5 rows × 374 columns</p>\n",
       "</div>"
      ],
      "text/plain": [
       "   CountyAGI  total_pop  total_male_pop  total_female_pop  \\\n",
       "0  57.830967      83768        0.513382          0.486618   \n",
       "1  57.830967      83768        0.513382          0.486618   \n",
       "2  57.830967      83768        0.513382          0.486618   \n",
       "3  57.830967      83768        0.513382          0.486618   \n",
       "4  57.830967      83768        0.513382          0.486618   \n",
       "\n",
       "   white_alone_male_pop  white_female_alone_pop  black_alone_male  \\\n",
       "0              0.399281                0.413523          0.072868   \n",
       "1              0.399281                0.413523          0.072868   \n",
       "2              0.399281                0.413523          0.072868   \n",
       "3              0.399281                0.413523          0.072868   \n",
       "4              0.399281                0.413523          0.072868   \n",
       "\n",
       "   black_alone_female  nativeam_male_alone  nativeam_female_alone  \\\n",
       "0            0.084973             0.001659               0.001624   \n",
       "1            0.084973             0.001659               0.001624   \n",
       "2            0.084973             0.001659               0.001624   \n",
       "3            0.084973             0.001659               0.001624   \n",
       "4            0.084973             0.001659               0.001624   \n",
       "\n",
       "            ...            state_name__WV  state_name__WY  tags__Both  \\\n",
       "0           ...                       0.0             0.0         0.0   \n",
       "1           ...                       0.0             0.0         0.0   \n",
       "2           ...                       0.0             0.0         0.0   \n",
       "3           ...                       0.0             0.0         0.0   \n",
       "4           ...                       0.0             0.0         0.0   \n",
       "\n",
       "   tags__Neither  tags__OlderAmerican  tags__Servicemember  \\\n",
       "0            1.0                  0.0                  0.0   \n",
       "1            1.0                  0.0                  0.0   \n",
       "2            1.0                  0.0                  0.0   \n",
       "3            1.0                  0.0                  0.0   \n",
       "4            1.0                  0.0                  0.0   \n",
       "\n",
       "   timely_response__No  timely_response__Yes  consumer_disputed__No  \\\n",
       "0                  0.0                   1.0                    1.0   \n",
       "1                  0.0                   1.0                    1.0   \n",
       "2                  0.0                   1.0                    1.0   \n",
       "3                  0.0                   1.0                    1.0   \n",
       "4                  0.0                   1.0                    1.0   \n",
       "\n",
       "   consumer_disputed__Yes  \n",
       "0                     0.0  \n",
       "1                     0.0  \n",
       "2                     0.0  \n",
       "3                     0.0  \n",
       "4                     0.0  \n",
       "\n",
       "[5 rows x 374 columns]"
      ]
     },
     "execution_count": 67,
     "metadata": {},
     "output_type": "execute_result"
    }
   ],
   "source": [
    "Xprime.head()"
   ]
  },
  {
   "cell_type": "code",
   "execution_count": 68,
   "metadata": {
    "collapsed": false,
    "scrolled": false
   },
   "outputs": [
    {
     "data": {
      "image/png": "[encoded data removed]",
      "text/plain": [
       "<matplotlib.figure.Figure at 0x7f1744135c90>"
      ]
     },
     "metadata": {},
     "output_type": "display_data"
    }
   ],
   "source": [
    "find_k(np.matrix(Xprime), range(1,10),1)"
   ]
  },
  {
   "cell_type": "code",
   "execution_count": 69,
   "metadata": {
    "collapsed": false
   },
   "outputs": [],
   "source": [
    "#Feature Scaling \n",
    "\n",
    "from sklearn.preprocessing import StandardScaler\n",
    "scaler = StandardScaler()\n",
    "Xprime_scaled = scaler.fit_transform(Xprime)"
   ]
  },
  {
   "cell_type": "code",
   "execution_count": 70,
   "metadata": {
    "collapsed": true
   },
   "outputs": [],
   "source": [
    "#Preliminary feature selection via PCA\n",
    "from sklearn.decomposition import PCA\n",
    "\n",
    "Xprime_selected = PCA(n_components = 5).fit_transform(Xprime_scaled) #Trying 5 just because...\n"
   ]
  },
  {
   "cell_type": "code",
   "execution_count": 71,
   "metadata": {
    "collapsed": false
   },
   "outputs": [
    {
     "data": {
      "text/plain": [
       "KMeans(copy_x=True, init='k-means++', max_iter=300, n_clusters=3, n_init=10,\n",
       "    n_jobs=1, precompute_distances='auto', random_state=42, tol=0.0001,\n",
       "    verbose=0)"
      ]
     },
     "execution_count": 71,
     "metadata": {},
     "output_type": "execute_result"
    }
   ],
   "source": [
    "#Use k-means clustering\n",
    "\n",
    "from sklearn.cluster import KMeans\n",
    "# 3 clusters based on previous findk results.\n",
    "kmeans_model = KMeans(n_clusters=3, random_state=42) \n",
    "kmeans_model.fit(Xprime_selected)"
   ]
  },
  {
   "cell_type": "code",
   "execution_count": 72,
   "metadata": {
    "collapsed": false,
    "scrolled": true
   },
   "outputs": [
    {
     "data": {
      "text/plain": [
       "<matplotlib.collections.PathCollection at 0x7f1767207d90>"
      ]
     },
     "execution_count": 72,
     "metadata": {},
     "output_type": "execute_result"
    },
    {
     "data": {
      "image/png": "[encoded data removed]",
      "text/plain": [
       "<matplotlib.figure.Figure at 0x7f176de44d10>"
      ]
     },
     "metadata": {},
     "output_type": "display_data"
    }
   ],
   "source": [
    "#Use PCA again merely for visualization purposes. These results are not used in the analysis.\n",
    "\n",
    "from sklearn.decomposition import PCA\n",
    "from mpl_toolkits.mplot3d import Axes3D\n",
    "import matplotlib.pyplot as plt\n",
    "\n",
    "%matplotlib inline \n",
    "model = PCA(n_components=2)\n",
    "X_pca = model.fit_transform(Xprime_selected) \n",
    "plt.figure(figsize=(10,10))\n",
    "ax = plt.subplot(111)\n",
    "ax.scatter(X_pca[:, 0], X_pca[:, 1], c= kmeans_model.labels_)"
   ]
  },
  {
   "cell_type": "markdown",
   "metadata": {},
   "source": [
    "Blue = 0, Green = 1, and Brown/Red = 2"
   ]
  },
  {
   "cell_type": "code",
   "execution_count": 73,
   "metadata": {
    "collapsed": false
   },
   "outputs": [],
   "source": [
    "Xprime['labels'] = kmeans_model.labels_"
   ]
  },
  {
   "cell_type": "code",
   "execution_count": 75,
   "metadata": {
    "collapsed": false
   },
   "outputs": [],
   "source": [
    "#Save this version as it's already ready for inclusion into the Random Forest\n",
    "Xprime.to_csv(\"clusteredDataset.csv\", index=False) "
   ]
  },
  {
   "cell_type": "code",
   "execution_count": 76,
   "metadata": {
    "collapsed": false
   },
   "outputs": [],
   "source": [
    "##############################################################################################\n",
    "del Xprime"
   ]
  },
  {
   "cell_type": "code",
   "execution_count": 77,
   "metadata": {
    "collapsed": false
   },
   "outputs": [],
   "source": [
    "#Load clustered dataset \n",
    "clusteredData = pd.read_csv(\"clusteredDataset.csv\")"
   ]
  },
  {
   "cell_type": "code",
   "execution_count": 78,
   "metadata": {
    "collapsed": false
   },
   "outputs": [
    {
     "data": {
      "text/html": [
       "<div>\n",
       "<table border=\"1\" class=\"dataframe\">\n",
       "  <thead>\n",
       "    <tr style=\"text-align: right;\">\n",
       "      <th></th>\n",
       "      <th>CountyAGI</th>\n",
       "      <th>total_pop</th>\n",
       "      <th>total_male_pop</th>\n",
       "      <th>total_female_pop</th>\n",
       "      <th>white_alone_male_pop</th>\n",
       "      <th>white_female_alone_pop</th>\n",
       "      <th>black_alone_male</th>\n",
       "      <th>black_alone_female</th>\n",
       "      <th>nativeam_male_alone</th>\n",
       "      <th>nativeam_female_alone</th>\n",
       "      <th>...</th>\n",
       "      <th>state_name__WY</th>\n",
       "      <th>tags__Both</th>\n",
       "      <th>tags__Neither</th>\n",
       "      <th>tags__OlderAmerican</th>\n",
       "      <th>tags__Servicemember</th>\n",
       "      <th>timely_response__No</th>\n",
       "      <th>timely_response__Yes</th>\n",
       "      <th>consumer_disputed__No</th>\n",
       "      <th>consumer_disputed__Yes</th>\n",
       "      <th>labels</th>\n",
       "    </tr>\n",
       "  </thead>\n",
       "  <tbody>\n",
       "    <tr>\n",
       "      <th>0</th>\n",
       "      <td>57.830967</td>\n",
       "      <td>83768</td>\n",
       "      <td>0.513382</td>\n",
       "      <td>0.486618</td>\n",
       "      <td>0.399281</td>\n",
       "      <td>0.413523</td>\n",
       "      <td>0.072868</td>\n",
       "      <td>0.084973</td>\n",
       "      <td>0.001659</td>\n",
       "      <td>0.001624</td>\n",
       "      <td>...</td>\n",
       "      <td>0.0</td>\n",
       "      <td>0.0</td>\n",
       "      <td>1.0</td>\n",
       "      <td>0.0</td>\n",
       "      <td>0.0</td>\n",
       "      <td>0.0</td>\n",
       "      <td>1.0</td>\n",
       "      <td>1.0</td>\n",
       "      <td>0.0</td>\n",
       "      <td>0</td>\n",
       "    </tr>\n",
       "    <tr>\n",
       "      <th>1</th>\n",
       "      <td>57.830967</td>\n",
       "      <td>83768</td>\n",
       "      <td>0.513382</td>\n",
       "      <td>0.486618</td>\n",
       "      <td>0.399281</td>\n",
       "      <td>0.413523</td>\n",
       "      <td>0.072868</td>\n",
       "      <td>0.084973</td>\n",
       "      <td>0.001659</td>\n",
       "      <td>0.001624</td>\n",
       "      <td>...</td>\n",
       "      <td>0.0</td>\n",
       "      <td>0.0</td>\n",
       "      <td>1.0</td>\n",
       "      <td>0.0</td>\n",
       "      <td>0.0</td>\n",
       "      <td>0.0</td>\n",
       "      <td>1.0</td>\n",
       "      <td>1.0</td>\n",
       "      <td>0.0</td>\n",
       "      <td>0</td>\n",
       "    </tr>\n",
       "    <tr>\n",
       "      <th>2</th>\n",
       "      <td>57.830967</td>\n",
       "      <td>83768</td>\n",
       "      <td>0.513382</td>\n",
       "      <td>0.486618</td>\n",
       "      <td>0.399281</td>\n",
       "      <td>0.413523</td>\n",
       "      <td>0.072868</td>\n",
       "      <td>0.084973</td>\n",
       "      <td>0.001659</td>\n",
       "      <td>0.001624</td>\n",
       "      <td>...</td>\n",
       "      <td>0.0</td>\n",
       "      <td>0.0</td>\n",
       "      <td>1.0</td>\n",
       "      <td>0.0</td>\n",
       "      <td>0.0</td>\n",
       "      <td>0.0</td>\n",
       "      <td>1.0</td>\n",
       "      <td>1.0</td>\n",
       "      <td>0.0</td>\n",
       "      <td>0</td>\n",
       "    </tr>\n",
       "    <tr>\n",
       "      <th>3</th>\n",
       "      <td>57.830967</td>\n",
       "      <td>83768</td>\n",
       "      <td>0.513382</td>\n",
       "      <td>0.486618</td>\n",
       "      <td>0.399281</td>\n",
       "      <td>0.413523</td>\n",
       "      <td>0.072868</td>\n",
       "      <td>0.084973</td>\n",
       "      <td>0.001659</td>\n",
       "      <td>0.001624</td>\n",
       "      <td>...</td>\n",
       "      <td>0.0</td>\n",
       "      <td>0.0</td>\n",
       "      <td>1.0</td>\n",
       "      <td>0.0</td>\n",
       "      <td>0.0</td>\n",
       "      <td>0.0</td>\n",
       "      <td>1.0</td>\n",
       "      <td>1.0</td>\n",
       "      <td>0.0</td>\n",
       "      <td>0</td>\n",
       "    </tr>\n",
       "    <tr>\n",
       "      <th>4</th>\n",
       "      <td>57.830967</td>\n",
       "      <td>83768</td>\n",
       "      <td>0.513382</td>\n",
       "      <td>0.486618</td>\n",
       "      <td>0.399281</td>\n",
       "      <td>0.413523</td>\n",
       "      <td>0.072868</td>\n",
       "      <td>0.084973</td>\n",
       "      <td>0.001659</td>\n",
       "      <td>0.001624</td>\n",
       "      <td>...</td>\n",
       "      <td>0.0</td>\n",
       "      <td>0.0</td>\n",
       "      <td>1.0</td>\n",
       "      <td>0.0</td>\n",
       "      <td>0.0</td>\n",
       "      <td>0.0</td>\n",
       "      <td>1.0</td>\n",
       "      <td>1.0</td>\n",
       "      <td>0.0</td>\n",
       "      <td>0</td>\n",
       "    </tr>\n",
       "  </tbody>\n",
       "</table>\n",
       "<p>5 rows × 375 columns</p>\n",
       "</div>"
      ],
      "text/plain": [
       "   CountyAGI  total_pop  total_male_pop  total_female_pop  \\\n",
       "0  57.830967      83768        0.513382          0.486618   \n",
       "1  57.830967      83768        0.513382          0.486618   \n",
       "2  57.830967      83768        0.513382          0.486618   \n",
       "3  57.830967      83768        0.513382          0.486618   \n",
       "4  57.830967      83768        0.513382          0.486618   \n",
       "\n",
       "   white_alone_male_pop  white_female_alone_pop  black_alone_male  \\\n",
       "0              0.399281                0.413523          0.072868   \n",
       "1              0.399281                0.413523          0.072868   \n",
       "2              0.399281                0.413523          0.072868   \n",
       "3              0.399281                0.413523          0.072868   \n",
       "4              0.399281                0.413523          0.072868   \n",
       "\n",
       "   black_alone_female  nativeam_male_alone  nativeam_female_alone   ...    \\\n",
       "0            0.084973             0.001659               0.001624   ...     \n",
       "1            0.084973             0.001659               0.001624   ...     \n",
       "2            0.084973             0.001659               0.001624   ...     \n",
       "3            0.084973             0.001659               0.001624   ...     \n",
       "4            0.084973             0.001659               0.001624   ...     \n",
       "\n",
       "   state_name__WY  tags__Both  tags__Neither  tags__OlderAmerican  \\\n",
       "0             0.0         0.0            1.0                  0.0   \n",
       "1             0.0         0.0            1.0                  0.0   \n",
       "2             0.0         0.0            1.0                  0.0   \n",
       "3             0.0         0.0            1.0                  0.0   \n",
       "4             0.0         0.0            1.0                  0.0   \n",
       "\n",
       "   tags__Servicemember  timely_response__No  timely_response__Yes  \\\n",
       "0                  0.0                  0.0                   1.0   \n",
       "1                  0.0                  0.0                   1.0   \n",
       "2                  0.0                  0.0                   1.0   \n",
       "3                  0.0                  0.0                   1.0   \n",
       "4                  0.0                  0.0                   1.0   \n",
       "\n",
       "   consumer_disputed__No  consumer_disputed__Yes  labels  \n",
       "0                    1.0                     0.0       0  \n",
       "1                    1.0                     0.0       0  \n",
       "2                    1.0                     0.0       0  \n",
       "3                    1.0                     0.0       0  \n",
       "4                    1.0                     0.0       0  \n",
       "\n",
       "[5 rows x 375 columns]"
      ]
     },
     "execution_count": 78,
     "metadata": {},
     "output_type": "execute_result"
    }
   ],
   "source": [
    "clusteredData.head()"
   ]
  },
  {
   "cell_type": "markdown",
   "metadata": {},
   "source": [
    "# Analyzing the Clusters"
   ]
  },
  {
   "cell_type": "markdown",
   "metadata": {},
   "source": [
    "## Complaint Count by Cluster"
   ]
  },
  {
   "cell_type": "code",
   "execution_count": 79,
   "metadata": {
    "collapsed": false
   },
   "outputs": [
    {
     "data": {
      "image/png": "[encoded data removed]",
      "text/plain": [
       "<matplotlib.figure.Figure at 0x7f17665b6dd0>"
      ]
     },
     "metadata": {},
     "output_type": "display_data"
    }
   ],
   "source": [
    "makeHistogramCategorical(clusteredData['labels'].value_counts(), \"Cluster Label\", \"Complaint Count\", \"Complaint Count by Cluster\")"
   ]
  },
  {
   "cell_type": "markdown",
   "metadata": {},
   "source": [
    "Based on this, it appears that cluster label 2 is an outlier class."
   ]
  },
  {
   "cell_type": "markdown",
   "metadata": {},
   "source": [
    "In order to determine which variables are most relevant for the classification into each cluster, a Random Forest model is trained to match the k-means clustering results. Then, once the Random Forest model is trained, the model is interrogated with regard to the variables most relevant to clustering."
   ]
  },
  {
   "cell_type": "code",
   "execution_count": 80,
   "metadata": {
    "collapsed": true
   },
   "outputs": [],
   "source": [
    "X = clusteredData\n",
    "y = X.pop('labels')"
   ]
  },
  {
   "cell_type": "code",
   "execution_count": 81,
   "metadata": {
    "collapsed": false
   },
   "outputs": [
    {
     "data": {
      "text/html": [
       "<div>\n",
       "<table border=\"1\" class=\"dataframe\">\n",
       "  <thead>\n",
       "    <tr style=\"text-align: right;\">\n",
       "      <th></th>\n",
       "      <th>CountyAGI</th>\n",
       "      <th>total_pop</th>\n",
       "      <th>total_male_pop</th>\n",
       "      <th>total_female_pop</th>\n",
       "      <th>white_alone_male_pop</th>\n",
       "      <th>white_female_alone_pop</th>\n",
       "      <th>black_alone_male</th>\n",
       "      <th>black_alone_female</th>\n",
       "      <th>nativeam_male_alone</th>\n",
       "      <th>nativeam_female_alone</th>\n",
       "      <th>...</th>\n",
       "      <th>state_name__WV</th>\n",
       "      <th>state_name__WY</th>\n",
       "      <th>tags__Both</th>\n",
       "      <th>tags__Neither</th>\n",
       "      <th>tags__OlderAmerican</th>\n",
       "      <th>tags__Servicemember</th>\n",
       "      <th>timely_response__No</th>\n",
       "      <th>timely_response__Yes</th>\n",
       "      <th>consumer_disputed__No</th>\n",
       "      <th>consumer_disputed__Yes</th>\n",
       "    </tr>\n",
       "  </thead>\n",
       "  <tbody>\n",
       "    <tr>\n",
       "      <th>0</th>\n",
       "      <td>57.830967</td>\n",
       "      <td>83768</td>\n",
       "      <td>0.513382</td>\n",
       "      <td>0.486618</td>\n",
       "      <td>0.399281</td>\n",
       "      <td>0.413523</td>\n",
       "      <td>0.072868</td>\n",
       "      <td>0.084973</td>\n",
       "      <td>0.001659</td>\n",
       "      <td>0.001624</td>\n",
       "      <td>...</td>\n",
       "      <td>0.0</td>\n",
       "      <td>0.0</td>\n",
       "      <td>0.0</td>\n",
       "      <td>1.0</td>\n",
       "      <td>0.0</td>\n",
       "      <td>0.0</td>\n",
       "      <td>0.0</td>\n",
       "      <td>1.0</td>\n",
       "      <td>1.0</td>\n",
       "      <td>0.0</td>\n",
       "    </tr>\n",
       "    <tr>\n",
       "      <th>1</th>\n",
       "      <td>57.830967</td>\n",
       "      <td>83768</td>\n",
       "      <td>0.513382</td>\n",
       "      <td>0.486618</td>\n",
       "      <td>0.399281</td>\n",
       "      <td>0.413523</td>\n",
       "      <td>0.072868</td>\n",
       "      <td>0.084973</td>\n",
       "      <td>0.001659</td>\n",
       "      <td>0.001624</td>\n",
       "      <td>...</td>\n",
       "      <td>0.0</td>\n",
       "      <td>0.0</td>\n",
       "      <td>0.0</td>\n",
       "      <td>1.0</td>\n",
       "      <td>0.0</td>\n",
       "      <td>0.0</td>\n",
       "      <td>0.0</td>\n",
       "      <td>1.0</td>\n",
       "      <td>1.0</td>\n",
       "      <td>0.0</td>\n",
       "    </tr>\n",
       "    <tr>\n",
       "      <th>2</th>\n",
       "      <td>57.830967</td>\n",
       "      <td>83768</td>\n",
       "      <td>0.513382</td>\n",
       "      <td>0.486618</td>\n",
       "      <td>0.399281</td>\n",
       "      <td>0.413523</td>\n",
       "      <td>0.072868</td>\n",
       "      <td>0.084973</td>\n",
       "      <td>0.001659</td>\n",
       "      <td>0.001624</td>\n",
       "      <td>...</td>\n",
       "      <td>0.0</td>\n",
       "      <td>0.0</td>\n",
       "      <td>0.0</td>\n",
       "      <td>1.0</td>\n",
       "      <td>0.0</td>\n",
       "      <td>0.0</td>\n",
       "      <td>0.0</td>\n",
       "      <td>1.0</td>\n",
       "      <td>1.0</td>\n",
       "      <td>0.0</td>\n",
       "    </tr>\n",
       "    <tr>\n",
       "      <th>3</th>\n",
       "      <td>57.830967</td>\n",
       "      <td>83768</td>\n",
       "      <td>0.513382</td>\n",
       "      <td>0.486618</td>\n",
       "      <td>0.399281</td>\n",
       "      <td>0.413523</td>\n",
       "      <td>0.072868</td>\n",
       "      <td>0.084973</td>\n",
       "      <td>0.001659</td>\n",
       "      <td>0.001624</td>\n",
       "      <td>...</td>\n",
       "      <td>0.0</td>\n",
       "      <td>0.0</td>\n",
       "      <td>0.0</td>\n",
       "      <td>1.0</td>\n",
       "      <td>0.0</td>\n",
       "      <td>0.0</td>\n",
       "      <td>0.0</td>\n",
       "      <td>1.0</td>\n",
       "      <td>1.0</td>\n",
       "      <td>0.0</td>\n",
       "    </tr>\n",
       "    <tr>\n",
       "      <th>4</th>\n",
       "      <td>57.830967</td>\n",
       "      <td>83768</td>\n",
       "      <td>0.513382</td>\n",
       "      <td>0.486618</td>\n",
       "      <td>0.399281</td>\n",
       "      <td>0.413523</td>\n",
       "      <td>0.072868</td>\n",
       "      <td>0.084973</td>\n",
       "      <td>0.001659</td>\n",
       "      <td>0.001624</td>\n",
       "      <td>...</td>\n",
       "      <td>0.0</td>\n",
       "      <td>0.0</td>\n",
       "      <td>0.0</td>\n",
       "      <td>1.0</td>\n",
       "      <td>0.0</td>\n",
       "      <td>0.0</td>\n",
       "      <td>0.0</td>\n",
       "      <td>1.0</td>\n",
       "      <td>1.0</td>\n",
       "      <td>0.0</td>\n",
       "    </tr>\n",
       "  </tbody>\n",
       "</table>\n",
       "<p>5 rows × 374 columns</p>\n",
       "</div>"
      ],
      "text/plain": [
       "   CountyAGI  total_pop  total_male_pop  total_female_pop  \\\n",
       "0  57.830967      83768        0.513382          0.486618   \n",
       "1  57.830967      83768        0.513382          0.486618   \n",
       "2  57.830967      83768        0.513382          0.486618   \n",
       "3  57.830967      83768        0.513382          0.486618   \n",
       "4  57.830967      83768        0.513382          0.486618   \n",
       "\n",
       "   white_alone_male_pop  white_female_alone_pop  black_alone_male  \\\n",
       "0              0.399281                0.413523          0.072868   \n",
       "1              0.399281                0.413523          0.072868   \n",
       "2              0.399281                0.413523          0.072868   \n",
       "3              0.399281                0.413523          0.072868   \n",
       "4              0.399281                0.413523          0.072868   \n",
       "\n",
       "   black_alone_female  nativeam_male_alone  nativeam_female_alone  \\\n",
       "0            0.084973             0.001659               0.001624   \n",
       "1            0.084973             0.001659               0.001624   \n",
       "2            0.084973             0.001659               0.001624   \n",
       "3            0.084973             0.001659               0.001624   \n",
       "4            0.084973             0.001659               0.001624   \n",
       "\n",
       "            ...            state_name__WV  state_name__WY  tags__Both  \\\n",
       "0           ...                       0.0             0.0         0.0   \n",
       "1           ...                       0.0             0.0         0.0   \n",
       "2           ...                       0.0             0.0         0.0   \n",
       "3           ...                       0.0             0.0         0.0   \n",
       "4           ...                       0.0             0.0         0.0   \n",
       "\n",
       "   tags__Neither  tags__OlderAmerican  tags__Servicemember  \\\n",
       "0            1.0                  0.0                  0.0   \n",
       "1            1.0                  0.0                  0.0   \n",
       "2            1.0                  0.0                  0.0   \n",
       "3            1.0                  0.0                  0.0   \n",
       "4            1.0                  0.0                  0.0   \n",
       "\n",
       "   timely_response__No  timely_response__Yes  consumer_disputed__No  \\\n",
       "0                  0.0                   1.0                    1.0   \n",
       "1                  0.0                   1.0                    1.0   \n",
       "2                  0.0                   1.0                    1.0   \n",
       "3                  0.0                   1.0                    1.0   \n",
       "4                  0.0                   1.0                    1.0   \n",
       "\n",
       "   consumer_disputed__Yes  \n",
       "0                     0.0  \n",
       "1                     0.0  \n",
       "2                     0.0  \n",
       "3                     0.0  \n",
       "4                     0.0  \n",
       "\n",
       "[5 rows x 374 columns]"
      ]
     },
     "execution_count": 81,
     "metadata": {},
     "output_type": "execute_result"
    }
   ],
   "source": [
    "X.head()"
   ]
  },
  {
   "cell_type": "code",
   "execution_count": 82,
   "metadata": {
    "collapsed": false
   },
   "outputs": [
    {
     "data": {
      "text/plain": [
       "0    0\n",
       "1    0\n",
       "2    0\n",
       "3    0\n",
       "4    0\n",
       "Name: labels, dtype: int64"
      ]
     },
     "execution_count": 82,
     "metadata": {},
     "output_type": "execute_result"
    }
   ],
   "source": [
    "y[0:5]"
   ]
  },
  {
   "cell_type": "code",
   "execution_count": 88,
   "metadata": {
    "collapsed": true
   },
   "outputs": [],
   "source": [
    "from sklearn.ensemble import RandomForestClassifier\n",
    "rfModel = RandomForestClassifier(n_estimators = 100, n_jobs=-1, oob_score=True)"
   ]
  },
  {
   "cell_type": "code",
   "execution_count": 89,
   "metadata": {
    "collapsed": false
   },
   "outputs": [
    {
     "data": {
      "text/plain": [
       "RandomForestClassifier(bootstrap=True, class_weight=None, criterion='gini',\n",
       "            max_depth=None, max_features='auto', max_leaf_nodes=None,\n",
       "            min_samples_leaf=1, min_samples_split=2,\n",
       "            min_weight_fraction_leaf=0.0, n_estimators=100, n_jobs=-1,\n",
       "            oob_score=True, random_state=None, verbose=0, warm_start=False)"
      ]
     },
     "execution_count": 89,
     "metadata": {},
     "output_type": "execute_result"
    }
   ],
   "source": [
    "rfModel.fit(X, y)"
   ]
  },
  {
   "cell_type": "code",
   "execution_count": 90,
   "metadata": {
    "collapsed": false
   },
   "outputs": [
    {
     "data": {
      "text/plain": [
       "0.99983583008413712"
      ]
     },
     "execution_count": 90,
     "metadata": {},
     "output_type": "execute_result"
    }
   ],
   "source": [
    "rfModel.oob_score_"
   ]
  },
  {
   "cell_type": "code",
   "execution_count": 121,
   "metadata": {
    "collapsed": false
   },
   "outputs": [],
   "source": [
    "#Let's look at some top features used in our Random Forest model to help distinguish between\n",
    "#the three clusters\n",
    "\n",
    "importances = rfModel.feature_importances_\n",
    "std = np.std([tree.feature_importances_ for tree in rfModel.estimators_],\n",
    "             axis=0)\n",
    "indices = np.argsort(importances)[::-1][0:10]"
   ]
  },
  {
   "cell_type": "code",
   "execution_count": 122,
   "metadata": {
    "collapsed": false
   },
   "outputs": [
    {
     "data": {
      "image/png": "[encoded data removed]",
      "text/plain": [
       "<matplotlib.figure.Figure at 0x7f17373d0cd0>"
      ]
     },
     "metadata": {},
     "output_type": "display_data"
    }
   ],
   "source": [
    "plt.figure(figsize=(10,6))\n",
    "plt.title(\"Feature importances\")\n",
    "plt.bar(range(len(indices)), importances[indices],\n",
    "       color=\"r\", yerr=std[indices], align=\"center\")\n",
    "plt.xticks(range(len(indices)), X.columns[indices], rotation=90)\n",
    "plt.xlim([-1, len(indices)])\n",
    "plt.show()"
   ]
  },
  {
   "cell_type": "markdown",
   "metadata": {},
   "source": [
    "From the graph of the most important features used by the Random Forest model, we can see that each of the individual features used by the model have relatively low importance and very high uncertainty. However, looking at these features, it's worthwhile to note a few points: First, all of these features are demographic features that were not part of the CFPB dataset but were introduced from the US Census Bureau dataset. Secondly, most of these features involve a self-identified hispanic, hispanic multiracial, or mixed hispanic county-level demographic, with only two of the ten being non-hispanic demographics. Let us see how the model tended to cluster these groups."
   ]
  },
  {
   "cell_type": "code",
   "execution_count": 132,
   "metadata": {
    "collapsed": false
   },
   "outputs": [
    {
     "data": {
      "text/html": [
       "<div>\n",
       "<table border=\"1\" class=\"dataframe\">\n",
       "  <thead>\n",
       "    <tr style=\"text-align: right;\">\n",
       "      <th></th>\n",
       "      <th>CountyAGI</th>\n",
       "      <th>total_pop</th>\n",
       "      <th>total_male_pop</th>\n",
       "      <th>total_female_pop</th>\n",
       "      <th>white_alone_male_pop</th>\n",
       "      <th>white_female_alone_pop</th>\n",
       "      <th>black_alone_male</th>\n",
       "      <th>black_alone_female</th>\n",
       "      <th>nativeam_male_alone</th>\n",
       "      <th>nativeam_female_alone</th>\n",
       "      <th>...</th>\n",
       "      <th>state_name__WV</th>\n",
       "      <th>state_name__WY</th>\n",
       "      <th>tags__Both</th>\n",
       "      <th>tags__Neither</th>\n",
       "      <th>tags__OlderAmerican</th>\n",
       "      <th>tags__Servicemember</th>\n",
       "      <th>timely_response__No</th>\n",
       "      <th>timely_response__Yes</th>\n",
       "      <th>consumer_disputed__No</th>\n",
       "      <th>consumer_disputed__Yes</th>\n",
       "    </tr>\n",
       "  </thead>\n",
       "  <tbody>\n",
       "    <tr>\n",
       "      <th>0</th>\n",
       "      <td>57.830967</td>\n",
       "      <td>83768</td>\n",
       "      <td>0.513382</td>\n",
       "      <td>0.486618</td>\n",
       "      <td>0.399281</td>\n",
       "      <td>0.413523</td>\n",
       "      <td>0.072868</td>\n",
       "      <td>0.084973</td>\n",
       "      <td>0.001659</td>\n",
       "      <td>0.001624</td>\n",
       "      <td>...</td>\n",
       "      <td>0.0</td>\n",
       "      <td>0.0</td>\n",
       "      <td>0.0</td>\n",
       "      <td>1.0</td>\n",
       "      <td>0.0</td>\n",
       "      <td>0.0</td>\n",
       "      <td>0.0</td>\n",
       "      <td>1.0</td>\n",
       "      <td>1.0</td>\n",
       "      <td>0.0</td>\n",
       "    </tr>\n",
       "    <tr>\n",
       "      <th>1</th>\n",
       "      <td>57.830967</td>\n",
       "      <td>83768</td>\n",
       "      <td>0.513382</td>\n",
       "      <td>0.486618</td>\n",
       "      <td>0.399281</td>\n",
       "      <td>0.413523</td>\n",
       "      <td>0.072868</td>\n",
       "      <td>0.084973</td>\n",
       "      <td>0.001659</td>\n",
       "      <td>0.001624</td>\n",
       "      <td>...</td>\n",
       "      <td>0.0</td>\n",
       "      <td>0.0</td>\n",
       "      <td>0.0</td>\n",
       "      <td>1.0</td>\n",
       "      <td>0.0</td>\n",
       "      <td>0.0</td>\n",
       "      <td>0.0</td>\n",
       "      <td>1.0</td>\n",
       "      <td>1.0</td>\n",
       "      <td>0.0</td>\n",
       "    </tr>\n",
       "    <tr>\n",
       "      <th>2</th>\n",
       "      <td>57.830967</td>\n",
       "      <td>83768</td>\n",
       "      <td>0.513382</td>\n",
       "      <td>0.486618</td>\n",
       "      <td>0.399281</td>\n",
       "      <td>0.413523</td>\n",
       "      <td>0.072868</td>\n",
       "      <td>0.084973</td>\n",
       "      <td>0.001659</td>\n",
       "      <td>0.001624</td>\n",
       "      <td>...</td>\n",
       "      <td>0.0</td>\n",
       "      <td>0.0</td>\n",
       "      <td>0.0</td>\n",
       "      <td>1.0</td>\n",
       "      <td>0.0</td>\n",
       "      <td>0.0</td>\n",
       "      <td>0.0</td>\n",
       "      <td>1.0</td>\n",
       "      <td>1.0</td>\n",
       "      <td>0.0</td>\n",
       "    </tr>\n",
       "    <tr>\n",
       "      <th>3</th>\n",
       "      <td>57.830967</td>\n",
       "      <td>83768</td>\n",
       "      <td>0.513382</td>\n",
       "      <td>0.486618</td>\n",
       "      <td>0.399281</td>\n",
       "      <td>0.413523</td>\n",
       "      <td>0.072868</td>\n",
       "      <td>0.084973</td>\n",
       "      <td>0.001659</td>\n",
       "      <td>0.001624</td>\n",
       "      <td>...</td>\n",
       "      <td>0.0</td>\n",
       "      <td>0.0</td>\n",
       "      <td>0.0</td>\n",
       "      <td>1.0</td>\n",
       "      <td>0.0</td>\n",
       "      <td>0.0</td>\n",
       "      <td>0.0</td>\n",
       "      <td>1.0</td>\n",
       "      <td>1.0</td>\n",
       "      <td>0.0</td>\n",
       "    </tr>\n",
       "    <tr>\n",
       "      <th>4</th>\n",
       "      <td>57.830967</td>\n",
       "      <td>83768</td>\n",
       "      <td>0.513382</td>\n",
       "      <td>0.486618</td>\n",
       "      <td>0.399281</td>\n",
       "      <td>0.413523</td>\n",
       "      <td>0.072868</td>\n",
       "      <td>0.084973</td>\n",
       "      <td>0.001659</td>\n",
       "      <td>0.001624</td>\n",
       "      <td>...</td>\n",
       "      <td>0.0</td>\n",
       "      <td>0.0</td>\n",
       "      <td>0.0</td>\n",
       "      <td>1.0</td>\n",
       "      <td>0.0</td>\n",
       "      <td>0.0</td>\n",
       "      <td>0.0</td>\n",
       "      <td>1.0</td>\n",
       "      <td>1.0</td>\n",
       "      <td>0.0</td>\n",
       "    </tr>\n",
       "  </tbody>\n",
       "</table>\n",
       "<p>5 rows × 374 columns</p>\n",
       "</div>"
      ],
      "text/plain": [
       "   CountyAGI  total_pop  total_male_pop  total_female_pop  \\\n",
       "0  57.830967      83768        0.513382          0.486618   \n",
       "1  57.830967      83768        0.513382          0.486618   \n",
       "2  57.830967      83768        0.513382          0.486618   \n",
       "3  57.830967      83768        0.513382          0.486618   \n",
       "4  57.830967      83768        0.513382          0.486618   \n",
       "\n",
       "   white_alone_male_pop  white_female_alone_pop  black_alone_male  \\\n",
       "0              0.399281                0.413523          0.072868   \n",
       "1              0.399281                0.413523          0.072868   \n",
       "2              0.399281                0.413523          0.072868   \n",
       "3              0.399281                0.413523          0.072868   \n",
       "4              0.399281                0.413523          0.072868   \n",
       "\n",
       "   black_alone_female  nativeam_male_alone  nativeam_female_alone  \\\n",
       "0            0.084973             0.001659               0.001624   \n",
       "1            0.084973             0.001659               0.001624   \n",
       "2            0.084973             0.001659               0.001624   \n",
       "3            0.084973             0.001659               0.001624   \n",
       "4            0.084973             0.001659               0.001624   \n",
       "\n",
       "            ...            state_name__WV  state_name__WY  tags__Both  \\\n",
       "0           ...                       0.0             0.0         0.0   \n",
       "1           ...                       0.0             0.0         0.0   \n",
       "2           ...                       0.0             0.0         0.0   \n",
       "3           ...                       0.0             0.0         0.0   \n",
       "4           ...                       0.0             0.0         0.0   \n",
       "\n",
       "   tags__Neither  tags__OlderAmerican  tags__Servicemember  \\\n",
       "0            1.0                  0.0                  0.0   \n",
       "1            1.0                  0.0                  0.0   \n",
       "2            1.0                  0.0                  0.0   \n",
       "3            1.0                  0.0                  0.0   \n",
       "4            1.0                  0.0                  0.0   \n",
       "\n",
       "   timely_response__No  timely_response__Yes  consumer_disputed__No  \\\n",
       "0                  0.0                   1.0                    1.0   \n",
       "1                  0.0                   1.0                    1.0   \n",
       "2                  0.0                   1.0                    1.0   \n",
       "3                  0.0                   1.0                    1.0   \n",
       "4                  0.0                   1.0                    1.0   \n",
       "\n",
       "   consumer_disputed__Yes  \n",
       "0                     0.0  \n",
       "1                     0.0  \n",
       "2                     0.0  \n",
       "3                     0.0  \n",
       "4                     0.0  \n",
       "\n",
       "[5 rows x 374 columns]"
      ]
     },
     "execution_count": 132,
     "metadata": {},
     "output_type": "execute_result"
    }
   ],
   "source": [
    "clusteredData.head()"
   ]
  },
  {
   "cell_type": "code",
   "execution_count": 133,
   "metadata": {
    "collapsed": false
   },
   "outputs": [],
   "source": [
    "mergedDataset = pd.read_csv(\"mergedDataset.csv\")\n",
    "mergedDataset['labels'] = y"
   ]
  },
  {
   "cell_type": "code",
   "execution_count": 134,
   "metadata": {
    "collapsed": false
   },
   "outputs": [
    {
     "data": {
      "text/html": [
       "<div>\n",
       "<table border=\"1\" class=\"dataframe\">\n",
       "  <thead>\n",
       "    <tr style=\"text-align: right;\">\n",
       "      <th></th>\n",
       "      <th>date_received</th>\n",
       "      <th>product</th>\n",
       "      <th>sub_product</th>\n",
       "      <th>issue</th>\n",
       "      <th>sub_issue</th>\n",
       "      <th>company_response</th>\n",
       "      <th>company</th>\n",
       "      <th>state_name</th>\n",
       "      <th>zip_code</th>\n",
       "      <th>tags</th>\n",
       "      <th>...</th>\n",
       "      <th>hisp_black_aoc_female</th>\n",
       "      <th>hisp_nativeam_aoc_male</th>\n",
       "      <th>hisp_nativeam_aoc_female</th>\n",
       "      <th>hisp_asian_aoc_male</th>\n",
       "      <th>hisp_asian_aoc_female</th>\n",
       "      <th>hisp_pacific_aoc_male</th>\n",
       "      <th>hisp_pacific_aoc_female</th>\n",
       "      <th>not_hisp_pacific_alone_female</th>\n",
       "      <th>hisp_nativeam_alone_female</th>\n",
       "      <th>labels</th>\n",
       "    </tr>\n",
       "  </thead>\n",
       "  <tbody>\n",
       "    <tr>\n",
       "      <th>0</th>\n",
       "      <td>2016-04-08</td>\n",
       "      <td>Credit reporting</td>\n",
       "      <td>NaN</td>\n",
       "      <td>Incorrect information on credit report</td>\n",
       "      <td>Personal information</td>\n",
       "      <td>Company believes complaint caused principally ...</td>\n",
       "      <td>Credit Karma, Inc.</td>\n",
       "      <td>GA</td>\n",
       "      <td>30052.0</td>\n",
       "      <td>Neither</td>\n",
       "      <td>...</td>\n",
       "      <td>0.001433</td>\n",
       "      <td>0.000836</td>\n",
       "      <td>0.000645</td>\n",
       "      <td>0.000191</td>\n",
       "      <td>0.000275</td>\n",
       "      <td>0.000155</td>\n",
       "      <td>0.000215</td>\n",
       "      <td>0.000263</td>\n",
       "      <td>0.00031</td>\n",
       "      <td>0</td>\n",
       "    </tr>\n",
       "    <tr>\n",
       "      <th>1</th>\n",
       "      <td>2016-03-25</td>\n",
       "      <td>Debt collection</td>\n",
       "      <td>Credit card</td>\n",
       "      <td>False statements or representation</td>\n",
       "      <td>Impersonated an attorney or official</td>\n",
       "      <td>NaN</td>\n",
       "      <td>Portfolio Recovery Associates, Inc.</td>\n",
       "      <td>GA</td>\n",
       "      <td>30012.0</td>\n",
       "      <td>Neither</td>\n",
       "      <td>...</td>\n",
       "      <td>0.001433</td>\n",
       "      <td>0.000836</td>\n",
       "      <td>0.000645</td>\n",
       "      <td>0.000191</td>\n",
       "      <td>0.000275</td>\n",
       "      <td>0.000155</td>\n",
       "      <td>0.000215</td>\n",
       "      <td>0.000263</td>\n",
       "      <td>0.00031</td>\n",
       "      <td>0</td>\n",
       "    </tr>\n",
       "    <tr>\n",
       "      <th>2</th>\n",
       "      <td>2016-03-24</td>\n",
       "      <td>Credit reporting</td>\n",
       "      <td>NaN</td>\n",
       "      <td>Credit monitoring or identity protection</td>\n",
       "      <td>Problem with fraud alerts</td>\n",
       "      <td>NaN</td>\n",
       "      <td>TransUnion Intermediate Holdings, Inc.</td>\n",
       "      <td>GA</td>\n",
       "      <td>30014.0</td>\n",
       "      <td>Neither</td>\n",
       "      <td>...</td>\n",
       "      <td>0.001433</td>\n",
       "      <td>0.000836</td>\n",
       "      <td>0.000645</td>\n",
       "      <td>0.000191</td>\n",
       "      <td>0.000275</td>\n",
       "      <td>0.000155</td>\n",
       "      <td>0.000215</td>\n",
       "      <td>0.000263</td>\n",
       "      <td>0.00031</td>\n",
       "      <td>0</td>\n",
       "    </tr>\n",
       "    <tr>\n",
       "      <th>3</th>\n",
       "      <td>2016-03-04</td>\n",
       "      <td>Debt collection</td>\n",
       "      <td>Credit card</td>\n",
       "      <td>Cont'd attempts collect debt not owed</td>\n",
       "      <td>Debt is not mine</td>\n",
       "      <td>NaN</td>\n",
       "      <td>Encore Capital Group</td>\n",
       "      <td>GA</td>\n",
       "      <td>30054.0</td>\n",
       "      <td>Neither</td>\n",
       "      <td>...</td>\n",
       "      <td>0.001433</td>\n",
       "      <td>0.000836</td>\n",
       "      <td>0.000645</td>\n",
       "      <td>0.000191</td>\n",
       "      <td>0.000275</td>\n",
       "      <td>0.000155</td>\n",
       "      <td>0.000215</td>\n",
       "      <td>0.000263</td>\n",
       "      <td>0.00031</td>\n",
       "      <td>0</td>\n",
       "    </tr>\n",
       "    <tr>\n",
       "      <th>4</th>\n",
       "      <td>2016-03-04</td>\n",
       "      <td>Debt collection</td>\n",
       "      <td>Credit card</td>\n",
       "      <td>Cont'd attempts collect debt not owed</td>\n",
       "      <td>Debt is not mine</td>\n",
       "      <td>NaN</td>\n",
       "      <td>Encore Capital Group</td>\n",
       "      <td>GA</td>\n",
       "      <td>30054.0</td>\n",
       "      <td>Neither</td>\n",
       "      <td>...</td>\n",
       "      <td>0.001433</td>\n",
       "      <td>0.000836</td>\n",
       "      <td>0.000645</td>\n",
       "      <td>0.000191</td>\n",
       "      <td>0.000275</td>\n",
       "      <td>0.000155</td>\n",
       "      <td>0.000215</td>\n",
       "      <td>0.000263</td>\n",
       "      <td>0.00031</td>\n",
       "      <td>0</td>\n",
       "    </tr>\n",
       "  </tbody>\n",
       "</table>\n",
       "<p>5 rows × 94 columns</p>\n",
       "</div>"
      ],
      "text/plain": [
       "  date_received           product  sub_product  \\\n",
       "0    2016-04-08  Credit reporting          NaN   \n",
       "1    2016-03-25   Debt collection  Credit card   \n",
       "2    2016-03-24  Credit reporting          NaN   \n",
       "3    2016-03-04   Debt collection  Credit card   \n",
       "4    2016-03-04   Debt collection  Credit card   \n",
       "\n",
       "                                      issue  \\\n",
       "0    Incorrect information on credit report   \n",
       "1        False statements or representation   \n",
       "2  Credit monitoring or identity protection   \n",
       "3     Cont'd attempts collect debt not owed   \n",
       "4     Cont'd attempts collect debt not owed   \n",
       "\n",
       "                              sub_issue  \\\n",
       "0                  Personal information   \n",
       "1  Impersonated an attorney or official   \n",
       "2             Problem with fraud alerts   \n",
       "3                      Debt is not mine   \n",
       "4                      Debt is not mine   \n",
       "\n",
       "                                    company_response  \\\n",
       "0  Company believes complaint caused principally ...   \n",
       "1                                                NaN   \n",
       "2                                                NaN   \n",
       "3                                                NaN   \n",
       "4                                                NaN   \n",
       "\n",
       "                                  company state_name  zip_code     tags  \\\n",
       "0                      Credit Karma, Inc.         GA   30052.0  Neither   \n",
       "1     Portfolio Recovery Associates, Inc.         GA   30012.0  Neither   \n",
       "2  TransUnion Intermediate Holdings, Inc.         GA   30014.0  Neither   \n",
       "3                    Encore Capital Group         GA   30054.0  Neither   \n",
       "4                    Encore Capital Group         GA   30054.0  Neither   \n",
       "\n",
       "    ...   hisp_black_aoc_female hisp_nativeam_aoc_male  \\\n",
       "0   ...                0.001433               0.000836   \n",
       "1   ...                0.001433               0.000836   \n",
       "2   ...                0.001433               0.000836   \n",
       "3   ...                0.001433               0.000836   \n",
       "4   ...                0.001433               0.000836   \n",
       "\n",
       "  hisp_nativeam_aoc_female hisp_asian_aoc_male hisp_asian_aoc_female  \\\n",
       "0                 0.000645            0.000191              0.000275   \n",
       "1                 0.000645            0.000191              0.000275   \n",
       "2                 0.000645            0.000191              0.000275   \n",
       "3                 0.000645            0.000191              0.000275   \n",
       "4                 0.000645            0.000191              0.000275   \n",
       "\n",
       "  hisp_pacific_aoc_male  hisp_pacific_aoc_female  \\\n",
       "0              0.000155                 0.000215   \n",
       "1              0.000155                 0.000215   \n",
       "2              0.000155                 0.000215   \n",
       "3              0.000155                 0.000215   \n",
       "4              0.000155                 0.000215   \n",
       "\n",
       "   not_hisp_pacific_alone_female hisp_nativeam_alone_female  labels  \n",
       "0                       0.000263                    0.00031       0  \n",
       "1                       0.000263                    0.00031       0  \n",
       "2                       0.000263                    0.00031       0  \n",
       "3                       0.000263                    0.00031       0  \n",
       "4                       0.000263                    0.00031       0  \n",
       "\n",
       "[5 rows x 94 columns]"
      ]
     },
     "execution_count": 134,
     "metadata": {},
     "output_type": "execute_result"
    }
   ],
   "source": [
    "mergedDataset.head()"
   ]
  },
  {
   "cell_type": "code",
   "execution_count": 144,
   "metadata": {
    "collapsed": false
   },
   "outputs": [
    {
     "data": {
      "text/plain": [
       "(0.000423595237060243, 0.002193308261492692)"
      ]
     },
     "execution_count": 144,
     "metadata": {},
     "output_type": "execute_result"
    }
   ],
   "source": [
    "(mergedDataset.query(\"\"\"labels==0\"\"\")['hisp_asian_alone_female'].mean(),\n",
    " mergedDataset.query(\"\"\"labels==1\"\"\")['hisp_asian_alone_female'].mean())"
   ]
  },
  {
   "cell_type": "code",
   "execution_count": 145,
   "metadata": {
    "collapsed": false
   },
   "outputs": [
    {
     "data": {
      "text/plain": [
       "(0.0020776312208056168, 0.007215892494361203)"
      ]
     },
     "execution_count": 145,
     "metadata": {},
     "output_type": "execute_result"
    }
   ],
   "source": [
    "(mergedDataset.query(\"\"\"labels==0\"\"\")['hisp_nativeam_aoc_female'].mean(),\n",
    " mergedDataset.query(\"\"\"labels==1\"\"\")['hisp_nativeam_aoc_female'].mean())"
   ]
  },
  {
   "cell_type": "code",
   "execution_count": 146,
   "metadata": {
    "collapsed": false
   },
   "outputs": [
    {
     "data": {
      "text/plain": [
       "(0.002312719910802029, 0.007526149032218437)"
      ]
     },
     "execution_count": 146,
     "metadata": {},
     "output_type": "execute_result"
    }
   ],
   "source": [
    "(mergedDataset.query(\"\"\"labels==0\"\"\")['hisp_nativeam_aoc_male'].mean(),\n",
    " mergedDataset.query(\"\"\"labels==1\"\"\")['hisp_nativeam_aoc_male'].mean())"
   ]
  },
  {
   "cell_type": "code",
   "execution_count": 147,
   "metadata": {
    "collapsed": false
   },
   "outputs": [
    {
     "data": {
      "text/plain": [
       "(0.0004325625329237277, 0.002142435427032182)"
      ]
     },
     "execution_count": 147,
     "metadata": {},
     "output_type": "execute_result"
    }
   ],
   "source": [
    "(mergedDataset.query(\"\"\"labels==0\"\"\")['hisp_asian_alone_male'].mean(),\n",
    " mergedDataset.query(\"\"\"labels==1\"\"\")['hisp_asian_alone_male'].mean())"
   ]
  },
  {
   "cell_type": "code",
   "execution_count": 148,
   "metadata": {
    "collapsed": false
   },
   "outputs": [
    {
     "data": {
      "text/plain": [
       "(0.04786420075582912, 0.17415252155733882)"
      ]
     },
     "execution_count": 148,
     "metadata": {},
     "output_type": "execute_result"
    }
   ],
   "source": [
    "(mergedDataset.query(\"\"\"labels==0\"\"\")['hisp_white_aoc_male'].mean(),\n",
    " mergedDataset.query(\"\"\"labels==1\"\"\")['hisp_white_aoc_male'].mean())"
   ]
  },
  {
   "cell_type": "code",
   "execution_count": 149,
   "metadata": {
    "collapsed": false
   },
   "outputs": [
    {
     "data": {
      "text/plain": [
       "(0.0007691231017846226, 0.0036182140314220497)"
      ]
     },
     "execution_count": 149,
     "metadata": {},
     "output_type": "execute_result"
    }
   ],
   "source": [
    "(mergedDataset.query(\"\"\"labels==0\"\"\")['hisp_asian_aoc_female'].mean(),\n",
    " mergedDataset.query(\"\"\"labels==1\"\"\")['hisp_asian_aoc_female'].mean())"
   ]
  },
  {
   "cell_type": "code",
   "execution_count": 151,
   "metadata": {
    "collapsed": false
   },
   "outputs": [
    {
     "data": {
      "text/plain": [
       "(0.0016473071853516253, 0.004493868685872551)"
      ]
     },
     "execution_count": 151,
     "metadata": {},
     "output_type": "execute_result"
    }
   ],
   "source": [
    "(mergedDataset.query(\"\"\"labels==0\"\"\")['hisp_mixed_alone_female'].mean(),\n",
    " mergedDataset.query(\"\"\"labels==1\"\"\")['hisp_mixed_alone_female'].mean())"
   ]
  },
  {
   "cell_type": "markdown",
   "metadata": {},
   "source": [
    "The trend in the above indicates that, on average, the hispanic population falls into cluster 1."
   ]
  },
  {
   "cell_type": "code",
   "execution_count": 152,
   "metadata": {
    "collapsed": false
   },
   "outputs": [
    {
     "data": {
      "text/plain": [
       "(0.43525209081457994, 0.3031082418730597)"
      ]
     },
     "execution_count": 152,
     "metadata": {},
     "output_type": "execute_result"
    }
   ],
   "source": [
    "(mergedDataset.query(\"\"\"labels==0\"\"\")['not_hisp_male_total'].mean(),\n",
    " mergedDataset.query(\"\"\"labels==1\"\"\")['not_hisp_male_total'].mean())"
   ]
  },
  {
   "cell_type": "code",
   "execution_count": 153,
   "metadata": {
    "collapsed": false
   },
   "outputs": [
    {
     "data": {
      "text/plain": [
       "(0.3537952380157938, 0.20179656984626024)"
      ]
     },
     "execution_count": 153,
     "metadata": {},
     "output_type": "execute_result"
    }
   ],
   "source": [
    "(mergedDataset.query(\"\"\"labels==0\"\"\")['not_hisp_white_aoc_female'].mean(),\n",
    " mergedDataset.query(\"\"\"labels==1\"\"\")['not_hisp_white_aoc_female'].mean())"
   ]
  },
  {
   "cell_type": "markdown",
   "metadata": {},
   "source": [
    "These two categories support the above observation by indicating that non-hispanic, white populations tend to fall into cluster 0."
   ]
  },
  {
   "cell_type": "code",
   "execution_count": 154,
   "metadata": {
    "collapsed": false
   },
   "outputs": [
    {
     "data": {
      "text/plain": [
       "(0.05072443869266556, 0.18998654077791183)"
      ]
     },
     "execution_count": 154,
     "metadata": {},
     "output_type": "execute_result"
    }
   ],
   "source": [
    "(mergedDataset.query(\"\"\"labels==0\"\"\")['hispanic_female_total'].mean(),\n",
    " mergedDataset.query(\"\"\"labels==1\"\"\")['hispanic_female_total'].mean())"
   ]
  },
  {
   "cell_type": "markdown",
   "metadata": {},
   "source": [
    "And this last category continues the trend with a hispanic subpopulation falling into cluster 1."
   ]
  },
  {
   "cell_type": "markdown",
   "metadata": {},
   "source": [
    "The trend in the data is consistent among the most important factors in the Random Forest model: counties with higher hispanic subpopulations are differently represented in the CFPB complaint dataset than their non-hispanic counterparts, tending to fall into different clusters, as identified by k-means. That is, hispanic subpopulations tend to fall into cluster 1 while non-hispanic, white populations, as identified by the Census Bureau, tend to fall into cluster 0."
   ]
  },
  {
   "cell_type": "code",
   "execution_count": null,
   "metadata": {
    "collapsed": true
   },
   "outputs": [],
   "source": []
  }
 ],
 "metadata": {
  "kernelspec": {
   "display_name": "Python 2",
   "language": "python",
   "name": "python2"
  },
  "language_info": {
   "codemirror_mode": {
    "name": "ipython",
    "version": 2
   },
   "file_extension": ".py",
   "mimetype": "text/x-python",
   "name": "python",
   "nbconvert_exporter": "python",
   "pygments_lexer": "ipython2",
   "version": "2.7.11"
  },
  "latex_metadata": {
   "author": "Jacob Metzger",
   "title": "Extracting Demographic Clusters From Consumer Financial Protection Bureau Complaint Data"
  }
 },
 "nbformat": 4,
 "nbformat_minor": 0
}
