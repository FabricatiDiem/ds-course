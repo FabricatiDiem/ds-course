{
 "cells": [
  {
   "cell_type": "markdown",
   "metadata": {},
   "source": [
    "# Boston Housing Assignment\n",
    "\n",
    "### Completed by: Jacob Metzger\n",
    "### Due: 02/22/2016\n",
    "\n",
    "Assignment template found at: http://nbviewer.jupyter.org/github/mbernico/CS570/blob/master/boston_assignment.ipynb\n",
    "\n",
    "In this assignment you'll be using linear regression to estimate the cost of house in Boston, using a well known dataset.\n",
    "\n",
    "Goals:\n",
    "+  Measure the performance of the model I created using $R^{2}$ and MSE\n",
    "> Learn how to use sklearn.metrics.r2_score and sklearn.metrics.mean_squared_error\n",
    "+  Implement a new model using L2 regularization\n",
    "> Use sklearn.linear_model.Ridge or sklearn.linear_model.Lasso \n",
    "+  Get the best model you can by optimizing the regularization parameter.   "
   ]
  },
  {
   "cell_type": "code",
   "execution_count": 1,
   "metadata": {
    "collapsed": false
   },
   "outputs": [],
   "source": [
    "from sklearn import datasets\n",
    "import pandas as pd\n",
    "from sklearn.preprocessing import StandardScaler\n",
    "from sklearn.cross_validation import train_test_split\n",
    "from sklearn.metrics import mean_squared_error\n",
    "from sklearn.metrics import r2_score\n",
    "from sklearn.linear_model import LinearRegression"
   ]
  },
  {
   "cell_type": "code",
   "execution_count": 2,
   "metadata": {
    "collapsed": false
   },
   "outputs": [
    {
     "name": "stdout",
     "output_type": "stream",
     "text": [
      "Boston House Prices dataset\n",
      "\n",
      "Notes\n",
      "------\n",
      "Data Set Characteristics:  \n",
      "\n",
      "    :Number of Instances: 506 \n",
      "\n",
      "    :Number of Attributes: 13 numeric/categorical predictive\n",
      "    \n",
      "    :Median Value (attribute 14) is usually the target\n",
      "\n",
      "    :Attribute Information (in order):\n",
      "        - CRIM     per capita crime rate by town\n",
      "        - ZN       proportion of residential land zoned for lots over 25,000 sq.ft.\n",
      "        - INDUS    proportion of non-retail business acres per town\n",
      "        - CHAS     Charles River dummy variable (= 1 if tract bounds river; 0 otherwise)\n",
      "        - NOX      nitric oxides concentration (parts per 10 million)\n",
      "        - RM       average number of rooms per dwelling\n",
      "        - AGE      proportion of owner-occupied units built prior to 1940\n",
      "        - DIS      weighted distances to five Boston employment centres\n",
      "        - RAD      index of accessibility to radial highways\n",
      "        - TAX      full-value property-tax rate per $10,000\n",
      "        - PTRATIO  pupil-teacher ratio by town\n",
      "        - B        1000(Bk - 0.63)^2 where Bk is the proportion of blacks by town\n",
      "        - LSTAT    % lower status of the population\n",
      "        - MEDV     Median value of owner-occupied homes in $1000's\n",
      "\n",
      "    :Missing Attribute Values: None\n",
      "\n",
      "    :Creator: Harrison, D. and Rubinfeld, D.L.\n",
      "\n",
      "This is a copy of UCI ML housing dataset.\n",
      "http://archive.ics.uci.edu/ml/datasets/Housing\n",
      "\n",
      "\n",
      "This dataset was taken from the StatLib library which is maintained at Carnegie Mellon University.\n",
      "\n",
      "The Boston house-price data of Harrison, D. and Rubinfeld, D.L. 'Hedonic\n",
      "prices and the demand for clean air', J. Environ. Economics & Management,\n",
      "vol.5, 81-102, 1978.   Used in Belsley, Kuh & Welsch, 'Regression diagnostics\n",
      "...', Wiley, 1980.   N.B. Various transformations are used in the table on\n",
      "pages 244-261 of the latter.\n",
      "\n",
      "The Boston house-price data has been used in many machine learning papers that address regression\n",
      "problems.   \n",
      "     \n",
      "**References**\n",
      "\n",
      "   - Belsley, Kuh & Welsch, 'Regression diagnostics: Identifying Influential Data and Sources of Collinearity', Wiley, 1980. 244-261.\n",
      "   - Quinlan,R. (1993). Combining Instance-Based and Model-Based Learning. In Proceedings on the Tenth International Conference of Machine Learning, 236-243, University of Massachusetts, Amherst. Morgan Kaufmann.\n",
      "   - many more! (see http://archive.ics.uci.edu/ml/datasets/Housing)\n",
      "\n"
     ]
    }
   ],
   "source": [
    "bean = datasets.load_boston()\n",
    "print bean.DESCR"
   ]
  },
  {
   "cell_type": "code",
   "execution_count": 3,
   "metadata": {
    "collapsed": false
   },
   "outputs": [],
   "source": [
    "def load_boston():\n",
    "    scaler = StandardScaler()\n",
    "    boston = datasets.load_boston()\n",
    "    X=boston.data\n",
    "    y=boston.target\n",
    "    X = scaler.fit_transform(X) # This transforms the data about zero (by subtracting the mean) and scales by the std.dev.\n",
    "    return train_test_split(X,y) #Splits into 3:1 training:test sets\n",
    "    "
   ]
  },
  {
   "cell_type": "code",
   "execution_count": 4,
   "metadata": {
    "collapsed": false
   },
   "outputs": [],
   "source": [
    "X_train, X_test, y_train, y_test = load_boston()"
   ]
  },
  {
   "cell_type": "code",
   "execution_count": 5,
   "metadata": {
    "collapsed": false
   },
   "outputs": [
    {
     "data": {
      "text/plain": [
       "(379L, 13L)"
      ]
     },
     "execution_count": 5,
     "metadata": {},
     "output_type": "execute_result"
    }
   ],
   "source": [
    "X_train.shape"
   ]
  },
  {
   "cell_type": "code",
   "execution_count": 6,
   "metadata": {
    "collapsed": false
   },
   "outputs": [
    {
     "data": {
      "text/plain": [
       "(127L, 13L)"
      ]
     },
     "execution_count": 6,
     "metadata": {},
     "output_type": "execute_result"
    }
   ],
   "source": [
    "X_test.shape #Note that the test is 1/3 the size of the training set, confirming the split ratio"
   ]
  },
  {
   "cell_type": "markdown",
   "metadata": {},
   "source": [
    "### Fitting a Linear Regression\n",
    "\n",
    "It's as easy as instantiating a new regression object (line 1) and giving your regression object your training data\n",
    "(line 2) by calling .fit(independent variables, dependent variable)\n",
    "\n"
   ]
  },
  {
   "cell_type": "code",
   "execution_count": 7,
   "metadata": {
    "collapsed": false
   },
   "outputs": [
    {
     "data": {
      "text/plain": [
       "LinearRegression(copy_X=True, fit_intercept=True, n_jobs=1, normalize=False)"
      ]
     },
     "execution_count": 7,
     "metadata": {},
     "output_type": "execute_result"
    }
   ],
   "source": [
    "clf = LinearRegression()\n",
    "clf.fit(X_train, y_train)"
   ]
  },
  {
   "cell_type": "markdown",
   "metadata": {},
   "source": [
    "### Making a Prediction\n",
    "X_test is our holdout set of data.  We know the answer (y_test), but the computer does not.   \n",
    "\n",
    "Using the command below, I create a tuple for each observation, where I'm combining the real value (y_test) with\n",
    "the value our regressor predicts (clf.predict(X_test))\n",
    "\n",
    "Use a similiar format to get your r2 and mse metrics working.  Using the [scikit learn api](http://scikit-learn.org/stable/modules/model_evaluation.html) if you need help!"
   ]
  },
  {
   "cell_type": "code",
   "execution_count": 8,
   "metadata": {
    "collapsed": false
   },
   "outputs": [
    {
     "data": {
      "text/plain": [
       "[(30.800000000000001, 31.572171202128374),\n",
       " (9.5, 12.883515348386215),\n",
       " (19.399999999999999, 23.524233551204453),\n",
       " (17.600000000000001, 16.456233534904165),\n",
       " (27.5, 32.020722073233351),\n",
       " (23.0, 20.344882649944637),\n",
       " (8.3000000000000007, 13.596152781186694),\n",
       " (22.0, 27.715075084130099),\n",
       " (23.100000000000001, 20.401728525542399),\n",
       " (16.699999999999999, 20.118122676876347),\n",
       " (20.5, 20.290111503700938),\n",
       " (7.2000000000000002, 8.6026882033314287),\n",
       " (28.100000000000001, 25.005292859204104),\n",
       " (18.5, 25.856876231091352),\n",
       " (13.5, 12.880815455821381),\n",
       " (15.300000000000001, 21.315894547097937),\n",
       " (48.5, 42.261333413184389),\n",
       " (20.300000000000001, 19.534565492009737),\n",
       " (28.699999999999999, 28.545558944227334),\n",
       " (17.699999999999999, 20.859570424286908),\n",
       " (23.600000000000001, 29.552080914259356),\n",
       " (13.6, 12.526871402884163),\n",
       " (45.399999999999999, 38.704763090279044),\n",
       " (24.800000000000001, 31.331949315151526),\n",
       " (20.100000000000001, 19.949710657306628),\n",
       " (14.300000000000001, 14.434032199160628),\n",
       " (22.0, 21.123647495249873),\n",
       " (34.899999999999999, 30.616149106240716),\n",
       " (29.100000000000001, 30.475001832845393),\n",
       " (31.5, 32.68737241737044),\n",
       " (22.899999999999999, 28.98807691839307),\n",
       " (22.600000000000001, 22.577631769253589),\n",
       " (19.699999999999999, 14.448521671029873),\n",
       " (25.199999999999999, 27.044774178573942),\n",
       " (50.0, 39.426954866452121),\n",
       " (20.199999999999999, 23.136289659892306),\n",
       " (13.1, 14.406628291668518),\n",
       " (22.800000000000001, 29.408303335217333),\n",
       " (22.600000000000001, 27.099368923062816),\n",
       " (7.0, 9.1988285880858776),\n",
       " (21.600000000000001, 25.024885765774389),\n",
       " (15.1, 18.090649001110904),\n",
       " (23.199999999999999, 27.278527830261051),\n",
       " (32.700000000000003, 30.451526706459791),\n",
       " (7.4000000000000004, 6.0724585612677338),\n",
       " (22.0, 26.087955988360164),\n",
       " (37.899999999999999, 33.899663053397859),\n",
       " (5.5999999999999996, 12.116623109549129),\n",
       " (23.699999999999999, 10.577105283327677),\n",
       " (36.200000000000003, 27.503251485881197),\n",
       " (46.0, 39.990497263672736),\n",
       " (36.399999999999999, 33.356945181623772),\n",
       " (22.0, 27.678394554001542),\n",
       " (34.700000000000003, 30.332367943401145),\n",
       " (20.699999999999999, 25.52246705753047),\n",
       " (20.300000000000001, 23.937291869781248),\n",
       " (11.5, 15.109294346148776),\n",
       " (21.699999999999999, 21.183979120949903),\n",
       " (21.399999999999999, 24.031368635341327),\n",
       " (10.5, 6.8226434559341129),\n",
       " (25.0, 24.946457837562175),\n",
       " (11.0, 14.241395791794034),\n",
       " (12.1, 18.76305580542407),\n",
       " (13.1, 20.8949535254545),\n",
       " (32.899999999999999, 31.085363119654268),\n",
       " (8.5, 7.267758913070459),\n",
       " (14.5, 13.776668991475578),\n",
       " (21.899999999999999, 37.325399452136885),\n",
       " (13.0, 17.640938461468902),\n",
       " (14.5, 18.098494301735329),\n",
       " (18.800000000000001, 21.478497028352098),\n",
       " (23.800000000000001, 27.060518779237263),\n",
       " (22.399999999999999, 23.374394166538991),\n",
       " (18.300000000000001, 21.027260780299198),\n",
       " (19.199999999999999, 20.289017946994363),\n",
       " (24.100000000000001, 30.236353760505786),\n",
       " (18.699999999999999, 21.335716578288054),\n",
       " (25.0, 26.013180359576314),\n",
       " (19.199999999999999, 24.429693145889484),\n",
       " (13.1, 16.010902460915158),\n",
       " (21.399999999999999, 20.845042510469227),\n",
       " (19.0, 14.44856998646822),\n",
       " (17.100000000000001, 20.244556590823716),\n",
       " (19.100000000000001, 25.150580089484343),\n",
       " (22.0, 27.248854628494264),\n",
       " (29.100000000000001, 31.855100765879854),\n",
       " (23.199999999999999, 17.931464291991059),\n",
       " (41.700000000000003, 37.748882917795129),\n",
       " (20.600000000000001, 19.927336916912118),\n",
       " (17.0, 23.076008099611069),\n",
       " (6.2999999999999998, 11.16964346517943),\n",
       " (35.399999999999999, 34.353133531988114),\n",
       " (10.9, 13.552632787840038),\n",
       " (34.899999999999999, 34.30795765502365),\n",
       " (19.899999999999999, 18.438364033221276),\n",
       " (18.399999999999999, 16.122855919174704),\n",
       " (22.899999999999999, 20.458820337903941),\n",
       " (29.800000000000001, 33.155758868983199),\n",
       " (22.199999999999999, 23.870606897070545),\n",
       " (33.799999999999997, 35.507256877486384),\n",
       " (22.199999999999999, 24.18516300237826),\n",
       " (7.0, -4.6876654268437399),\n",
       " (50.0, 33.283659111392936),\n",
       " (10.9, 18.812495972434835),\n",
       " (22.300000000000001, 27.472031036679752),\n",
       " (11.300000000000001, 14.203602932189298),\n",
       " (28.399999999999999, 28.652250778235455),\n",
       " (20.800000000000001, 23.477051801794236),\n",
       " (19.5, 20.415256272232725),\n",
       " (32.0, 33.940586820691152),\n",
       " (27.5, 24.674653438306862),\n",
       " (12.699999999999999, 18.656186770616927),\n",
       " (39.799999999999997, 34.406308537528751),\n",
       " (16.300000000000001, 12.052223902891424),\n",
       " (19.300000000000001, 22.036049501966179),\n",
       " (23.800000000000001, 23.662937595321054),\n",
       " (26.399999999999999, 29.037379733783244),\n",
       " (23.0, 23.443041430513613),\n",
       " (18.5, 19.056328523041469),\n",
       " (23.899999999999999, 28.218398002138535),\n",
       " (18.199999999999999, 19.28065702028772),\n",
       " (30.100000000000001, 25.194562554016013),\n",
       " (31.699999999999999, 33.257404831821475),\n",
       " (24.699999999999999, 24.251449421161865),\n",
       " (17.5, 16.470600218253168),\n",
       " (50.0, 40.891354753869756),\n",
       " (17.399999999999999, 23.267408772379611)]"
      ]
     },
     "execution_count": 8,
     "metadata": {},
     "output_type": "execute_result"
    }
   ],
   "source": [
    "zip (y_test, clf.predict(X_test))"
   ]
  },
  {
   "cell_type": "code",
   "execution_count": 9,
   "metadata": {
    "collapsed": false
   },
   "outputs": [
    {
     "data": {
      "text/plain": [
       "0.75527626386029212"
      ]
     },
     "execution_count": 9,
     "metadata": {},
     "output_type": "execute_result"
    }
   ],
   "source": [
    "#Calculate R^2 error\n",
    "from sklearn.metrics import r2_score\n",
    "r2_score(y_test, clf.predict(X_test))"
   ]
  },
  {
   "cell_type": "code",
   "execution_count": 10,
   "metadata": {
    "collapsed": false
   },
   "outputs": [
    {
     "data": {
      "text/plain": [
       "21.866696865076516"
      ]
     },
     "execution_count": 10,
     "metadata": {},
     "output_type": "execute_result"
    }
   ],
   "source": [
    "#Calculate MSE\n",
    "from sklearn.metrics import mean_squared_error\n",
    "mean_squared_error(y_test, clf.predict(X_test))"
   ]
  },
  {
   "cell_type": "markdown",
   "metadata": {},
   "source": [
    "## Implement new models using regularization\n",
    "\n",
    "### Lasso regression linear model (L1 regularization)"
   ]
  },
  {
   "cell_type": "code",
   "execution_count": 11,
   "metadata": {
    "collapsed": false
   },
   "outputs": [
    {
     "data": {
      "text/plain": [
       "Lasso(alpha=1.0, copy_X=True, fit_intercept=True, max_iter=1000,\n",
       "   normalize=False, positive=False, precompute=False, random_state=None,\n",
       "   selection='cyclic', tol=0.0001, warm_start=False)"
      ]
     },
     "execution_count": 11,
     "metadata": {},
     "output_type": "execute_result"
    }
   ],
   "source": [
    "from sklearn.linear_model import Lasso\n",
    "lassoClf = Lasso()\n",
    "lassoClf.fit(X_train, y_train)"
   ]
  },
  {
   "cell_type": "markdown",
   "metadata": {},
   "source": [
    "#### Make a prediction"
   ]
  },
  {
   "cell_type": "code",
   "execution_count": 12,
   "metadata": {
    "collapsed": false,
    "scrolled": false
   },
   "outputs": [
    {
     "data": {
      "text/plain": [
       "[(30.800000000000001, 28.104402338555563),\n",
       " (9.5, 15.297603360046249),\n",
       " (19.399999999999999, 25.30045181031813),\n",
       " (17.600000000000001, 19.969861183387607),\n",
       " (27.5, 27.032460620285583),\n",
       " (23.0, 21.921077134103928),\n",
       " (8.3000000000000007, 14.847335028133443),\n",
       " (22.0, 27.788203471124586),\n",
       " (23.100000000000001, 22.781187848074094),\n",
       " (16.699999999999999, 20.637563183563863),\n",
       " (20.5, 18.592547926322666),\n",
       " (7.2000000000000002, 9.1650097585019363),\n",
       " (28.100000000000001, 24.610885910782148),\n",
       " (18.5, 24.233983036210844),\n",
       " (13.5, 17.097555427121286),\n",
       " (15.300000000000001, 21.224109233889322),\n",
       " (48.5, 35.239038004545336),\n",
       " (20.300000000000001, 21.257299734103366),\n",
       " (28.699999999999999, 26.948923515163635),\n",
       " (17.699999999999999, 20.916189409979495),\n",
       " (23.600000000000001, 26.351975826126502),\n",
       " (13.6, 14.377667360758053),\n",
       " (45.399999999999999, 34.992409840221107),\n",
       " (24.800000000000001, 30.641426784554408),\n",
       " (20.100000000000001, 22.508421405389029),\n",
       " (14.300000000000001, 15.849789544202789),\n",
       " (22.0, 23.335902474091366),\n",
       " (34.899999999999999, 30.22107702888157),\n",
       " (29.100000000000001, 26.794472323181989),\n",
       " (31.5, 31.166305933965518),\n",
       " (22.899999999999999, 25.7519107298973),\n",
       " (22.600000000000001, 22.230461668081077),\n",
       " (19.699999999999999, 15.016750817588253),\n",
       " (25.199999999999999, 25.548263397636262),\n",
       " (50.0, 35.937764410690605),\n",
       " (20.199999999999999, 23.544425629449904),\n",
       " (13.1, 19.297598320918659),\n",
       " (22.800000000000001, 25.200922848443003),\n",
       " (22.600000000000001, 24.115925483913728),\n",
       " (7.0, 12.917910755728316),\n",
       " (21.600000000000001, 25.482919510817613),\n",
       " (15.1, 17.412672566552459),\n",
       " (23.199999999999999, 26.572347411060015),\n",
       " (32.700000000000003, 31.732345816269412),\n",
       " (7.4000000000000004, 7.622586963407592),\n",
       " (22.0, 25.832799805074121),\n",
       " (37.899999999999999, 30.148850435490345),\n",
       " (5.5999999999999996, 13.618173891221907),\n",
       " (23.699999999999999, 11.231687470316064),\n",
       " (36.200000000000003, 29.247405759049236),\n",
       " (46.0, 34.810168925635281),\n",
       " (36.399999999999999, 33.000392549759638),\n",
       " (22.0, 25.879847521448173),\n",
       " (34.700000000000003, 30.637871293358252),\n",
       " (20.699999999999999, 21.033621144123433),\n",
       " (20.300000000000001, 23.092815923940289),\n",
       " (11.5, 14.458270922517221),\n",
       " (21.699999999999999, 22.206750130561218),\n",
       " (21.399999999999999, 24.440508357402415),\n",
       " (10.5, 8.2398066843099542),\n",
       " (25.0, 25.685985341193597),\n",
       " (11.0, 16.016031448128629),\n",
       " (12.1, 18.182387290158001),\n",
       " (13.1, 20.032311698420191),\n",
       " (32.899999999999999, 30.792943278284653),\n",
       " (8.5, 11.532337502158841),\n",
       " (14.5, 15.836276279412452),\n",
       " (21.899999999999999, 33.845384363165245),\n",
       " (13.0, 18.50383414106723),\n",
       " (14.5, 18.423557750492275),\n",
       " (18.800000000000001, 20.234346148189818),\n",
       " (23.800000000000001, 26.038470954089313),\n",
       " (22.399999999999999, 23.560843517156592),\n",
       " (18.300000000000001, 20.357700317359161),\n",
       " (19.199999999999999, 21.519284055323467),\n",
       " (24.100000000000001, 27.589301957958192),\n",
       " (18.699999999999999, 20.428705806742247),\n",
       " (25.0, 25.745462018016312),\n",
       " (19.199999999999999, 23.516088245461649),\n",
       " (13.1, 16.498281003276418),\n",
       " (21.399999999999999, 21.056393379263266),\n",
       " (19.0, 17.105320876600977),\n",
       " (17.100000000000001, 22.003855757810754),\n",
       " (19.100000000000001, 24.209725536637276),\n",
       " (22.0, 26.857923363802719),\n",
       " (29.100000000000001, 29.942502908903926),\n",
       " (23.199999999999999, 17.726210840789399),\n",
       " (41.700000000000003, 35.665138679849363),\n",
       " (20.600000000000001, 19.745221668593228),\n",
       " (17.0, 23.559561065189168),\n",
       " (6.2999999999999998, 11.398580812284889),\n",
       " (35.399999999999999, 31.640468303085889),\n",
       " (10.9, 19.257907782222748),\n",
       " (34.899999999999999, 30.745354413686606),\n",
       " (19.899999999999999, 18.85859589184167),\n",
       " (18.399999999999999, 18.09622126925332),\n",
       " (22.899999999999999, 25.945169271038115),\n",
       " (29.800000000000001, 29.986162819276739),\n",
       " (22.199999999999999, 25.458071147053936),\n",
       " (33.799999999999997, 31.330083188166846),\n",
       " (22.199999999999999, 25.009635541625997),\n",
       " (7.0, 2.5709904489387903),\n",
       " (50.0, 27.394191829744777),\n",
       " (10.9, 18.355463774936478),\n",
       " (22.300000000000001, 26.71405133290736),\n",
       " (11.300000000000001, 13.612047493889929),\n",
       " (28.399999999999999, 27.159447641247546),\n",
       " (20.800000000000001, 23.290324762353094),\n",
       " (19.5, 21.052503451404782),\n",
       " (32.0, 30.157690050820559),\n",
       " (27.5, 24.227559768586211),\n",
       " (12.699999999999999, 18.398208015976032),\n",
       " (39.799999999999997, 30.922959501348924),\n",
       " (16.300000000000001, 13.463274334038935),\n",
       " (19.300000000000001, 22.320358939192186),\n",
       " (23.800000000000001, 23.783538387013259),\n",
       " (26.399999999999999, 27.123249833379138),\n",
       " (23.0, 25.313589176477777),\n",
       " (18.5, 21.268734046507195),\n",
       " (23.899999999999999, 27.542439145333518),\n",
       " (18.199999999999999, 21.508937709290343),\n",
       " (30.100000000000001, 29.355643735745673),\n",
       " (31.699999999999999, 31.056133314544816),\n",
       " (24.699999999999999, 25.512822439245621),\n",
       " (17.5, 22.650816365401063),\n",
       " (50.0, 36.069509136268877),\n",
       " (17.399999999999999, 22.843864695300365)]"
      ]
     },
     "execution_count": 12,
     "metadata": {},
     "output_type": "execute_result"
    }
   ],
   "source": [
    "zip(y_test, lassoClf.predict(X_test))"
   ]
  },
  {
   "cell_type": "markdown",
   "metadata": {},
   "source": [
    "#### Calculate R^2 and MSE"
   ]
  },
  {
   "cell_type": "code",
   "execution_count": 13,
   "metadata": {
    "collapsed": false
   },
   "outputs": [
    {
     "data": {
      "text/plain": [
       "0.70639408998172737"
      ]
     },
     "execution_count": 13,
     "metadata": {},
     "output_type": "execute_result"
    }
   ],
   "source": [
    "r2_score(y_test, lassoClf.predict(X_test))"
   ]
  },
  {
   "cell_type": "code",
   "execution_count": 14,
   "metadata": {
    "collapsed": false
   },
   "outputs": [
    {
     "data": {
      "text/plain": [
       "26.234445147974284"
      ]
     },
     "execution_count": 14,
     "metadata": {},
     "output_type": "execute_result"
    }
   ],
   "source": [
    "mean_squared_error(y_test, lassoClf.predict(X_test))"
   ]
  },
  {
   "cell_type": "markdown",
   "metadata": {},
   "source": [
    "### Ridge regression linear model (L2 regularization)"
   ]
  },
  {
   "cell_type": "code",
   "execution_count": 15,
   "metadata": {
    "collapsed": false
   },
   "outputs": [
    {
     "data": {
      "text/plain": [
       "Ridge(alpha=1.0, copy_X=True, fit_intercept=True, max_iter=None,\n",
       "   normalize=False, random_state=None, solver='auto', tol=0.001)"
      ]
     },
     "execution_count": 15,
     "metadata": {},
     "output_type": "execute_result"
    }
   ],
   "source": [
    "from sklearn.linear_model import Ridge\n",
    "ridgeClf = Ridge()\n",
    "ridgeClf.fit(X_train, y_train)"
   ]
  },
  {
   "cell_type": "markdown",
   "metadata": {},
   "source": [
    "#### Make a prediction"
   ]
  },
  {
   "cell_type": "code",
   "execution_count": 16,
   "metadata": {
    "collapsed": false
   },
   "outputs": [
    {
     "data": {
      "text/plain": [
       "[(30.800000000000001, 31.525993799992662),\n",
       " (9.5, 12.888812065191271),\n",
       " (19.399999999999999, 23.554339309127361),\n",
       " (17.600000000000001, 16.472412284761951),\n",
       " (27.5, 32.002489642185537),\n",
       " (23.0, 20.372616104770366),\n",
       " (8.3000000000000007, 13.591389336457778),\n",
       " (22.0, 27.733859726622835),\n",
       " (23.100000000000001, 20.436874292638173),\n",
       " (16.699999999999999, 20.110141538923322),\n",
       " (20.5, 20.198279492164165),\n",
       " (7.2000000000000002, 8.610731232944854),\n",
       " (28.100000000000001, 24.993558557746603),\n",
       " (18.5, 25.86580077588404),\n",
       " (13.5, 12.888846252861097),\n",
       " (15.300000000000001, 21.357080463809382),\n",
       " (48.5, 42.16546454918101),\n",
       " (20.300000000000001, 19.52355788172142),\n",
       " (28.699999999999999, 28.497510911957924),\n",
       " (17.699999999999999, 20.854021933898455),\n",
       " (23.600000000000001, 29.521272280080435),\n",
       " (13.6, 12.559343959486634),\n",
       " (45.399999999999999, 38.644759818818009),\n",
       " (24.800000000000001, 31.332031080163787),\n",
       " (20.100000000000001, 19.976994464189389),\n",
       " (14.300000000000001, 14.463882592332103),\n",
       " (22.0, 21.160259780552249),\n",
       " (34.899999999999999, 30.654804676726158),\n",
       " (29.100000000000001, 30.41880524436074),\n",
       " (31.5, 32.661326790347701),\n",
       " (22.899999999999999, 28.912152139723766),\n",
       " (22.600000000000001, 22.565225666204736),\n",
       " (19.699999999999999, 14.484810472579385),\n",
       " (25.199999999999999, 27.01314377717868),\n",
       " (50.0, 39.396728433391793),\n",
       " (20.199999999999999, 23.128134032004954),\n",
       " (13.1, 14.447108035625421),\n",
       " (22.800000000000001, 29.355610433884504),\n",
       " (22.600000000000001, 27.067301335147626),\n",
       " (7.0, 9.3205840742391857),\n",
       " (21.600000000000001, 25.021319906100228),\n",
       " (15.1, 18.068342124223914),\n",
       " (23.199999999999999, 27.244247599330162),\n",
       " (32.700000000000003, 30.493829751605706),\n",
       " (7.4000000000000004, 6.0904464732130279),\n",
       " (22.0, 26.091431322578515),\n",
       " (37.899999999999999, 33.848126985359698),\n",
       " (5.5999999999999996, 12.135659197111421),\n",
       " (23.699999999999999, 10.60148042464904),\n",
       " (36.200000000000003, 27.528445228407051),\n",
       " (46.0, 39.957317402526414),\n",
       " (36.399999999999999, 33.384309981683614),\n",
       " (22.0, 27.675110845341962),\n",
       " (34.700000000000003, 30.333428377629879),\n",
       " (20.699999999999999, 25.499166513538597),\n",
       " (20.300000000000001, 23.922919736201386),\n",
       " (11.5, 15.088860163653795),\n",
       " (21.699999999999999, 21.199540901972476),\n",
       " (21.399999999999999, 24.042547601219567),\n",
       " (10.5, 6.8245399602430439),\n",
       " (25.0, 24.951129183775365),\n",
       " (11.0, 14.239834240582518),\n",
       " (12.1, 18.754697394429865),\n",
       " (13.1, 20.880422730898207),\n",
       " (32.899999999999999, 31.126676939562934),\n",
       " (8.5, 7.307026002835002),\n",
       " (14.5, 13.813760187084183),\n",
       " (21.899999999999999, 37.34407578769158),\n",
       " (13.0, 17.64352208969904),\n",
       " (14.5, 18.063182189336523),\n",
       " (18.800000000000001, 21.495062435633361),\n",
       " (23.800000000000001, 27.03061706981017),\n",
       " (22.399999999999999, 23.390221492152115),\n",
       " (18.300000000000001, 21.04664879829712),\n",
       " (19.199999999999999, 20.317577877069841),\n",
       " (24.100000000000001, 30.225009269804911),\n",
       " (18.699999999999999, 21.359574724949255),\n",
       " (25.0, 25.982016564135833),\n",
       " (19.199999999999999, 24.443112700994142),\n",
       " (13.1, 16.018184616595562),\n",
       " (21.399999999999999, 20.835211364501774),\n",
       " (19.0, 14.43505371229449),\n",
       " (17.100000000000001, 20.27911442029658),\n",
       " (19.100000000000001, 25.120208087395579),\n",
       " (22.0, 27.241344351254398),\n",
       " (29.100000000000001, 31.837014822876437),\n",
       " (23.199999999999999, 17.9246876629281),\n",
       " (41.700000000000003, 37.726678944332221),\n",
       " (20.600000000000001, 19.904828109520572),\n",
       " (17.0, 23.141572621842556),\n",
       " (6.2999999999999998, 11.181743619014467),\n",
       " (35.399999999999999, 34.299581494290898),\n",
       " (10.9, 13.570723362139232),\n",
       " (34.899999999999999, 34.264416562496308),\n",
       " (19.899999999999999, 18.425716616824364),\n",
       " (18.399999999999999, 16.154524993747984),\n",
       " (22.899999999999999, 20.559109396428088),\n",
       " (29.800000000000001, 33.146308645455953),\n",
       " (22.199999999999999, 23.857155003986868),\n",
       " (33.799999999999997, 35.473062853537506),\n",
       " (22.199999999999999, 24.180993931618321),\n",
       " (7.0, -4.6368629161264963),\n",
       " (50.0, 33.231173114020947),\n",
       " (10.9, 18.807628745648291),\n",
       " (22.300000000000001, 27.436052450240854),\n",
       " (11.300000000000001, 14.190587065840919),\n",
       " (28.399999999999999, 28.6532063451222),\n",
       " (20.800000000000001, 23.482337258472388),\n",
       " (19.5, 20.415174701098437),\n",
       " (32.0, 33.878533819393525),\n",
       " (27.5, 24.700809753214791),\n",
       " (12.699999999999999, 18.63884382240996),\n",
       " (39.799999999999997, 34.373947026624414),\n",
       " (16.300000000000001, 12.020628172528175),\n",
       " (19.300000000000001, 22.022063079048088),\n",
       " (23.800000000000001, 23.639336339677111),\n",
       " (26.399999999999999, 29.009333065826837),\n",
       " (23.0, 23.46083821983796),\n",
       " (18.5, 19.062400347788287),\n",
       " (23.899999999999999, 28.232975968606226),\n",
       " (18.199999999999999, 19.309053775574508),\n",
       " (30.100000000000001, 25.187300842152588),\n",
       " (31.699999999999999, 33.223305849823788),\n",
       " (24.699999999999999, 24.257128734381446),\n",
       " (17.5, 16.568658041856924),\n",
       " (50.0, 40.876810526143068),\n",
       " (17.399999999999999, 23.243315099178144)]"
      ]
     },
     "execution_count": 16,
     "metadata": {},
     "output_type": "execute_result"
    }
   ],
   "source": [
    "zip(y_test, ridgeClf.predict(X_test))"
   ]
  },
  {
   "cell_type": "markdown",
   "metadata": {},
   "source": [
    "#### Calculate R^2 and MSE"
   ]
  },
  {
   "cell_type": "code",
   "execution_count": 17,
   "metadata": {
    "collapsed": false
   },
   "outputs": [
    {
     "data": {
      "text/plain": [
       "0.75534059077366866"
      ]
     },
     "execution_count": 17,
     "metadata": {},
     "output_type": "execute_result"
    }
   ],
   "source": [
    "r2_score(y_test, ridgeClf.predict(X_test)) # or ridgeClf.score(X_test, y_test)"
   ]
  },
  {
   "cell_type": "code",
   "execution_count": 18,
   "metadata": {
    "collapsed": false
   },
   "outputs": [
    {
     "data": {
      "text/plain": [
       "21.860949089493893"
      ]
     },
     "execution_count": 18,
     "metadata": {},
     "output_type": "execute_result"
    }
   ],
   "source": [
    "mean_squared_error(y_test, ridgeClf.predict(X_test))"
   ]
  },
  {
   "cell_type": "markdown",
   "metadata": {},
   "source": [
    "## Optimize regularization parameter (alpha) for Lasso model "
   ]
  },
  {
   "cell_type": "code",
   "execution_count": 19,
   "metadata": {
    "collapsed": false
   },
   "outputs": [
    {
     "name": "stdout",
     "output_type": "stream",
     "text": [
      "Mean alpha:  0.0212704208417\n",
      "Std dev alpha: 0.0236783439153\n"
     ]
    }
   ],
   "source": [
    "#Scratch work\n",
    "## This consists of two phases. The outer loop runs  a number of experiments, given by iters.\n",
    "## Inside the loop, LassoCV iterates through alphasToTry and tests different Lasso models using cross validation, \n",
    "## yielding a Lasso model with an estimated alpha. We take these different estimates for alpha over the experiments\n",
    "## and return the mean. This is not likely to be the *best* estimate for any particular train:test split, but it will\n",
    "## help reduce the average error in alpha over the possible splits. This will be used in my final, optimized Lasso model.\n",
    "import numpy as np\n",
    "from numpy import array\n",
    "from sklearn.linear_model import LassoCV\n",
    "iters = 50 #Adjusted by hand \n",
    "alphaResults = np.zeros(iters)\n",
    "alphasToTry = np.linspace(0.001,2,500) #The space was chosen based on some empirical fiddling\n",
    "for i in xrange(iters):\n",
    "    X_cv_train, X_cv_test, y_cv_train, y_cv_test = train_test_split(X_train,y_train) #Split off some of X_train for validation\n",
    "    lassoClf = LassoCV(alphas=array(alphasToTry), cv=4) \n",
    "    lassoClf.fit(X_cv_train, y_cv_train)\n",
    "    alphaResults[i]=lassoClf.alpha_\n",
    "    #print lassoClf.alpha_\n",
    "print \"Mean alpha: \",np.mean(alphaResults)\n",
    "print \"Std dev alpha:\", np.std(alphaResults)"
   ]
  },
  {
   "cell_type": "markdown",
   "metadata": {},
   "source": [
    "#### Final Lasso model and relevant stats"
   ]
  },
  {
   "cell_type": "code",
   "execution_count": 20,
   "metadata": {
    "collapsed": false
   },
   "outputs": [
    {
     "data": {
      "text/plain": [
       "(0.75551861042838553, 21.845042574306106)"
      ]
     },
     "execution_count": 20,
     "metadata": {},
     "output_type": "execute_result"
    }
   ],
   "source": [
    "#Run on original test set\n",
    "lassoClf = Lasso(alpha=np.mean(alphaResults)) \n",
    "lassoClf.fit(X_train, y_train)\n",
    "(r2_score(y_test, lassoClf.predict(X_test)),mean_squared_error(y_test, lassoClf.predict(X_test)))"
   ]
  },
  {
   "cell_type": "markdown",
   "metadata": {},
   "source": [
    "Note that generally, the R2 and MSE error scores are improved relative to the model with default alpha=1."
   ]
  },
  {
   "cell_type": "markdown",
   "metadata": {},
   "source": [
    "## Optimize regularization parameter (alpha) for Ridge model\n",
    "\n",
    "Here, we will mimic the way we treated the Lasso model, using RidgeCV in lieu of LassoCV"
   ]
  },
  {
   "cell_type": "code",
   "execution_count": 21,
   "metadata": {
    "collapsed": false
   },
   "outputs": [
    {
     "name": "stdout",
     "output_type": "stream",
     "text": [
      "Mean alpha:  8.92897619048\n",
      "Std dev alpha: 4.24079923909\n"
     ]
    }
   ],
   "source": [
    "import numpy as np\n",
    "from sklearn.linear_model import RidgeCV\n",
    "iters = 30 #Adjusted by hand \n",
    "alphaResults = np.zeros(iters)\n",
    "alphasToTry = np.linspace(0.001,15,50) #This space was also chosen based on some empirical fiddling.\n",
    "for i in xrange(iters):\n",
    "    X_cv_train, X_cv_test, y_cv_train, y_cv_test = train_test_split(X_train,y_train) #Split off some of X_train for validation\n",
    "    ridgeClf = RidgeCV(alphas=array(alphasToTry), cv=4) \n",
    "    ridgeClf.fit(X_cv_train, y_cv_train)\n",
    "    alphaResults[i]=ridgeClf.alpha_\n",
    "    #print ridgeClf.alpha_\n",
    "print \"Mean alpha: \",np.mean(alphaResults)\n",
    "print \"Std dev alpha:\", np.std(alphaResults)"
   ]
  },
  {
   "cell_type": "markdown",
   "metadata": {
    "collapsed": false
   },
   "source": [
    "#### Final Ridge model and relevant stats"
   ]
  },
  {
   "cell_type": "code",
   "execution_count": 22,
   "metadata": {
    "collapsed": false
   },
   "outputs": [
    {
     "data": {
      "text/plain": [
       "(0.7555304886663301, 21.843981223116714)"
      ]
     },
     "execution_count": 22,
     "metadata": {},
     "output_type": "execute_result"
    }
   ],
   "source": [
    "#Run on original test set\n",
    "ridgeClf = Ridge(alpha=np.mean(alphaResults)) \n",
    "ridgeClf.fit(X_train, y_train)\n",
    "(r2_score(y_test, ridgeClf.predict(X_test)),mean_squared_error(y_test, ridgeClf.predict(X_test)))"
   ]
  },
  {
   "cell_type": "markdown",
   "metadata": {},
   "source": [
    "Similar to the case with Lasso, this choice of alpha for Ridge tends show (roughly) equivalent or better R2 and MSE scores than the default alpha=1 on the test set, though it appears that Ridge is not nearly as sensitive as Lasso to the optimization of this parameter."
   ]
  }
 ],
 "metadata": {
  "kernelspec": {
   "display_name": "Python 2",
   "language": "python",
   "name": "python2"
  },
  "language_info": {
   "codemirror_mode": {
    "name": "ipython",
    "version": 2
   },
   "file_extension": ".py",
   "mimetype": "text/x-python",
   "name": "python",
   "nbconvert_exporter": "python",
   "pygments_lexer": "ipython2",
   "version": "2.7.11"
  }
 },
 "nbformat": 4,
 "nbformat_minor": 0
}
