{
 "cells": [
  {
   "cell_type": "markdown",
   "metadata": {},
   "source": [
    "# Logistic Regression with the Titanic\n",
    "\n",
    "### Due 03/07/2016\n",
    "### By Jacob Metzger\n",
    "\n",
    "Goal: Create a logistic regression model to predict survival on the Titanic.\n",
    "* The model will be validated against a random 20% holdout using the train_test_split function."
   ]
  },
  {
   "cell_type": "code",
   "execution_count": 94,
   "metadata": {
    "collapsed": true
   },
   "outputs": [],
   "source": [
    "from __future__ import division #for floating division\n",
    "import pandas as pd\n",
    "import numpy as np\n",
    "from sklearn.metrics import roc_auc_score, accuracy_score\n",
    "%matplotlib inline\n",
    "np.random.seed(314) # Set for reproducibility. "
   ]
  },
  {
   "cell_type": "code",
   "execution_count": 95,
   "metadata": {
    "collapsed": false
   },
   "outputs": [],
   "source": [
    "# The following is clipped from the Random Forests == Awesome notebook in the course notes\n",
    "\n",
    "# Here is a simple function to show descriptive stats on the categorical variables\n",
    "def describe_categorical(X):\n",
    "    \"\"\"\n",
    "    Just like .describe(), but returns the results for\n",
    "    categorical variables only.\n",
    "    \"\"\"\n",
    "    from IPython.display import display, HTML\n",
    "    display(HTML(X[X.columns[X.dtypes == \"object\"]].describe().to_html()))"
   ]
  },
  {
   "cell_type": "code",
   "execution_count": 96,
   "metadata": {
    "collapsed": false
   },
   "outputs": [],
   "source": [
    "#Another function taken from the Random Forests == Awesome notebook from the course page\n",
    "\n",
    "# Look at all the columns in the dataset\n",
    "def printall(X, max_rows=10):\n",
    "    from IPython.display import display, HTML\n",
    "    display(HTML(X.to_html(max_rows=max_rows)))"
   ]
  },
  {
   "cell_type": "markdown",
   "metadata": {},
   "source": [
    "### Data processing functions/options"
   ]
  },
  {
   "cell_type": "code",
   "execution_count": 97,
   "metadata": {
    "collapsed": false
   },
   "outputs": [],
   "source": [
    "#Handle PassengerId\n",
    "def handlePassengerId(X):\n",
    "    return X #don't do anything\n",
    "\n",
    "def dropPassengerId(X):\n",
    "    return X.drop([\"PassengerId\"], axis=1) #Drop the PassengerId at the onset -- any value this variable has is elusive"
   ]
  },
  {
   "cell_type": "code",
   "execution_count": 98,
   "metadata": {
    "collapsed": false
   },
   "outputs": [],
   "source": [
    "#Handle Ticket\n",
    "def handleTicket(X): #Handles ticket by splitting the ticket number and ticket prefix, providing the number and a boolean variable instead\n",
    "    ticketsSplit = [_.split(\" \") for _ in X.Ticket] #split the ticket codes into prefix and number\n",
    "    ticketNumbers = [int(_[-1]) if _[-1]!='LINE' else 0 for _ in ticketsSplit] \n",
    "    ticketNumbersTransform = np.log(np.array(ticketNumbers)+1)\n",
    "    hasTicketPrefix = [1 if _.__len__()>1 else 0 for _ in ticketsSplit] \n",
    "    X = pd.concat([X, pd.DataFrame(ticketNumbersTransform, columns=['TicketNumTrans']), pd.DataFrame(hasTicketPrefix, columns=[\"HasTicketPrefix\"])], axis=1)\n",
    "    X=X.drop([\"Ticket\"], axis=1)\n",
    "    return X\n",
    "\n",
    "def dropTicket(X):\n",
    "    return X.drop([\"Ticket\"], axis=1)"
   ]
  },
  {
   "cell_type": "code",
   "execution_count": 99,
   "metadata": {
    "collapsed": false
   },
   "outputs": [],
   "source": [
    "#Handle Name\n",
    "def handleName(X): #Handles Name by taking the prefix, correcting for some odd values, and providing dummy variables\n",
    "    prefixes = [name.split(\",\")[1].split(\" \")[1] for name in X.Name]\n",
    "    for i, item in enumerate(prefixes):\n",
    "        if prefixes[i] in [\"Mr.\", \"Miss.\", \"Mrs.\", \"Master.\"]:\n",
    "            #do nothing\n",
    "            pass\n",
    "        elif prefixes[i] in [\"Mlle.\"]:\n",
    "            prefixes[i]=\"Miss.\"\n",
    "        elif prefixes[i] in [\"Ms.\", \"Mme.\"]:\n",
    "            prefixes[i]=\"Mrs.\"\n",
    "        elif prefixes[i] in [\"Jonkheer.\", \"Sir.\", \"Don.\"]:\n",
    "            prefixes[i] = \"Nobility\"\n",
    "        elif prefixes[i] in [\"Lady.\", \"the\"]: #\"the\" is for the countess\n",
    "            prefixes[i] = \"Nobility\"\n",
    "        elif prefixes[i] in [\"Col.\", \"Major.\", \"Capt.\"]:\n",
    "            prefixes[i]=\"CrewMember\"\n",
    "        elif prefixes[i] in [\"Dr.\", \"Rev.\"]:\n",
    "            prefixes[i]=\"CrewMember\"\n",
    "        else:\n",
    "            print item # There should be no output if all prefixes are handled correctly!\n",
    "    X = pd.concat([X, pd.get_dummies(prefixes)], axis=1)\n",
    "    X = X.drop([\"Name\", \"Mr.\"], axis=1)\n",
    "    return X\n",
    "\n",
    "def dropName(X):\n",
    "    return X.drop([\"Name\"], axis=1)"
   ]
  },
  {
   "cell_type": "code",
   "execution_count": 100,
   "metadata": {
    "collapsed": false
   },
   "outputs": [],
   "source": [
    "#Handle SibSp\n",
    "def handleSibSp(X): #Handles SibSp with a mathematical transform\n",
    "    X = pd.concat([X, pd.DataFrame([np.exp(-1/(x+1)**2) for x in X.SibSp], columns=[\"SibSpTransform\"])], axis=1)\n",
    "    X = X.drop(['SibSp'], axis=1)\n",
    "    return X\n",
    "\n",
    "def dropSibSp(X):\n",
    "    return X.drop([\"SibSp\"], axis=1)"
   ]
  },
  {
   "cell_type": "code",
   "execution_count": 101,
   "metadata": {
    "collapsed": false
   },
   "outputs": [],
   "source": [
    "#Handle Parch\n",
    "def handleParch(X): #Handles Parch with a mathematical transform\n",
    "    X = pd.concat([X, pd.DataFrame([np.exp(-1/(x+1)**2) for x in X.Parch], columns=[\"ParchTransform\"])], axis=1)\n",
    "    X = X.drop(['Parch'], axis=1)\n",
    "    return X\n",
    "\n",
    "def dropParch(X):\n",
    "    return X.drop(['Parch'], axis=1)"
   ]
  },
  {
   "cell_type": "code",
   "execution_count": 102,
   "metadata": {
    "collapsed": false
   },
   "outputs": [],
   "source": [
    "#Handle Cabin\n",
    "def handleCabin(X): #Handles cabin by providing both a cabin count (imputing a mean, when necessary) and the cabin letter\n",
    "    cabinSplit = [str(_).split(\" \") for _ in X.Cabin] #tokenize the cabins\n",
    "    cabinsFinalSplit = [[cabin if cabin==\"nan\" else [cabin[0],cabin[1:]] for cabin in cabins] for cabins in cabinSplit] \n",
    "\n",
    "    numCabins = [0 if _[0]==\"nan\" else _.__len__() for _ in cabinsFinalSplit ]\n",
    "    X = pd.concat([X, pd.DataFrame(numCabins, columns=[\"NumCabins\"])], axis=1)\n",
    "    X.NumCabins=X.NumCabins.replace(0, X.NumCabins.mean())\n",
    "\n",
    "    cabinLetters = [\"None\" if cabin[0]==\"nan\" else cabin[0][0] for cabin in cabinsFinalSplit]\n",
    "    X=pd.concat([X, pd.get_dummies(pd.DataFrame(cabinLetters, columns=[\"CabinLetters\"]))], axis=1)\n",
    "    X=X.drop([\"Cabin\", \"CabinLetters_B\"], axis=1)\n",
    "    \n",
    "    return X\n",
    "\n",
    "def dropCabin(X):\n",
    "    return X.drop([\"Cabin\"], axis=1)"
   ]
  },
  {
   "cell_type": "code",
   "execution_count": 103,
   "metadata": {
    "collapsed": false
   },
   "outputs": [],
   "source": [
    "#Handle PClass\n",
    "def handlePclass(X): #Provides dummy variables for Pclass\n",
    "    X = pd.concat([X, pd.get_dummies(X.Pclass)], axis=1)\n",
    "    X = X.drop([\"Pclass\", 3], axis=1)\n",
    "    return X\n",
    "\n",
    "def dropPclass(X):\n",
    "    return X.drop([\"Pclass\"], axis=1)"
   ]
  },
  {
   "cell_type": "code",
   "execution_count": 104,
   "metadata": {
    "collapsed": false
   },
   "outputs": [],
   "source": [
    "#Handle Sex\n",
    "def handleSex(X): #Provides dummy variables for Sex\n",
    "    X.Sex = pd.get_dummies(X.Sex).female #Just replace the Sex column altogether\n",
    "    return X\n",
    "\n",
    "def dropSex(X):\n",
    "    return X.drop([\"Sex\"], axis=1)"
   ]
  },
  {
   "cell_type": "code",
   "execution_count": 105,
   "metadata": {
    "collapsed": false
   },
   "outputs": [],
   "source": [
    "#Handle Embarked\n",
    "def handleEmbarked(X): #Provides dummy variables for Embarked after imputing missing values with the mode\n",
    "    X.Embarked = X.Embarked.fillna(X.Embarked.mode())\n",
    "    X = pd.concat([X, pd.get_dummies(X.Embarked)], axis=1)\n",
    "    X = X.drop([\"Embarked\", \"C\"], axis=1)\n",
    "    return X\n",
    "\n",
    "def dropEmbarked(X):\n",
    "    return X.drop([\"Embarked\"], axis=1)"
   ]
  },
  {
   "cell_type": "code",
   "execution_count": 106,
   "metadata": {
    "collapsed": false
   },
   "outputs": [],
   "source": [
    "#Handle Fare\n",
    "def handleFare(X): #Handles Fare by imputing the mean into N/A and 0 values\n",
    "    originalFare = X.Fare\n",
    "    X.Fare = X.Fare.fillna(originalFare.mean())\n",
    "    X.Fare = X.Fare.replace(0, originalFare.mean()) #It seems odd to have zero fares... Probably outliers anyway, so impute them.\n",
    "    return X\n",
    "    \n",
    "def binFare(X): #Handles Fare by binning it into a set of bins\n",
    "    numFareBins = 10\n",
    "    fareBins = pd.cut(X.Fare, numFareBins, labels=[str(_)+\"Fare\" for _ in range(0, numFareBins, 1)])\n",
    "    X = pd.concat([X, pd.get_dummies(fareBins)], axis=1)\n",
    "    X = X.drop([\"Fare\", \"0Fare\"], axis=1)\n",
    "    return X\n",
    "    \n",
    "def logFare(X): #Handles Fare with a log transform\n",
    "    X.Fare = np.log(X.Fare+1)\n",
    "    return X\n",
    "    \n",
    "def dropFare(X):\n",
    "    return X.drop([\"Fare\"], axis=1)"
   ]
  },
  {
   "cell_type": "code",
   "execution_count": 107,
   "metadata": {
    "collapsed": false
   },
   "outputs": [],
   "source": [
    "#Handle Age\n",
    "def handleAge(X): #Fills missing values of Age with the predictions of a Random Forest regression on the other variables\n",
    "    ageDataset=X.dropna(axis=0)\n",
    "    ageTarget = pd.DataFrame(ageDataset.Age)\n",
    "    ageDataset = ageDataset.drop([\"Age\"], axis=1)\n",
    "\n",
    "    import numpy\n",
    "    datasetMissingAgeVals = X[numpy.isnan(X.Age)]\n",
    "    datasetMissingAgeVals = datasetMissingAgeVals.drop([\"Age\"], axis=1)\n",
    "\n",
    "    from sklearn.ensemble import RandomForestRegressor\n",
    "    ageClassifier= RandomForestRegressor(n_estimators=1000, random_state=314)\n",
    "    ageClassifier.fit(ageDataset, ageTarget.astype(int))\n",
    "    guessedAges = ageClassifier.predict(datasetMissingAgeVals)\n",
    "\n",
    "    counter=0\n",
    "    for row in xrange(0,len(X.Age)):\n",
    "        if numpy.isnan(X.Age[row]):\n",
    "            X.Age[row]=guessedAges[counter]\n",
    "            counter+=1\n",
    "    return X\n",
    "\n",
    "def dropAge(X):\n",
    "    return X.drop([\"Age\"], axis=1)\n",
    "\n",
    "def binAge(X): #Handles Age by first getting the values filled then binning into categories Child, Adult, and Elderly\n",
    "    X = handleAge(X)\n",
    "    from collections import defaultdict\n",
    "    triBins = defaultdict(str)\n",
    "    for i in xrange(len(X.Age)):\n",
    "        if X.Age.iloc[i]<16:\n",
    "            triBins[i]=\"Child\"\n",
    "        elif X.Age.iloc[i]<55:\n",
    "            triBins[i]=\"Adult\"\n",
    "        else:\n",
    "            triBins[i]=\"Elderly\"\n",
    "    X = pd.concat([X, pd.get_dummies(triBins)], axis=1)\n",
    "    X = X.drop([\"Child\"], axis=1)\n",
    "    X = X.drop([\"Age\"], axis=1)\n",
    "    return X\n",
    "\n",
    "def meanAge(X): #Imputes missing values of Age with the mean\n",
    "    X.Age = X.Age.fillna(X.Age.mean())\n",
    "    return X"
   ]
  },
  {
   "cell_type": "markdown",
   "metadata": {},
   "source": [
    "## Begin Work"
   ]
  },
  {
   "cell_type": "code",
   "execution_count": 108,
   "metadata": {
    "collapsed": true
   },
   "outputs": [],
   "source": [
    "titanicDataset = pd.read_csv(\"train.csv\")\n",
    "X = titanicDataset.drop([\"Survived\"], axis=1)\n",
    "y = titanicDataset.Survived"
   ]
  },
  {
   "cell_type": "code",
   "execution_count": 109,
   "metadata": {
    "collapsed": false,
    "scrolled": false
   },
   "outputs": [
    {
     "data": {
      "text/html": [
       "<div>\n",
       "<table border=\"1\" class=\"dataframe\">\n",
       "  <thead>\n",
       "    <tr style=\"text-align: right;\">\n",
       "      <th></th>\n",
       "      <th>PassengerId</th>\n",
       "      <th>Pclass</th>\n",
       "      <th>Age</th>\n",
       "      <th>SibSp</th>\n",
       "      <th>Parch</th>\n",
       "      <th>Fare</th>\n",
       "    </tr>\n",
       "  </thead>\n",
       "  <tbody>\n",
       "    <tr>\n",
       "      <th>count</th>\n",
       "      <td>891.000000</td>\n",
       "      <td>891.000000</td>\n",
       "      <td>714.000000</td>\n",
       "      <td>891.000000</td>\n",
       "      <td>891.000000</td>\n",
       "      <td>891.000000</td>\n",
       "    </tr>\n",
       "    <tr>\n",
       "      <th>mean</th>\n",
       "      <td>446.000000</td>\n",
       "      <td>2.308642</td>\n",
       "      <td>29.699118</td>\n",
       "      <td>0.523008</td>\n",
       "      <td>0.381594</td>\n",
       "      <td>32.204208</td>\n",
       "    </tr>\n",
       "    <tr>\n",
       "      <th>std</th>\n",
       "      <td>257.353842</td>\n",
       "      <td>0.836071</td>\n",
       "      <td>14.526497</td>\n",
       "      <td>1.102743</td>\n",
       "      <td>0.806057</td>\n",
       "      <td>49.693429</td>\n",
       "    </tr>\n",
       "    <tr>\n",
       "      <th>min</th>\n",
       "      <td>1.000000</td>\n",
       "      <td>1.000000</td>\n",
       "      <td>0.420000</td>\n",
       "      <td>0.000000</td>\n",
       "      <td>0.000000</td>\n",
       "      <td>0.000000</td>\n",
       "    </tr>\n",
       "    <tr>\n",
       "      <th>25%</th>\n",
       "      <td>223.500000</td>\n",
       "      <td>2.000000</td>\n",
       "      <td>20.125000</td>\n",
       "      <td>0.000000</td>\n",
       "      <td>0.000000</td>\n",
       "      <td>7.910400</td>\n",
       "    </tr>\n",
       "    <tr>\n",
       "      <th>50%</th>\n",
       "      <td>446.000000</td>\n",
       "      <td>3.000000</td>\n",
       "      <td>28.000000</td>\n",
       "      <td>0.000000</td>\n",
       "      <td>0.000000</td>\n",
       "      <td>14.454200</td>\n",
       "    </tr>\n",
       "    <tr>\n",
       "      <th>75%</th>\n",
       "      <td>668.500000</td>\n",
       "      <td>3.000000</td>\n",
       "      <td>38.000000</td>\n",
       "      <td>1.000000</td>\n",
       "      <td>0.000000</td>\n",
       "      <td>31.000000</td>\n",
       "    </tr>\n",
       "    <tr>\n",
       "      <th>max</th>\n",
       "      <td>891.000000</td>\n",
       "      <td>3.000000</td>\n",
       "      <td>80.000000</td>\n",
       "      <td>8.000000</td>\n",
       "      <td>6.000000</td>\n",
       "      <td>512.329200</td>\n",
       "    </tr>\n",
       "  </tbody>\n",
       "</table>\n",
       "</div>"
      ],
      "text/plain": [
       "       PassengerId      Pclass         Age       SibSp       Parch        Fare\n",
       "count   891.000000  891.000000  714.000000  891.000000  891.000000  891.000000\n",
       "mean    446.000000    2.308642   29.699118    0.523008    0.381594   32.204208\n",
       "std     257.353842    0.836071   14.526497    1.102743    0.806057   49.693429\n",
       "min       1.000000    1.000000    0.420000    0.000000    0.000000    0.000000\n",
       "25%     223.500000    2.000000   20.125000    0.000000    0.000000    7.910400\n",
       "50%     446.000000    3.000000   28.000000    0.000000    0.000000   14.454200\n",
       "75%     668.500000    3.000000   38.000000    1.000000    0.000000   31.000000\n",
       "max     891.000000    3.000000   80.000000    8.000000    6.000000  512.329200"
      ]
     },
     "execution_count": 109,
     "metadata": {},
     "output_type": "execute_result"
    }
   ],
   "source": [
    "X.describe()"
   ]
  },
  {
   "cell_type": "code",
   "execution_count": 110,
   "metadata": {
    "collapsed": false
   },
   "outputs": [
    {
     "data": {
      "text/html": [
       "<table border=\"1\" class=\"dataframe\">\n",
       "  <thead>\n",
       "    <tr style=\"text-align: right;\">\n",
       "      <th></th>\n",
       "      <th>Name</th>\n",
       "      <th>Sex</th>\n",
       "      <th>Ticket</th>\n",
       "      <th>Cabin</th>\n",
       "      <th>Embarked</th>\n",
       "    </tr>\n",
       "  </thead>\n",
       "  <tbody>\n",
       "    <tr>\n",
       "      <th>count</th>\n",
       "      <td>891</td>\n",
       "      <td>891</td>\n",
       "      <td>891</td>\n",
       "      <td>204</td>\n",
       "      <td>889</td>\n",
       "    </tr>\n",
       "    <tr>\n",
       "      <th>unique</th>\n",
       "      <td>891</td>\n",
       "      <td>2</td>\n",
       "      <td>681</td>\n",
       "      <td>147</td>\n",
       "      <td>3</td>\n",
       "    </tr>\n",
       "    <tr>\n",
       "      <th>top</th>\n",
       "      <td>Graham, Mr. George Edward</td>\n",
       "      <td>male</td>\n",
       "      <td>CA. 2343</td>\n",
       "      <td>C23 C25 C27</td>\n",
       "      <td>S</td>\n",
       "    </tr>\n",
       "    <tr>\n",
       "      <th>freq</th>\n",
       "      <td>1</td>\n",
       "      <td>577</td>\n",
       "      <td>7</td>\n",
       "      <td>4</td>\n",
       "      <td>644</td>\n",
       "    </tr>\n",
       "  </tbody>\n",
       "</table>"
      ],
      "text/plain": [
       "<IPython.core.display.HTML object>"
      ]
     },
     "metadata": {},
     "output_type": "display_data"
    }
   ],
   "source": [
    "describe_categorical(X) "
   ]
  },
  {
   "cell_type": "code",
   "execution_count": 111,
   "metadata": {
    "collapsed": false
   },
   "outputs": [
    {
     "name": "stderr",
     "output_type": "stream",
     "text": [
      "C:\\Users\\Izzy\\Anaconda2\\lib\\site-packages\\ipykernel\\__main__.py:13: DataConversionWarning: A column-vector y was passed when a 1d array was expected. Please change the shape of y to (n_samples,), for example using ravel().\n",
      "C:\\Users\\Izzy\\Anaconda2\\lib\\site-packages\\ipykernel\\__main__.py:19: SettingWithCopyWarning: \n",
      "A value is trying to be set on a copy of a slice from a DataFrame\n",
      "\n",
      "See the caveats in the documentation: http://pandas.pydata.org/pandas-docs/stable/indexing.html#indexing-view-versus-copy\n"
     ]
    }
   ],
   "source": [
    "#Process data here\n",
    "#The variables presented to the model are altered by the processing done here.\n",
    "\n",
    "X = dropPassengerId(X)\n",
    "\n",
    "#X = handlePclass(X)\n",
    "X = dropPclass(X)\n",
    "\n",
    "X = handleName(X)\n",
    "#X = dropName(X)\n",
    "\n",
    "X = handleSex(X)\n",
    "#X = dropSex(X)\n",
    "\n",
    "#X = handleSibSp(X)\n",
    "#X = dropSibSp(X)\n",
    "\n",
    "#X = handleParch(X)\n",
    "#X = dropParch(X)\n",
    "\n",
    "#X = handleTicket(X)\n",
    "X = dropTicket(X)\n",
    "\n",
    "#X = handleFare(X)\n",
    "#X = binFare(X)\n",
    "X = logFare(X)\n",
    "#X = dropFare(X)\n",
    "\n",
    "X = handleCabin(X)\n",
    "#X = dropCabin(X)\n",
    "\n",
    "X = handleEmbarked(X)\n",
    "#X = dropEmbarked(X)\n",
    "\n",
    "#X = handleAge(X)  # Do this last because of the way we're imputing Age\n",
    "X = binAge(X)\n",
    "#X = meanAge(X)\n",
    "#X = dropAge(X)"
   ]
  },
  {
   "cell_type": "code",
   "execution_count": 112,
   "metadata": {
    "collapsed": false
   },
   "outputs": [
    {
     "data": {
      "text/html": [
       "<div>\n",
       "<table border=\"1\" class=\"dataframe\">\n",
       "  <thead>\n",
       "    <tr style=\"text-align: right;\">\n",
       "      <th></th>\n",
       "      <th>Sex</th>\n",
       "      <th>SibSp</th>\n",
       "      <th>Parch</th>\n",
       "      <th>Fare</th>\n",
       "      <th>CrewMember</th>\n",
       "      <th>Master.</th>\n",
       "      <th>Miss.</th>\n",
       "      <th>Mrs.</th>\n",
       "      <th>Nobility</th>\n",
       "      <th>NumCabins</th>\n",
       "      <th>...</th>\n",
       "      <th>CabinLetters_D</th>\n",
       "      <th>CabinLetters_E</th>\n",
       "      <th>CabinLetters_F</th>\n",
       "      <th>CabinLetters_G</th>\n",
       "      <th>CabinLetters_None</th>\n",
       "      <th>CabinLetters_T</th>\n",
       "      <th>Q</th>\n",
       "      <th>S</th>\n",
       "      <th>Adult</th>\n",
       "      <th>Elderly</th>\n",
       "    </tr>\n",
       "  </thead>\n",
       "  <tbody>\n",
       "    <tr>\n",
       "      <th>count</th>\n",
       "      <td>891.000000</td>\n",
       "      <td>891.000000</td>\n",
       "      <td>891.000000</td>\n",
       "      <td>891.000000</td>\n",
       "      <td>891.000000</td>\n",
       "      <td>891.000000</td>\n",
       "      <td>891.000000</td>\n",
       "      <td>891.000000</td>\n",
       "      <td>891.000000</td>\n",
       "      <td>891.000000</td>\n",
       "      <td>...</td>\n",
       "      <td>891.000000</td>\n",
       "      <td>891.000000</td>\n",
       "      <td>891.000000</td>\n",
       "      <td>891.000000</td>\n",
       "      <td>891.000000</td>\n",
       "      <td>891.000000</td>\n",
       "      <td>891.000000</td>\n",
       "      <td>891.000000</td>\n",
       "      <td>891.000000</td>\n",
       "      <td>891.000000</td>\n",
       "    </tr>\n",
       "    <tr>\n",
       "      <th>mean</th>\n",
       "      <td>0.352413</td>\n",
       "      <td>0.523008</td>\n",
       "      <td>0.381594</td>\n",
       "      <td>2.962246</td>\n",
       "      <td>0.020202</td>\n",
       "      <td>0.044893</td>\n",
       "      <td>0.206510</td>\n",
       "      <td>0.142536</td>\n",
       "      <td>0.005612</td>\n",
       "      <td>0.473073</td>\n",
       "      <td>...</td>\n",
       "      <td>0.037037</td>\n",
       "      <td>0.035915</td>\n",
       "      <td>0.014590</td>\n",
       "      <td>0.004489</td>\n",
       "      <td>0.771044</td>\n",
       "      <td>0.001122</td>\n",
       "      <td>0.086420</td>\n",
       "      <td>0.722783</td>\n",
       "      <td>0.847363</td>\n",
       "      <td>0.048260</td>\n",
       "    </tr>\n",
       "    <tr>\n",
       "      <th>std</th>\n",
       "      <td>0.477990</td>\n",
       "      <td>1.102743</td>\n",
       "      <td>0.806057</td>\n",
       "      <td>0.969048</td>\n",
       "      <td>0.140770</td>\n",
       "      <td>0.207186</td>\n",
       "      <td>0.405028</td>\n",
       "      <td>0.349796</td>\n",
       "      <td>0.074743</td>\n",
       "      <td>0.449236</td>\n",
       "      <td>...</td>\n",
       "      <td>0.188959</td>\n",
       "      <td>0.186182</td>\n",
       "      <td>0.119973</td>\n",
       "      <td>0.066890</td>\n",
       "      <td>0.420397</td>\n",
       "      <td>0.033501</td>\n",
       "      <td>0.281141</td>\n",
       "      <td>0.447876</td>\n",
       "      <td>0.359840</td>\n",
       "      <td>0.214436</td>\n",
       "    </tr>\n",
       "    <tr>\n",
       "      <th>min</th>\n",
       "      <td>0.000000</td>\n",
       "      <td>0.000000</td>\n",
       "      <td>0.000000</td>\n",
       "      <td>0.000000</td>\n",
       "      <td>0.000000</td>\n",
       "      <td>0.000000</td>\n",
       "      <td>0.000000</td>\n",
       "      <td>0.000000</td>\n",
       "      <td>0.000000</td>\n",
       "      <td>0.267116</td>\n",
       "      <td>...</td>\n",
       "      <td>0.000000</td>\n",
       "      <td>0.000000</td>\n",
       "      <td>0.000000</td>\n",
       "      <td>0.000000</td>\n",
       "      <td>0.000000</td>\n",
       "      <td>0.000000</td>\n",
       "      <td>0.000000</td>\n",
       "      <td>0.000000</td>\n",
       "      <td>0.000000</td>\n",
       "      <td>0.000000</td>\n",
       "    </tr>\n",
       "    <tr>\n",
       "      <th>25%</th>\n",
       "      <td>0.000000</td>\n",
       "      <td>0.000000</td>\n",
       "      <td>0.000000</td>\n",
       "      <td>2.187218</td>\n",
       "      <td>0.000000</td>\n",
       "      <td>0.000000</td>\n",
       "      <td>0.000000</td>\n",
       "      <td>0.000000</td>\n",
       "      <td>0.000000</td>\n",
       "      <td>0.267116</td>\n",
       "      <td>...</td>\n",
       "      <td>0.000000</td>\n",
       "      <td>0.000000</td>\n",
       "      <td>0.000000</td>\n",
       "      <td>0.000000</td>\n",
       "      <td>1.000000</td>\n",
       "      <td>0.000000</td>\n",
       "      <td>0.000000</td>\n",
       "      <td>0.000000</td>\n",
       "      <td>1.000000</td>\n",
       "      <td>0.000000</td>\n",
       "    </tr>\n",
       "    <tr>\n",
       "      <th>50%</th>\n",
       "      <td>0.000000</td>\n",
       "      <td>0.000000</td>\n",
       "      <td>0.000000</td>\n",
       "      <td>2.737881</td>\n",
       "      <td>0.000000</td>\n",
       "      <td>0.000000</td>\n",
       "      <td>0.000000</td>\n",
       "      <td>0.000000</td>\n",
       "      <td>0.000000</td>\n",
       "      <td>0.267116</td>\n",
       "      <td>...</td>\n",
       "      <td>0.000000</td>\n",
       "      <td>0.000000</td>\n",
       "      <td>0.000000</td>\n",
       "      <td>0.000000</td>\n",
       "      <td>1.000000</td>\n",
       "      <td>0.000000</td>\n",
       "      <td>0.000000</td>\n",
       "      <td>1.000000</td>\n",
       "      <td>1.000000</td>\n",
       "      <td>0.000000</td>\n",
       "    </tr>\n",
       "    <tr>\n",
       "      <th>75%</th>\n",
       "      <td>1.000000</td>\n",
       "      <td>1.000000</td>\n",
       "      <td>0.000000</td>\n",
       "      <td>3.465736</td>\n",
       "      <td>0.000000</td>\n",
       "      <td>0.000000</td>\n",
       "      <td>0.000000</td>\n",
       "      <td>0.000000</td>\n",
       "      <td>0.000000</td>\n",
       "      <td>0.267116</td>\n",
       "      <td>...</td>\n",
       "      <td>0.000000</td>\n",
       "      <td>0.000000</td>\n",
       "      <td>0.000000</td>\n",
       "      <td>0.000000</td>\n",
       "      <td>1.000000</td>\n",
       "      <td>0.000000</td>\n",
       "      <td>0.000000</td>\n",
       "      <td>1.000000</td>\n",
       "      <td>1.000000</td>\n",
       "      <td>0.000000</td>\n",
       "    </tr>\n",
       "    <tr>\n",
       "      <th>max</th>\n",
       "      <td>1.000000</td>\n",
       "      <td>8.000000</td>\n",
       "      <td>6.000000</td>\n",
       "      <td>6.240917</td>\n",
       "      <td>1.000000</td>\n",
       "      <td>1.000000</td>\n",
       "      <td>1.000000</td>\n",
       "      <td>1.000000</td>\n",
       "      <td>1.000000</td>\n",
       "      <td>4.000000</td>\n",
       "      <td>...</td>\n",
       "      <td>1.000000</td>\n",
       "      <td>1.000000</td>\n",
       "      <td>1.000000</td>\n",
       "      <td>1.000000</td>\n",
       "      <td>1.000000</td>\n",
       "      <td>1.000000</td>\n",
       "      <td>1.000000</td>\n",
       "      <td>1.000000</td>\n",
       "      <td>1.000000</td>\n",
       "      <td>1.000000</td>\n",
       "    </tr>\n",
       "  </tbody>\n",
       "</table>\n",
       "<p>8 rows × 22 columns</p>\n",
       "</div>"
      ],
      "text/plain": [
       "              Sex       SibSp       Parch        Fare  CrewMember     Master.  \\\n",
       "count  891.000000  891.000000  891.000000  891.000000  891.000000  891.000000   \n",
       "mean     0.352413    0.523008    0.381594    2.962246    0.020202    0.044893   \n",
       "std      0.477990    1.102743    0.806057    0.969048    0.140770    0.207186   \n",
       "min      0.000000    0.000000    0.000000    0.000000    0.000000    0.000000   \n",
       "25%      0.000000    0.000000    0.000000    2.187218    0.000000    0.000000   \n",
       "50%      0.000000    0.000000    0.000000    2.737881    0.000000    0.000000   \n",
       "75%      1.000000    1.000000    0.000000    3.465736    0.000000    0.000000   \n",
       "max      1.000000    8.000000    6.000000    6.240917    1.000000    1.000000   \n",
       "\n",
       "            Miss.        Mrs.    Nobility   NumCabins     ...      \\\n",
       "count  891.000000  891.000000  891.000000  891.000000     ...       \n",
       "mean     0.206510    0.142536    0.005612    0.473073     ...       \n",
       "std      0.405028    0.349796    0.074743    0.449236     ...       \n",
       "min      0.000000    0.000000    0.000000    0.267116     ...       \n",
       "25%      0.000000    0.000000    0.000000    0.267116     ...       \n",
       "50%      0.000000    0.000000    0.000000    0.267116     ...       \n",
       "75%      0.000000    0.000000    0.000000    0.267116     ...       \n",
       "max      1.000000    1.000000    1.000000    4.000000     ...       \n",
       "\n",
       "       CabinLetters_D  CabinLetters_E  CabinLetters_F  CabinLetters_G  \\\n",
       "count      891.000000      891.000000      891.000000      891.000000   \n",
       "mean         0.037037        0.035915        0.014590        0.004489   \n",
       "std          0.188959        0.186182        0.119973        0.066890   \n",
       "min          0.000000        0.000000        0.000000        0.000000   \n",
       "25%          0.000000        0.000000        0.000000        0.000000   \n",
       "50%          0.000000        0.000000        0.000000        0.000000   \n",
       "75%          0.000000        0.000000        0.000000        0.000000   \n",
       "max          1.000000        1.000000        1.000000        1.000000   \n",
       "\n",
       "       CabinLetters_None  CabinLetters_T           Q           S       Adult  \\\n",
       "count         891.000000      891.000000  891.000000  891.000000  891.000000   \n",
       "mean            0.771044        0.001122    0.086420    0.722783    0.847363   \n",
       "std             0.420397        0.033501    0.281141    0.447876    0.359840   \n",
       "min             0.000000        0.000000    0.000000    0.000000    0.000000   \n",
       "25%             1.000000        0.000000    0.000000    0.000000    1.000000   \n",
       "50%             1.000000        0.000000    0.000000    1.000000    1.000000   \n",
       "75%             1.000000        0.000000    0.000000    1.000000    1.000000   \n",
       "max             1.000000        1.000000    1.000000    1.000000    1.000000   \n",
       "\n",
       "          Elderly  \n",
       "count  891.000000  \n",
       "mean     0.048260  \n",
       "std      0.214436  \n",
       "min      0.000000  \n",
       "25%      0.000000  \n",
       "50%      0.000000  \n",
       "75%      0.000000  \n",
       "max      1.000000  \n",
       "\n",
       "[8 rows x 22 columns]"
      ]
     },
     "execution_count": 112,
     "metadata": {},
     "output_type": "execute_result"
    }
   ],
   "source": [
    "X.describe()"
   ]
  },
  {
   "cell_type": "code",
   "execution_count": 113,
   "metadata": {
    "collapsed": false
   },
   "outputs": [],
   "source": [
    "#Scale the set\n",
    "from sklearn.preprocessing import StandardScaler\n",
    "scaler = StandardScaler()\n",
    "X = pd.DataFrame(scaler.fit_transform(X))"
   ]
  },
  {
   "cell_type": "code",
   "execution_count": 114,
   "metadata": {
    "collapsed": true
   },
   "outputs": [],
   "source": [
    "# Make train and test datasets\n",
    "from sklearn.cross_validation import train_test_split\n",
    "X_train, X_test, y_train, y_test = train_test_split(X, y, test_size=.2)"
   ]
  },
  {
   "cell_type": "code",
   "execution_count": 115,
   "metadata": {
    "collapsed": false
   },
   "outputs": [
    {
     "name": "stdout",
     "output_type": "stream",
     "text": [
      "ROC:  0.833564879133\n"
     ]
    }
   ],
   "source": [
    "#ROC point estimate\n",
    "from sklearn.linear_model import LogisticRegression\n",
    "logisticModel = LogisticRegression(C=1)\n",
    "logisticModel.fit(X_train,y_train)\n",
    "print \"ROC: \", roc_auc_score(y_test, logisticModel.predict(X_test))"
   ]
  },
  {
   "cell_type": "code",
   "execution_count": 116,
   "metadata": {
    "collapsed": false
   },
   "outputs": [
    {
     "name": "stdout",
     "output_type": "stream",
     "text": [
      "Populating the interactive namespace from numpy and matplotlib\n"
     ]
    }
   ],
   "source": [
    "#Adapted directly from Week 6 lecture notebook\n",
    "from sklearn.metrics import roc_curve\n",
    "fpr, tpr, thresholds = roc_curve(y_test, logisticModel.predict_proba(X_test)[:,1])\n",
    "%pylab inline"
   ]
  },
  {
   "cell_type": "code",
   "execution_count": 118,
   "metadata": {
    "collapsed": false
   },
   "outputs": [
    {
     "data": {
      "image/png": "[encoded data removed]",
      "text/plain": [
       "<matplotlib.figure.Figure at 0x9d594e0>"
      ]
     },
     "metadata": {},
     "output_type": "display_data"
    }
   ],
   "source": [
    "#Adapted directly from Week 6 lecture notebook\n",
    "# Plot of a ROC curve for a specific class\n",
    "plt.figure()\n",
    "plt.plot(fpr, tpr, label='ROC curve (area = %0.2f)' % roc_auc_score(y_test, logisticModel.predict(X_test)))\n",
    "plt.plot([0, 1], [0, 1], 'k--')\n",
    "plt.xlim([0.0, 1.0])\n",
    "plt.ylim([0.0, 1.05])\n",
    "plt.xlabel('False Positive Rate')\n",
    "plt.ylabel('True Positive Rate')\n",
    "plt.title('Receiver operating characteristic')\n",
    "plt.legend(loc=\"lower right\")\n",
    "plt.show()"
   ]
  },
  {
   "cell_type": "code",
   "execution_count": null,
   "metadata": {
    "collapsed": true
   },
   "outputs": [],
   "source": []
  },
  {
   "cell_type": "code",
   "execution_count": null,
   "metadata": {
    "collapsed": true
   },
   "outputs": [],
   "source": []
  }
 ],
 "metadata": {
  "kernelspec": {
   "display_name": "Python 2",
   "language": "python",
   "name": "python2"
  },
  "language_info": {
   "codemirror_mode": {
    "name": "ipython",
    "version": 2
   },
   "file_extension": ".py",
   "mimetype": "text/x-python",
   "name": "python",
   "nbconvert_exporter": "python",
   "pygments_lexer": "ipython2",
   "version": "2.7.11"
  }
 },
 "nbformat": 4,
 "nbformat_minor": 0
}
